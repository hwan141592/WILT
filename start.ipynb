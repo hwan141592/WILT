{
 "cells": [
  {
   "cell_type": "markdown",
   "metadata": {},
   "source": [
    "## Summary  \n",
    "\n",
    "#### Background  \n",
    " - 260 million children not attending school\n",
    " - more than half : didn't meet the minimum reading and math standards\n",
    " - re-think because of COVID19\n",
    "     - attendence, engagement, and individualized attention  \n",
    " - Riiid Labs launched AI tutor (2017)\n",
    "\n",
    "#### Competition Goal\n",
    " - create algorithm for Knowledge Training\n",
    " - modeling of student knowledgee over time\n",
    " - goal : predict how students will perform on future interactions\n",
    "\n",
    "### Evaluation\n",
    " - area under the ROC curve\n",
    " - between the predicted probability and the observed target\n",
    " - Final Deadline : Jan.7th 23:59.UTC\n",
    "\n",
    "### Prize\n",
    " - 1st ~ 5th : ( $50,000, $30,000, $10,000, $5,000, $5,000)\n",
    " - invite & present models at the AAAI-2021 Workshop on AI Education"
   ]
  },
  {
   "cell_type": "code",
   "execution_count": null,
   "metadata": {},
   "outputs": [],
   "source": []
  }
 ],
 "metadata": {
  "kernelspec": {
   "display_name": "Python 3",
   "language": "python",
   "name": "python3"
  },
  "language_info": {
   "codemirror_mode": {
    "name": "ipython",
    "version": 3
   },
   "file_extension": ".py",
   "mimetype": "text/x-python",
   "name": "python",
   "nbconvert_exporter": "python",
   "pygments_lexer": "ipython3",
   "version": "3.8.3"
  }
 },
 "nbformat": 4,
 "nbformat_minor": 4
}

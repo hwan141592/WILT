{
 "cells": [
  {
   "cell_type": "code",
   "execution_count": 8,
   "id": "90c75287",
   "metadata": {},
   "outputs": [],
   "source": [
    "import numpy as np"
   ]
  },
  {
   "cell_type": "code",
   "execution_count": 46,
   "id": "0ea53f36",
   "metadata": {},
   "outputs": [
    {
     "data": {
      "text/plain": [
       "0.9335756301879883"
      ]
     },
     "execution_count": 46,
     "metadata": {},
     "output_type": "execute_result"
    }
   ],
   "source": [
    "li_a = ['JAN', 'FEB', 'MAR', 'APR', 'MAY', 'JUN', 'JUL', 'AUG', 'SEP', 'OCT', 'NOV', 'DEC']\n",
    "li_b = ['01', '02', '03', '04', '05', '06', '07', '08', '09', '10', '11', '12']\n",
    "\n",
    "def ff(x):\n",
    "    for i in range(len(li_a)):\n",
    "        if x==li_a[i]:\n",
    "            return li_b[i]\n",
    "        elif x!=li_a[i]:\n",
    "            return 'NA'\n",
    "        else:\n",
    "            pass\n",
    "        \n",
    "import time\n",
    "li = [] \n",
    "\n",
    "for i in range(10000):    \n",
    "    tic = time.time()\n",
    "    ff('NOV')\n",
    "    toc = time.time()\n",
    "    li.append((toc - tic) * 1000000)\n",
    "\n",
    "np.mean(li)"
   ]
  },
  {
   "cell_type": "code",
   "execution_count": 56,
   "id": "35afd8a2",
   "metadata": {},
   "outputs": [
    {
     "data": {
      "text/plain": [
       "1.3698577880859375"
      ]
     },
     "execution_count": 56,
     "metadata": {},
     "output_type": "execute_result"
    }
   ],
   "source": [
    "di = {\n",
    "    'JAN':'01', 'FEB':'02', 'MAR':'03', 'APR':'04', 'MAY':'05', 'JUN':'06', \n",
    "    'JUL':'07', 'AUG':'08', 'SEP':'09', 'OCT':'10', 'NOV':'11', 'DEC':'12'\n",
    "}\n",
    "\n",
    "def ff2(x):\n",
    "    for k, v in di.items():\n",
    "        if x==k:\n",
    "            return v\n",
    "        else:\n",
    "            pass\n",
    "\n",
    "import time\n",
    "li = [] \n",
    "\n",
    "for i in range(10000):    \n",
    "    tic = time.time()\n",
    "    ff2('NOV')\n",
    "    toc = time.time()\n",
    "    li.append((toc - tic) * 1000000)\n",
    "\n",
    "np.mean(li)"
   ]
  },
  {
   "cell_type": "code",
   "execution_count": null,
   "id": "c7ab3a2f",
   "metadata": {},
   "outputs": [],
   "source": [
    "di = {\n",
    "    'JAN':'01', 'FEB':'02', 'MAR':'03', 'APR':'04', 'MAY':'05', 'JUN':'06', \n",
    "    'JUL':'07', 'AUG':'08', 'SEP':'09', 'OCT':'10', 'NOV':'11', 'DEC':'12'\n",
    "}\n"
   ]
  },
  {
   "cell_type": "code",
   "execution_count": 67,
   "id": "677e046f",
   "metadata": {},
   "outputs": [
    {
     "data": {
      "text/html": [
       "<div>\n",
       "<style scoped>\n",
       "    .dataframe tbody tr th:only-of-type {\n",
       "        vertical-align: middle;\n",
       "    }\n",
       "\n",
       "    .dataframe tbody tr th {\n",
       "        vertical-align: top;\n",
       "    }\n",
       "\n",
       "    .dataframe thead th {\n",
       "        text-align: right;\n",
       "    }\n",
       "</style>\n",
       "<table border=\"1\" class=\"dataframe\">\n",
       "  <thead>\n",
       "    <tr style=\"text-align: right;\">\n",
       "      <th></th>\n",
       "      <th>01</th>\n",
       "      <th>NaN</th>\n",
       "    </tr>\n",
       "  </thead>\n",
       "  <tbody>\n",
       "    <tr>\n",
       "      <th>0</th>\n",
       "      <td>1</td>\n",
       "      <td>3</td>\n",
       "    </tr>\n",
       "    <tr>\n",
       "      <th>1</th>\n",
       "      <td>2</td>\n",
       "      <td>4</td>\n",
       "    </tr>\n",
       "  </tbody>\n",
       "</table>\n",
       "</div>"
      ],
      "text/plain": [
       "   01  NaN\n",
       "0   1    3\n",
       "1   2    4"
      ]
     },
     "execution_count": 67,
     "metadata": {},
     "output_type": "execute_result"
    }
   ],
   "source": [
    "import pandas as pd\n",
    "\n",
    "di = {\n",
    "    'JAN':'01', 'FEB':'02', 'MAR':'03', 'APR':'04', 'MAY':'05', 'JUN':'06', \n",
    "    'JUL':'07', 'AUG':'08', 'SEP':'09', 'OCT':'10', 'NOV':'11', 'DEC':'12'\n",
    "}\n",
    "\n",
    "df = pd.DataFrame({'JAN':[1,2], 'ddd':[3,4]})\n",
    "df.columns = df.columns.map(di)\n",
    "df"
   ]
  },
  {
   "cell_type": "code",
   "execution_count": 68,
   "id": "ddd249fe",
   "metadata": {},
   "outputs": [
    {
     "name": "stdout",
     "output_type": "stream",
     "text": [
      "Initial stack\n",
      "['a', 'b', 'c']\n",
      "\n",
      "Elements popped from stack:\n",
      "c\n",
      "b\n",
      "a\n",
      "\n",
      "Stack after elements are popped:\n",
      "[]\n"
     ]
    }
   ],
   "source": [
    "stack = []\n",
    " \n",
    "# append() function to push\n",
    "# element in the stack\n",
    "stack.append('a')\n",
    "stack.append('b')\n",
    "stack.append('c')\n",
    " \n",
    "print('Initial stack')\n",
    "print(stack)\n",
    " \n",
    "# pop() function to pop\n",
    "# element from stack in\n",
    "# LIFO order\n",
    "print('\\nElements popped from stack:')\n",
    "print(stack.pop())\n",
    "print(stack.pop())\n",
    "print(stack.pop())\n",
    " \n",
    "print('\\nStack after elements are popped:')\n",
    "print(stack)"
   ]
  },
  {
   "cell_type": "markdown",
   "id": "a0307927",
   "metadata": {},
   "source": [
    "#### algo"
   ]
  },
  {
   "cell_type": "code",
   "execution_count": 72,
   "id": "1f22acf4",
   "metadata": {},
   "outputs": [],
   "source": [
    "nums1 = [4,1,2]; nums2 = [1,3,4,2]\n",
    "# nums1 = [2,4]; nums2 = [1,2,3,4]"
   ]
  },
  {
   "cell_type": "code",
   "execution_count": 99,
   "id": "921008bf",
   "metadata": {},
   "outputs": [
    {
     "name": "stdout",
     "output_type": "stream",
     "text": [
      "2\n"
     ]
    }
   ],
   "source": [
    "# nums1 = [4,1,2]; nums2 = [1,3,4,2]\n",
    "# v1 = 4\n",
    "\n",
    "nums2 = [1,3,4,2]\n",
    "for i in range(len(nums2)):\n",
    "    if nums2[i] == 4:\n",
    "        print(i)   # index of nums2\n",
    "    else:\n",
    "        pass"
   ]
  },
  {
   "cell_type": "code",
   "execution_count": null,
   "id": "d1d604bc",
   "metadata": {},
   "outputs": [],
   "source": [
    "next greater"
   ]
  },
  {
   "cell_type": "code",
   "execution_count": null,
   "id": "b3b0df0d",
   "metadata": {},
   "outputs": [],
   "source": [
    "4를 찾는다 >> 인덱스:2 >> "
   ]
  },
  {
   "cell_type": "code",
   "execution_count": 73,
   "id": "448ab2af",
   "metadata": {},
   "outputs": [
    {
     "name": "stdout",
     "output_type": "stream",
     "text": [
      "4\n",
      "1\n",
      "2\n"
     ]
    }
   ],
   "source": [
    "for e in nums1:\n",
    "    print(e)"
   ]
  },
  {
   "cell_type": "code",
   "execution_count": 76,
   "id": "68634eaf",
   "metadata": {},
   "outputs": [
    {
     "name": "stdout",
     "output_type": "stream",
     "text": [
      "no\n",
      "no\n",
      "4\n",
      "no\n"
     ]
    }
   ],
   "source": [
    "for e2 in nums2:\n",
    "    if e2==4:\n",
    "        print(e2)\n",
    "    else:\n",
    "        print('no')"
   ]
  },
  {
   "cell_type": "code",
   "execution_count": null,
   "id": "10daef87",
   "metadata": {},
   "outputs": [],
   "source": []
  }
 ],
 "metadata": {
  "kernelspec": {
   "display_name": "Python 3 (ipykernel)",
   "language": "python",
   "name": "python3"
  },
  "language_info": {
   "codemirror_mode": {
    "name": "ipython",
    "version": 3
   },
   "file_extension": ".py",
   "mimetype": "text/x-python",
   "name": "python",
   "nbconvert_exporter": "python",
   "pygments_lexer": "ipython3",
   "version": "3.8.2"
  }
 },
 "nbformat": 4,
 "nbformat_minor": 5
}

{
 "cells": [
  {
   "cell_type": "code",
   "execution_count": 3,
   "id": "8e9a6a3e",
   "metadata": {},
   "outputs": [
    {
     "data": {
      "text/plain": [
       "[4, 5, 3, 1, 5, 'NA']"
      ]
     },
     "execution_count": 3,
     "metadata": {},
     "output_type": "execute_result"
    }
   ],
   "source": [
    "orig = {'a':3, 'b':1, 'c':4, 'd':5}\n",
    "li = ['c', 'd', 'a', 'b', 'd', 'NA']\n",
    "li_updated = [orig[x] if x in orig else x for x in li]\n",
    "li_updated"
   ]
  },
  {
   "cell_type": "code",
   "execution_count": 4,
   "id": "a76cd3fe",
   "metadata": {},
   "outputs": [
    {
     "ename": "SyntaxError",
     "evalue": "invalid syntax (453530029.py, line 6)",
     "output_type": "error",
     "traceback": [
      "\u001b[0;36m  File \u001b[0;32m\"/var/folders/0x/wx95jk3n37s0t7ywgmz5jqz40000gn/T/ipykernel_12418/453530029.py\"\u001b[0;36m, line \u001b[0;32m6\u001b[0m\n\u001b[0;31m    ...?\u001b[0m\n\u001b[0m       ^\u001b[0m\n\u001b[0;31mSyntaxError\u001b[0m\u001b[0;31m:\u001b[0m invalid syntax\n"
     ]
    }
   ],
   "source": [
    "orig = {'a':3, 'b':1, 'c':4, 'd':5}\n",
    "li = ['c', 'd', 'a', 'b', 'd', 'NA']\n",
    "\n",
    "def ff(x, orig, li):\n",
    "    li_updated = [orig[x] if x in orig else x for x in li]\n",
    "    for e in li_updated:\n",
    "        \n",
    "    return li_updated[x]"
   ]
  },
  {
   "cell_type": "markdown",
   "id": "220afa6f",
   "metadata": {},
   "source": [
    "#### Quiz"
   ]
  },
  {
   "cell_type": "code",
   "execution_count": 23,
   "id": "3182605e",
   "metadata": {},
   "outputs": [],
   "source": [
    "def fff(x):\n",
    "    if x=='JAN':\n",
    "        return '01'\n",
    "    elif x=='FEB':\n",
    "        return '02'\n",
    "    # ...\n",
    "    # ...\n",
    "    # ...\n",
    "    # ...\n",
    "    # ...\n",
    "    # ...\n",
    "    # ...\n",
    "    # ...\n",
    "    # ...\n",
    "    # ...\n",
    "    # ...\n",
    "    # ...\n",
    "    # ...\n",
    "    # ...\n",
    "    elif x=='DEC':\n",
    "        return '12'\n",
    "    else:\n",
    "        return 'None'"
   ]
  },
  {
   "cell_type": "markdown",
   "id": "6478a8c9",
   "metadata": {},
   "source": [
    "#### sol.1) 인자에 미포함"
   ]
  },
  {
   "cell_type": "code",
   "execution_count": 41,
   "id": "1bf27a70",
   "metadata": {},
   "outputs": [
    {
     "data": {
      "text/plain": [
       "'NA'"
      ]
     },
     "execution_count": 41,
     "metadata": {},
     "output_type": "execute_result"
    }
   ],
   "source": [
    "li_a = ['JAN', 'FEB', 'MAR', 'APR', 'MAY', 'JUN', 'JUL', 'AUG', 'SEP', 'OCT', 'NOV', 'DEC']\n",
    "li_b = ['01', '02', '03', '04', '05', '06', '07', '08', '09', '10', '11', '12']\n",
    "\n",
    "def ff(x):\n",
    "    for i in range(len(li_a)):\n",
    "        if x==li_a[i]:\n",
    "            return li_b[i]\n",
    "        elif x!=li_a[i]:\n",
    "            return 'NA'\n",
    "        else:\n",
    "            pass\n",
    "ff('NOV')"
   ]
  },
  {
   "cell_type": "markdown",
   "id": "909fb11d",
   "metadata": {},
   "source": [
    "#### sol.1) 인자에 포함"
   ]
  },
  {
   "cell_type": "code",
   "execution_count": 24,
   "id": "40bec1c5",
   "metadata": {},
   "outputs": [
    {
     "data": {
      "text/plain": [
       "'02'"
      ]
     },
     "execution_count": 24,
     "metadata": {},
     "output_type": "execute_result"
    }
   ],
   "source": [
    "li_a = ['JAN', 'FEB', 'MAR', 'APR', 'MAY', 'JUN', 'JUL', 'AUG', 'SEP', 'OCT', 'NOV', 'DEC']\n",
    "li_b = ['01', '02', '03', '04', '05', '06', '07', '08', '09', '10', '11', '12']\n",
    "\n",
    "def ff(x, before, after):\n",
    "    for i in range(len(before)):\n",
    "        if x==before[i]:\n",
    "            return after[i]\n",
    "        else:\n",
    "            pass\n",
    "        \n",
    "ff('FEB', li_a, li_b)"
   ]
  },
  {
   "cell_type": "markdown",
   "id": "0c7dceb6",
   "metadata": {},
   "source": [
    "#### sol.2) 인자에 미포함"
   ]
  },
  {
   "cell_type": "code",
   "execution_count": 27,
   "id": "1e640bcf",
   "metadata": {},
   "outputs": [
    {
     "data": {
      "text/plain": [
       "'11'"
      ]
     },
     "execution_count": 27,
     "metadata": {},
     "output_type": "execute_result"
    }
   ],
   "source": [
    "di = {\n",
    "    'JAN':'01', 'FEB':'02', 'MAR':'03', 'APR':'04', 'MAY':'05', 'JUN':'06', \n",
    "    'JUL':'07', 'AUG':'08', 'SEP':'09', 'OCT':'10', 'NOV':'11', 'DEC':'12'\n",
    "}\n",
    "\n",
    "def ff2(x):\n",
    "    for k, v in di.items():\n",
    "        if x==k:\n",
    "            return v\n",
    "        else:\n",
    "            pass\n",
    "\n",
    "ff2('NOV')"
   ]
  },
  {
   "cell_type": "markdown",
   "id": "a05f746a",
   "metadata": {},
   "source": [
    "#### sol.2) 인자에 포함"
   ]
  },
  {
   "cell_type": "code",
   "execution_count": 26,
   "id": "f451deed",
   "metadata": {},
   "outputs": [
    {
     "data": {
      "text/plain": [
       "'11'"
      ]
     },
     "execution_count": 26,
     "metadata": {},
     "output_type": "execute_result"
    }
   ],
   "source": [
    "di = {\n",
    "    'JAN':'01', 'FEB':'02', 'MAR':'03', 'APR':'04', 'MAY':'05', 'JUN':'06', \n",
    "    'JUL':'07', 'AUG':'08', 'SEP':'09', 'OCT':'10', 'NOV':'11', 'DEC':'12'\n",
    "}\n",
    "\n",
    "def ff2(x, dictionary):\n",
    "    for k, v in di.items():\n",
    "        if x==k:\n",
    "            return v\n",
    "        else:\n",
    "            pass\n",
    "\n",
    "ff2('NOV', di)"
   ]
  },
  {
   "cell_type": "code",
   "execution_count": null,
   "id": "0032b9b7",
   "metadata": {},
   "outputs": [],
   "source": []
  },
  {
   "cell_type": "code",
   "execution_count": null,
   "id": "3658d31d",
   "metadata": {},
   "outputs": [],
   "source": []
  },
  {
   "cell_type": "code",
   "execution_count": null,
   "id": "f938a807",
   "metadata": {},
   "outputs": [],
   "source": []
  }
 ],
 "metadata": {
  "kernelspec": {
   "display_name": "Python 3 (ipykernel)",
   "language": "python",
   "name": "python3"
  },
  "language_info": {
   "codemirror_mode": {
    "name": "ipython",
    "version": 3
   },
   "file_extension": ".py",
   "mimetype": "text/x-python",
   "name": "python",
   "nbconvert_exporter": "python",
   "pygments_lexer": "ipython3",
   "version": "3.8.2"
  }
 },
 "nbformat": 4,
 "nbformat_minor": 5
}

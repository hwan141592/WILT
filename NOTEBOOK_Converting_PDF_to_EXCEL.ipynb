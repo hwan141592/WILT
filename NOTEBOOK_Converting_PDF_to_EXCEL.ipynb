{
  "nbformat": 4,
  "nbformat_minor": 0,
  "metadata": {
    "colab": {
      "name": "NOTEBOOK_Converting_PDF_to_EXCEL.ipynb",
      "provenance": [],
      "collapsed_sections": [],
      "toc_visible": true,
      "include_colab_link": true
    },
    "kernelspec": {
      "name": "python3",
      "display_name": "Python 3"
    },
    "language_info": {
      "name": "python"
    }
  },
  "cells": [
    {
      "cell_type": "markdown",
      "metadata": {
        "id": "view-in-github",
        "colab_type": "text"
      },
      "source": [
        "<a href=\"https://colab.research.google.com/github/hwaneest/TIL/blob/master/NOTEBOOK_Converting_PDF_to_EXCEL.ipynb\" target=\"_parent\"><img src=\"https://colab.research.google.com/assets/colab-badge.svg\" alt=\"Open In Colab\"/></a>"
      ]
    },
    {
      "cell_type": "markdown",
      "source": [
        "<hr>\n",
        "\n",
        "# # OVERVIEW\n",
        "\n",
        "#### Objective of this page (This is a python notebook.)\n",
        " - \\# Convert 'tables in the pdf file' into 'excel' file easily.\n",
        "\n",
        "#### Input & Outcome\n",
        " - \\# We type in the name of pdf file below.\n",
        " - \\# You get an ***excel file*** when you run this code. This table in excel file comes from pdf file.\n",
        "\n",
        "#### Significance\n",
        " - \\# Cost-cutting >> Saving Time-Resource of employees\n",
        "   - We can save time up to at least 1/40 of the time originally needed.\n",
        "   - The bigger the pdf file size, the more we can save time(time-cost).\n",
        "\n",
        "<hr>\n",
        "\n",
        "# # Usage Guide\n",
        " - We use google drive to perform this notebook.\n",
        "\n",
        "#### Pre-requisite\n",
        " - Make the folder named 'DIGITIZATION' on your 'MyDrive' folder on google drive platform.\n",
        " - Locate this notebook file(.ipynb) in 'DIGITIZATION' folder. \n",
        "   (google drive >> 'MyDrive' >> 'DIGITIZATION' folder)\n",
        " - Locate pdf file to convert in the same location.\n",
        "      (google drive >> 'MyDrive' >> 'DIGITIZATION' folder)\n",
        " - If PDF file has more than 1 table, those tables are saved into different sheet of the excel file.\n",
        "\n",
        "#### Step.1\n",
        " - Edit the name of pdf file in [Part.1]\n",
        "\n",
        "#### Step.2\n",
        " - Run all the cells below.\n",
        " - You can run one cell by either clicking '>' button on the left side of the cell or pushing 'shift + enter' together.\n",
        "\n",
        "#### Step.3\n",
        " - Go to 'DIGITIZATION' folder and check the excel file that was generated. You can download it as well.\n",
        "\n",
        "#### Note!\n",
        " - This notebook needs 'google drive authentification process' while you run the cells below. You can go through it by clicking yes, which means 'allowing this notebook to access your google drive folder' temporarily while using this notebook.\n",
        " - If you encounter anything wrong and want to do this from the beginning again, you just can refresh(F5) this webpage.\n",
        " - (Additional Support & CONTACT) \n",
        "   - Donghwan Kim\n",
        "   - Strategy APAC - Data Science Team\n",
        "   - kdonghwan@ups.com\n",
        "\n",
        "<hr>\n",
        "\n",
        "# # Contents\n",
        "\n",
        "#### # Part.1. [EDITABLE] File Name Modification\n",
        " - ***YOU CAN TYPE(EDIT) THE NAME OF THE PDF FILE THAT YOU WANT TO CONVERT***\n",
        "\n",
        "#### # Part.2. [RUN ONLY] Code Blocks\n",
        " - Prepare to convert ***tables in pdf file*** to ***excel file***.\n",
        " - Convert tables in pdf file into excel file.\n",
        " - Save excel file on the google drive folder.\n",
        "\n",
        "<hr>\n"
      ],
      "metadata": {
        "id": "t4sbNsCsitzF"
      }
    },
    {
      "cell_type": "markdown",
      "source": [
        "# # Part.1. [EDITABLE] File Name Modification\n",
        " - ***YOU CAN TYPE(EDIT) THE NAME OF THE PDF FILE THAT YOU WANT TO CONVERT***"
      ],
      "metadata": {
        "id": "_8HcuZoO7zjq"
      }
    },
    {
      "cell_type": "code",
      "source": [
        "###############################################################################\n",
        "##### (the only part you should modify) #######################################\n",
        "##### Please type in the name of the pdf file between quotation marks. ########\n",
        "##### This pdf file should be in the same google drive folder.         ########\n",
        "###############################################################################\n",
        "PDF_FILE_NAME = 'Philippines - Schedule of Tariff Commitments for China.pdf'\n",
        "##### (example below) #########################################################\n",
        "# PDF_FILE_NAME = 'Philippines - Schedule of Tariff Commitments for China.pdf'\n",
        "###############################################################################\n",
        "###############################################################################\n",
        "###############################################################################"
      ],
      "metadata": {
        "id": "sisx4WuoLaC4"
      },
      "execution_count": 1,
      "outputs": []
    },
    {
      "cell_type": "markdown",
      "source": [
        "# # Part.2. [RUN ONLY] Code Blocks\n",
        " - Prepare to convert ***tables in pdf file*** to ***excel file***.\n",
        " - Convert tables in pdf file into excel file.\n",
        " - Save excel file on the google drive folder."
      ],
      "metadata": {
        "id": "eMpND-zv7mx_"
      }
    },
    {
      "cell_type": "code",
      "execution_count": 2,
      "metadata": {
        "id": "6LWH8G3TI37o",
        "outputId": "50cd2175-dfb1-436f-d9c3-c457941b0e5e",
        "colab": {
          "base_uri": "https://localhost:8080/"
        }
      },
      "outputs": [
        {
          "output_type": "stream",
          "name": "stdout",
          "text": [
            "\u001b[K     |████████████████████████████████| 12.0 MB 4.3 MB/s \n",
            "\u001b[?25h"
          ]
        }
      ],
      "source": [
        "!pip install -q tabula-py"
      ]
    },
    {
      "cell_type": "code",
      "source": [
        "import tabula, warnings\n",
        "import pandas as pd\n",
        "from google.colab import drive\n",
        "warnings.filterwarnings('ignore')\n",
        "drive.mount('/content/drive/')"
      ],
      "metadata": {
        "id": "5GKqD3nYI5oR",
        "colab": {
          "base_uri": "https://localhost:8080/"
        },
        "outputId": "1d6bd82c-829c-4285-c2bb-e73c3452ed17"
      },
      "execution_count": 3,
      "outputs": [
        {
          "output_type": "stream",
          "name": "stdout",
          "text": [
            "Mounted at /content/drive/\n"
          ]
        }
      ]
    },
    {
      "cell_type": "code",
      "source": [
        "cd ./drive/MyDrive/DIGITIZATION"
      ],
      "metadata": {
        "id": "FsK1YwzLNs6w",
        "colab": {
          "base_uri": "https://localhost:8080/"
        },
        "outputId": "9ae2fb40-8868-4a22-a4fd-cbeb6a4d51b2"
      },
      "execution_count": 4,
      "outputs": [
        {
          "output_type": "stream",
          "name": "stdout",
          "text": [
            "/content/drive/MyDrive/DIGITALIZATION\n"
          ]
        }
      ]
    },
    {
      "cell_type": "code",
      "source": [
        "ls -al"
      ],
      "metadata": {
        "colab": {
          "base_uri": "https://localhost:8080/"
        },
        "id": "3XDQ4xW9UcuC",
        "outputId": "9a0eddd7-de24-49a4-cb9a-e1531f368a83"
      },
      "execution_count": 7,
      "outputs": [
        {
          "output_type": "stream",
          "name": "stdout",
          "text": [
            "total 25420\n",
            "drwx------ 2 root root     4096 Jun  6 10:38  \u001b[0m\u001b[01;34mdone\u001b[0m/\n",
            "-rw------- 1 root root 25172952 Nov 13  2020 'Malaysia - Schedule of Tariff Commitments.pdf'\n",
            "-rw------- 1 root root    31713 Nov 13  2020 'Malaysia - Schedule of Tariff Commitments (TRQ).pdf'\n",
            "-rw------- 1 root root    33016 Nov 13  2020 'Philippines - Schedule of Tariff Commitments for Australia and New Zealand.pdf'\n",
            "-rw------- 1 root root   736055 Nov 13  2020 'Philippines - Schedule of Tariff Commitments for China.pdf'\n",
            "-rw------- 1 root root    50881 Jun  1 08:26  sample.pdf\n"
          ]
        }
      ]
    },
    {
      "cell_type": "code",
      "source": [
        "tables = tabula.read_pdf(PDF_FILE_NAME, stream=True, pages='all')\n",
        "print('***************************************************************************')\n",
        "print('** How many tables in this pdf file? >> Total {} tables.'.format(len(tables)))\n",
        "print('** How many rows and columns are there in the first table in the first page of pdf file? >> {} Rows & {} Columns'.format(tables[0].shape[0], tables[0].shape[1]))\n",
        "print('***************************************************************************')"
      ],
      "metadata": {
        "colab": {
          "base_uri": "https://localhost:8080/"
        },
        "id": "dbPw2hvZUmY-",
        "outputId": "245817ca-fbe5-4da4-d63a-35a16ee00c7e"
      },
      "execution_count": 8,
      "outputs": [
        {
          "output_type": "stream",
          "name": "stderr",
          "text": [
            "Got stderr: Jun 06, 2022 10:39:50 AM org.apache.pdfbox.pdmodel.font.FileSystemFontProvider loadDiskCache\n",
            "WARNING: New fonts found, font cache will be re-built\n",
            "Jun 06, 2022 10:39:50 AM org.apache.pdfbox.pdmodel.font.FileSystemFontProvider <init>\n",
            "WARNING: Building on-disk font cache, this may take a while\n",
            "Jun 06, 2022 10:39:50 AM org.apache.pdfbox.pdmodel.font.FileSystemFontProvider <init>\n",
            "WARNING: Finished building on-disk font cache, found 17 fonts\n",
            "Jun 06, 2022 10:39:50 AM org.apache.fontbox.ttf.CmapSubtable processSubtype14\n",
            "WARNING: Format 14 cmap table is not supported and will be ignored\n",
            "Jun 06, 2022 10:39:53 AM org.apache.fontbox.ttf.CmapSubtable processSubtype14\n",
            "WARNING: Format 14 cmap table is not supported and will be ignored\n",
            "\n"
          ]
        },
        {
          "output_type": "stream",
          "name": "stdout",
          "text": [
            "***************************************************************************\n",
            "** How many tables in this pdf file? >> Total 11 tables.\n",
            "** How many rows and columns are there in the first table in the first page of pdf file? >> 54 Rows & 23 Columns\n",
            "***************************************************************************\n"
          ]
        }
      ]
    },
    {
      "cell_type": "code",
      "source": [
        "print('Excel file is being generated... Please wait...')\n",
        "EXCEL_FILE_NAME = PDF_FILE_NAME.split('.pdf')[0] + '.xlsx'\n",
        "with pd.ExcelWriter(EXCEL_FILE_NAME) as writer:\n",
        "    for n in range(len(tables)):\n",
        "        tables[n].to_excel(writer, sheet_name=str(n), index=False)\n",
        "print('Excel file is generated. You can check your DIGITIZATION folder after some seconds.')"
      ],
      "metadata": {
        "colab": {
          "base_uri": "https://localhost:8080/"
        },
        "id": "oYoA-z19imRR",
        "outputId": "3779e2de-82d4-433e-ad6c-3f8dd3baf244"
      },
      "execution_count": 9,
      "outputs": [
        {
          "output_type": "stream",
          "name": "stdout",
          "text": [
            "Excel file is being generated... Please wait...\n",
            "Excel file is generated. You can check your DIGITIZATION folder after some seconds.\n"
          ]
        }
      ]
    },
    {
      "cell_type": "markdown",
      "source": [
        "# References\n",
        " - https://github.com/chezou/tabula-py/blob/master/examples/tabula_example.ipynb"
      ],
      "metadata": {
        "id": "vVVG9Cj7EQ5V"
      }
    },
    {
      "cell_type": "code",
      "source": [
        ""
      ],
      "metadata": {
        "id": "0ltDiAk9nKKi"
      },
      "execution_count": null,
      "outputs": []
    }
  ]
}
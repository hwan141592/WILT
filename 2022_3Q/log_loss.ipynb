{
 "cells": [
  {
   "cell_type": "code",
   "execution_count": 35,
   "id": "06049e98-7f77-4286-9393-9dc7ba149333",
   "metadata": {},
   "outputs": [],
   "source": [
    "# libraries\n",
    "import warnings \n",
    "warnings.filterwarnings('ignore')\n",
    "\n",
    "# udf\n",
    "round2d = lambda x: round(x, 2)\n",
    "sigmoid = lambda x: 1/(1+np.exp(-x))\n",
    "relu = lambda x: max(0, x)\n",
    "leaky_relu = lambda x: x if x>0 else 0.7 * x\n",
    "\n",
    "def map_many(iterable, function, *other):\n",
    "    if other:\n",
    "        return map_many(map(function, iterable), *other)\n",
    "    return map(function, iterable)\n",
    "\n",
    "def applythreshold(x, th=0.5):\n",
    "    # input(=x) should be between 0 and 1\n",
    "    if (x>=th) & (x<=1):\n",
    "        return 1\n",
    "    elif (x>=0) & (x<th):\n",
    "        return 0\n",
    "    else:\n",
    "        return None"
   ]
  },
  {
   "cell_type": "code",
   "execution_count": 3,
   "id": "d1dcea20-1a58-4a43-a29a-e39ff2743ab6",
   "metadata": {},
   "outputs": [],
   "source": [
    "import numpy as np\n",
    "import matplotlib.pyplot as plt\n",
    "import seaborn as sns\n",
    "import warnings \n",
    "warnings.filterwarnings('ignore')\n",
    "\n",
    "def map_many(iterable, function, *other):\n",
    "    if other:\n",
    "        return map_many(map(function, iterable), *other)\n",
    "    return map(function, iterable)\n",
    "\n",
    "# round2d = lambda x: round(x, 2)\n",
    "def round2d(x):\n",
    "    return round(x, 2)\n",
    "\n",
    "# sigmoid = lambda x: 1/(1+np.exp(-x))\n",
    "def sigmoid(x):\n",
    "    # lambda x: 1/(1+np.exp(-x))   # sigmoid\n",
    "    return 1 / (1 + np.exp(-x))\n",
    "\n",
    "# relu = lambda x: max(0, x)\n",
    "def relu(x):\n",
    "    return max(0.0, x)\n",
    "\n",
    "# leaky_relu = lambda x: x if x>0 else 0.7 * x\n",
    "# address the problem of zero gradients for negative value\n",
    "def leaky_relu(x):\n",
    "    # address the problem of zero gradients for negative value\n",
    "    if x > 0:\n",
    "        return x\n",
    "    else:\n",
    "        return 0.01 * x\n",
    "    \n",
    "def applythreshold(x, th=0.5):\n",
    "    # input(=x) should be between 0 and 1\n",
    "    if (x>=th) & (x<=1):\n",
    "        return 1\n",
    "    elif (x>=0) & (x<th):\n",
    "        return 0\n",
    "    else:\n",
    "        return None"
   ]
  },
  {
   "cell_type": "code",
   "execution_count": 4,
   "id": "f4dcfbbd-ab34-4ebd-86ff-5ce97999a3e1",
   "metadata": {},
   "outputs": [
    {
     "data": {
      "text/plain": [
       "0.0066928509242848554"
      ]
     },
     "metadata": {},
     "output_type": "display_data"
    },
    {
     "data": {
      "text/plain": [
       "0.11920292202211755"
      ]
     },
     "metadata": {},
     "output_type": "display_data"
    },
    {
     "data": {
      "text/plain": [
       "0.5"
      ]
     },
     "metadata": {},
     "output_type": "display_data"
    },
    {
     "data": {
      "text/plain": [
       "0.8807970779778823"
      ]
     },
     "metadata": {},
     "output_type": "display_data"
    },
    {
     "data": {
      "text/plain": [
       "0.9933071490757153"
      ]
     },
     "metadata": {},
     "output_type": "display_data"
    },
    {
     "data": {
      "image/png": "[encoded data removed]",
      "text/plain": [
       "<Figure size 720x144 with 1 Axes>"
      ]
     },
     "metadata": {
      "needs_background": "light"
     },
     "output_type": "display_data"
    }
   ],
   "source": [
    "# sigmoid\n",
    "x = np.arange(-10, 10, 1)\n",
    "y = np.array(list(map(sigmoid, x)))\n",
    "plt.figure(figsize=(10, 2))\n",
    "plt.plot(x, y)\n",
    "\n",
    "display(sigmoid(-5), sigmoid(-2), sigmoid(0), sigmoid(2), sigmoid(5))"
   ]
  },
  {
   "cell_type": "code",
   "execution_count": 5,
   "id": "76c8928a-3188-4095-99af-8f88090262f1",
   "metadata": {},
   "outputs": [
    {
     "data": {
      "text/plain": [
       "[<matplotlib.lines.Line2D at 0x2b498a259a0>]"
      ]
     },
     "execution_count": 5,
     "metadata": {},
     "output_type": "execute_result"
    },
    {
     "data": {
      "image/png": "[encoded data removed]",
      "text/plain": [
       "<Figure size 720x144 with 1 Axes>"
      ]
     },
     "metadata": {
      "needs_background": "light"
     },
     "output_type": "display_data"
    }
   ],
   "source": [
    "# relu\n",
    "x = np.arange(-10, 10, 1)\n",
    "y = np.array(list(map(relu, x)))\n",
    "plt.figure(figsize=(10, 2))\n",
    "plt.plot(x, y)"
   ]
  },
  {
   "cell_type": "code",
   "execution_count": 6,
   "id": "f883c0c7-b21c-4097-b3d9-41fd96b653b0",
   "metadata": {},
   "outputs": [
    {
     "data": {
      "text/plain": [
       "[<matplotlib.lines.Line2D at 0x2b498a84f40>]"
      ]
     },
     "execution_count": 6,
     "metadata": {},
     "output_type": "execute_result"
    },
    {
     "data": {
      "image/png": "[encoded data removed]",
      "text/plain": [
       "<Figure size 720x144 with 1 Axes>"
      ]
     },
     "metadata": {
      "needs_background": "light"
     },
     "output_type": "display_data"
    }
   ],
   "source": [
    "# leaky_relu\n",
    "x = np.arange(-10, 10, 1)\n",
    "y = np.array(list(map(leaky_relu, x)))\n",
    "plt.figure(figsize=(10, 2))\n",
    "plt.plot(x, y)"
   ]
  },
  {
   "cell_type": "code",
   "execution_count": 7,
   "id": "409c6274-19c5-4771-a3f8-2d2f02bbeba3",
   "metadata": {},
   "outputs": [
    {
     "data": {
      "text/plain": [
       "array([0.08, 0.18, 0.33, 0.55, 0.57, 0.69, 0.77, 0.9 , 0.95, 0.99])"
      ]
     },
     "execution_count": 7,
     "metadata": {},
     "output_type": "execute_result"
    }
   ],
   "source": [
    "feature_x = np.array([-2.5, -1.5, -0.7, 0.2, 0.3, 0.8, 1.2, 2.2, 2.9, 4.7])\n",
    "label_actual  = np.array([0, 0, 1, 0, 1, 1, 1, 1, 1, 1])\n",
    "probs = np.array(list(map_many(feature_x, sigmoid, round2d)))   # 각각의 점들이 1일 확률\n",
    "probs"
   ]
  },
  {
   "cell_type": "code",
   "execution_count": 8,
   "id": "4d7e5547-7abe-4e98-aede-ba9a3af7a570",
   "metadata": {},
   "outputs": [
    {
     "data": {
      "text/plain": [
       "array([0, 0, 0, 1, 1, 1, 1, 1, 1, 1])"
      ]
     },
     "execution_count": 8,
     "metadata": {},
     "output_type": "execute_result"
    }
   ],
   "source": [
    "predicted_labels = np.array(list(map_many(feature_x, sigmoid, applythreshold))); predicted_labels\n",
    "# 각각의 점들을 예측한 라벨들 >> array([0, 0, 0, 1, 1, 1, 1, 1, 1, 1])"
   ]
  },
  {
   "cell_type": "code",
   "execution_count": 9,
   "id": "f7fdefe8-3995-433c-81ff-9a3d2acd6489",
   "metadata": {},
   "outputs": [
    {
     "name": "stdout",
     "output_type": "stream",
     "text": [
      "* actual y: [0 0 1 0 1 1 1 1 1 1]\n",
      "* probs: [0.08 0.18 0.33 0.55 0.57 0.69 0.77 0.9  0.95 0.99]\n"
     ]
    }
   ],
   "source": [
    "print('* actual y: {}'.format(label_actual))\n",
    "print('* probs: {}'.format(probs))"
   ]
  },
  {
   "cell_type": "code",
   "execution_count": 10,
   "id": "c42ddbfd-ed88-4ea7-922f-e172c315eb88",
   "metadata": {},
   "outputs": [
    {
     "data": {
      "text/plain": [
       "array([-0.08338161, -0.19845094, -1.10866262, -0.7985077 , -0.56211892,\n",
       "       -0.37106368, -0.26136476, -0.10536052, -0.05129329, -0.01005034])"
      ]
     },
     "execution_count": 10,
     "metadata": {},
     "output_type": "execute_result"
    }
   ],
   "source": [
    "# 각 점의 loss 값들\n",
    "label_actual*np.log(probs) + (1-label_actual)*np.log(1-probs)"
   ]
  },
  {
   "cell_type": "code",
   "execution_count": 11,
   "id": "180da7bc-aed2-4a22-96d6-5abc6b9edf97",
   "metadata": {},
   "outputs": [
    {
     "data": {
      "text/plain": [
       "0.3550254377979932"
      ]
     },
     "execution_count": 11,
     "metadata": {},
     "output_type": "execute_result"
    }
   ],
   "source": [
    "# 모든 점들에서 로스들의 평균\n",
    "N = len(label_actual)\n",
    "-1/N * (sum(  label_actual*np.log(probs) + (1-label_actual)*np.log(1-probs)  ))"
   ]
  },
  {
   "cell_type": "code",
   "execution_count": 12,
   "id": "31f99423-809b-4973-9a72-bd6fe9596f83",
   "metadata": {},
   "outputs": [],
   "source": [
    "arr_prob = np.array([])\n",
    "for i in range(len(label_actual)):\n",
    "    if label_actual[i] == predicted_labels[i]:\n",
    "        np.append(arr_prob, probs[i])\n",
    "    elif label_actual[i] != predicted_labels[i]:\n",
    "        np.append(arr_prob, probs[i])\n",
    "    else:\n",
    "        pass"
   ]
  },
  {
   "cell_type": "code",
   "execution_count": 13,
   "id": "733f2995-4a0c-4c18-b39b-52b4165d7f40",
   "metadata": {},
   "outputs": [],
   "source": [
    "# 0.08: 해당 점이 1일 확률 >> 스레드 씌우면 0 >> 실제 0 \n",
    "# 0.18: 해당 점이 1일 확률 >> 스레드 씌우면 0 >> 실제 0 \n",
    "# 0.33: 해당 점이 1일 확률 >> 스레드 씌우면 0 >> 실제 1 \n",
    "# 0.55: 해당 점이 1일 확률 >> 스레드 씌우면 1 >> 실제 0 \n",
    "# 0.57: 해당 점이 1일 확률 >> 스레드 씌우면 1 >> 실제 1 \n",
    "# 0.69: 해당 점이 1일 확률 >> 스레드 씌우면 1 >> 실제 1 \n",
    "# 0.77: 해당 점이 1일 확률 >> 스레드 씌우면 1 >> 실제 1 \n",
    "# 0.90: 해당 점이 1일 확률 >> 스레드 씌우면 1 >> 실제 1 \n",
    "# 0.95: 해당 점이 1일 확률 >> 스레드 씌우면 1 >> 실제 1 \n",
    "# 0.99: 해당 점이 1일 확률 >> 스레드 씌우면 1 >> 실제 1 "
   ]
  },
  {
   "cell_type": "code",
   "execution_count": 14,
   "id": "47fe3ccc-344f-4c6e-9689-1800984b8e2c",
   "metadata": {},
   "outputs": [],
   "source": [
    "# y: 녹색이면 1, 빨강이면 0  \n",
    "# p(y): 예측된 녹색이 될 확률 = sigmoid(x) 값  "
   ]
  },
  {
   "cell_type": "code",
   "execution_count": 15,
   "id": "f90233bc-ad03-48c4-9fda-36fd2e66e43e",
   "metadata": {},
   "outputs": [
    {
     "data": {
      "text/plain": [
       "(0.07585818002124355,\n",
       " 0.3318122278318339,\n",
       " 0.45016600268752216,\n",
       " 0.9002495108803148)"
      ]
     },
     "execution_count": 15,
     "metadata": {},
     "output_type": "execute_result"
    }
   ],
   "source": [
    "sigmoid(-2.5), sigmoid(-0.7), sigmoid(-0.2), sigmoid(2.2)"
   ]
  },
  {
   "cell_type": "code",
   "execution_count": 16,
   "id": "a0fe7824-d77f-4544-8ab2-c298d0f90c31",
   "metadata": {},
   "outputs": [
    {
     "data": {
      "text/plain": [
       "(0.52497918747894, 0.549833997312478, 0.574442516811659, 0.9002495108803148)"
      ]
     },
     "execution_count": 16,
     "metadata": {},
     "output_type": "execute_result"
    }
   ],
   "source": [
    "sigmoid(0.1), sigmoid(0.2), sigmoid(0.3), sigmoid(2.2)"
   ]
  },
  {
   "cell_type": "code",
   "execution_count": 17,
   "id": "874c2874-e928-44f7-85bf-2be4f85f5c60",
   "metadata": {},
   "outputs": [
    {
     "data": {
      "text/plain": [
       "0.07585818002124355"
      ]
     },
     "execution_count": 17,
     "metadata": {},
     "output_type": "execute_result"
    }
   ],
   "source": [
    "sigmoid(-2.5)"
   ]
  },
  {
   "cell_type": "code",
   "execution_count": null,
   "id": "99b1d81f-5a93-434b-ac93-6226d6b0d60c",
   "metadata": {},
   "outputs": [],
   "source": []
  },
  {
   "cell_type": "code",
   "execution_count": null,
   "id": "5b0d45a0-7f93-40be-a7c1-60b28c962456",
   "metadata": {},
   "outputs": [],
   "source": []
  }
 ],
 "metadata": {
  "kernelspec": {
   "display_name": "Python 3 (ipykernel)",
   "language": "python",
   "name": "python3"
  },
  "language_info": {
   "codemirror_mode": {
    "name": "ipython",
    "version": 3
   },
   "file_extension": ".py",
   "mimetype": "text/x-python",
   "name": "python",
   "nbconvert_exporter": "python",
   "pygments_lexer": "ipython3",
   "version": "3.8.2"
  }
 },
 "nbformat": 4,
 "nbformat_minor": 5
}

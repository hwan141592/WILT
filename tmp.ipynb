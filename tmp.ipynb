{
 "cells": [
  {
   "cell_type": "code",
   "execution_count": 4,
   "metadata": {},
   "outputs": [],
   "source": [
    "import numpy as np\n",
    "import matplotlib.pyplot as plt\n",
    "x = np.arange(-5, 5, 0.1)\n",
    "y = np.arange(-5, 5, 0.1)"
   ]
  },
  {
   "cell_type": "code",
   "execution_count": 15,
   "metadata": {},
   "outputs": [
    {
     "name": "stdout",
     "output_type": "stream",
     "text": [
      "<class 'numpy.ndarray'>\n",
      "<class 'numpy.ndarray'>\n"
     ]
    }
   ],
   "source": [
    "print(type(x)); print(type(y))"
   ]
  },
  {
   "cell_type": "code",
   "execution_count": 23,
   "metadata": {},
   "outputs": [
    {
     "data": {
      "text/plain": [
       "array([-5.])"
      ]
     },
     "execution_count": 23,
     "metadata": {},
     "output_type": "execute_result"
    }
   ],
   "source": [
    "x[0:1]"
   ]
  },
  {
   "cell_type": "code",
   "execution_count": 19,
   "metadata": {},
   "outputs": [
    {
     "data": {
      "text/plain": [
       "array([-5.])"
      ]
     },
     "execution_count": 19,
     "metadata": {},
     "output_type": "execute_result"
    }
   ],
   "source": [
    "x[0:1]"
   ]
  },
  {
   "cell_type": "code",
   "execution_count": 20,
   "metadata": {},
   "outputs": [
    {
     "data": {
      "text/plain": [
       "array([-5.])"
      ]
     },
     "execution_count": 20,
     "metadata": {},
     "output_type": "execute_result"
    }
   ],
   "source": [
    "y[0:1]"
   ]
  },
  {
   "cell_type": "code",
   "execution_count": 7,
   "metadata": {},
   "outputs": [],
   "source": [
    "xx, yy = np.meshgrid(x, y, sparse=True)"
   ]
  },
  {
   "cell_type": "code",
   "execution_count": 16,
   "metadata": {},
   "outputs": [
    {
     "name": "stdout",
     "output_type": "stream",
     "text": [
      "<class 'numpy.ndarray'>\n",
      "<class 'numpy.ndarray'>\n"
     ]
    }
   ],
   "source": [
    "print(type(xx)); print(type(yy))"
   ]
  },
  {
   "cell_type": "code",
   "execution_count": 18,
   "metadata": {},
   "outputs": [
    {
     "data": {
      "text/plain": [
       "array([[-5.00000000e+00, -4.90000000e+00, -4.80000000e+00,\n",
       "        -4.70000000e+00, -4.60000000e+00, -4.50000000e+00,\n",
       "        -4.40000000e+00, -4.30000000e+00, -4.20000000e+00,\n",
       "        -4.10000000e+00, -4.00000000e+00, -3.90000000e+00,\n",
       "        -3.80000000e+00, -3.70000000e+00, -3.60000000e+00,\n",
       "        -3.50000000e+00, -3.40000000e+00, -3.30000000e+00,\n",
       "        -3.20000000e+00, -3.10000000e+00, -3.00000000e+00,\n",
       "        -2.90000000e+00, -2.80000000e+00, -2.70000000e+00,\n",
       "        -2.60000000e+00, -2.50000000e+00, -2.40000000e+00,\n",
       "        -2.30000000e+00, -2.20000000e+00, -2.10000000e+00,\n",
       "        -2.00000000e+00, -1.90000000e+00, -1.80000000e+00,\n",
       "        -1.70000000e+00, -1.60000000e+00, -1.50000000e+00,\n",
       "        -1.40000000e+00, -1.30000000e+00, -1.20000000e+00,\n",
       "        -1.10000000e+00, -1.00000000e+00, -9.00000000e-01,\n",
       "        -8.00000000e-01, -7.00000000e-01, -6.00000000e-01,\n",
       "        -5.00000000e-01, -4.00000000e-01, -3.00000000e-01,\n",
       "        -2.00000000e-01, -1.00000000e-01, -1.77635684e-14,\n",
       "         1.00000000e-01,  2.00000000e-01,  3.00000000e-01,\n",
       "         4.00000000e-01,  5.00000000e-01,  6.00000000e-01,\n",
       "         7.00000000e-01,  8.00000000e-01,  9.00000000e-01,\n",
       "         1.00000000e+00,  1.10000000e+00,  1.20000000e+00,\n",
       "         1.30000000e+00,  1.40000000e+00,  1.50000000e+00,\n",
       "         1.60000000e+00,  1.70000000e+00,  1.80000000e+00,\n",
       "         1.90000000e+00,  2.00000000e+00,  2.10000000e+00,\n",
       "         2.20000000e+00,  2.30000000e+00,  2.40000000e+00,\n",
       "         2.50000000e+00,  2.60000000e+00,  2.70000000e+00,\n",
       "         2.80000000e+00,  2.90000000e+00,  3.00000000e+00,\n",
       "         3.10000000e+00,  3.20000000e+00,  3.30000000e+00,\n",
       "         3.40000000e+00,  3.50000000e+00,  3.60000000e+00,\n",
       "         3.70000000e+00,  3.80000000e+00,  3.90000000e+00,\n",
       "         4.00000000e+00,  4.10000000e+00,  4.20000000e+00,\n",
       "         4.30000000e+00,  4.40000000e+00,  4.50000000e+00,\n",
       "         4.60000000e+00,  4.70000000e+00,  4.80000000e+00,\n",
       "         4.90000000e+00]])"
      ]
     },
     "execution_count": 18,
     "metadata": {},
     "output_type": "execute_result"
    }
   ],
   "source": [
    "xx[0:1]"
   ]
  },
  {
   "cell_type": "code",
   "execution_count": 24,
   "metadata": {},
   "outputs": [
    {
     "data": {
      "text/plain": [
       "array([[-5.00000000e+00],\n",
       "       [-4.90000000e+00],\n",
       "       [-4.80000000e+00],\n",
       "       [-4.70000000e+00],\n",
       "       [-4.60000000e+00],\n",
       "       [-4.50000000e+00],\n",
       "       [-4.40000000e+00],\n",
       "       [-4.30000000e+00],\n",
       "       [-4.20000000e+00],\n",
       "       [-4.10000000e+00],\n",
       "       [-4.00000000e+00],\n",
       "       [-3.90000000e+00],\n",
       "       [-3.80000000e+00],\n",
       "       [-3.70000000e+00],\n",
       "       [-3.60000000e+00],\n",
       "       [-3.50000000e+00],\n",
       "       [-3.40000000e+00],\n",
       "       [-3.30000000e+00],\n",
       "       [-3.20000000e+00],\n",
       "       [-3.10000000e+00],\n",
       "       [-3.00000000e+00],\n",
       "       [-2.90000000e+00],\n",
       "       [-2.80000000e+00],\n",
       "       [-2.70000000e+00],\n",
       "       [-2.60000000e+00],\n",
       "       [-2.50000000e+00],\n",
       "       [-2.40000000e+00],\n",
       "       [-2.30000000e+00],\n",
       "       [-2.20000000e+00],\n",
       "       [-2.10000000e+00],\n",
       "       [-2.00000000e+00],\n",
       "       [-1.90000000e+00],\n",
       "       [-1.80000000e+00],\n",
       "       [-1.70000000e+00],\n",
       "       [-1.60000000e+00],\n",
       "       [-1.50000000e+00],\n",
       "       [-1.40000000e+00],\n",
       "       [-1.30000000e+00],\n",
       "       [-1.20000000e+00],\n",
       "       [-1.10000000e+00],\n",
       "       [-1.00000000e+00],\n",
       "       [-9.00000000e-01],\n",
       "       [-8.00000000e-01],\n",
       "       [-7.00000000e-01],\n",
       "       [-6.00000000e-01],\n",
       "       [-5.00000000e-01],\n",
       "       [-4.00000000e-01],\n",
       "       [-3.00000000e-01],\n",
       "       [-2.00000000e-01],\n",
       "       [-1.00000000e-01],\n",
       "       [-1.77635684e-14],\n",
       "       [ 1.00000000e-01],\n",
       "       [ 2.00000000e-01],\n",
       "       [ 3.00000000e-01],\n",
       "       [ 4.00000000e-01],\n",
       "       [ 5.00000000e-01],\n",
       "       [ 6.00000000e-01],\n",
       "       [ 7.00000000e-01],\n",
       "       [ 8.00000000e-01],\n",
       "       [ 9.00000000e-01],\n",
       "       [ 1.00000000e+00],\n",
       "       [ 1.10000000e+00],\n",
       "       [ 1.20000000e+00],\n",
       "       [ 1.30000000e+00],\n",
       "       [ 1.40000000e+00],\n",
       "       [ 1.50000000e+00],\n",
       "       [ 1.60000000e+00],\n",
       "       [ 1.70000000e+00],\n",
       "       [ 1.80000000e+00],\n",
       "       [ 1.90000000e+00],\n",
       "       [ 2.00000000e+00],\n",
       "       [ 2.10000000e+00],\n",
       "       [ 2.20000000e+00],\n",
       "       [ 2.30000000e+00],\n",
       "       [ 2.40000000e+00],\n",
       "       [ 2.50000000e+00],\n",
       "       [ 2.60000000e+00],\n",
       "       [ 2.70000000e+00],\n",
       "       [ 2.80000000e+00],\n",
       "       [ 2.90000000e+00],\n",
       "       [ 3.00000000e+00],\n",
       "       [ 3.10000000e+00],\n",
       "       [ 3.20000000e+00],\n",
       "       [ 3.30000000e+00],\n",
       "       [ 3.40000000e+00],\n",
       "       [ 3.50000000e+00],\n",
       "       [ 3.60000000e+00],\n",
       "       [ 3.70000000e+00],\n",
       "       [ 3.80000000e+00],\n",
       "       [ 3.90000000e+00],\n",
       "       [ 4.00000000e+00],\n",
       "       [ 4.10000000e+00],\n",
       "       [ 4.20000000e+00],\n",
       "       [ 4.30000000e+00],\n",
       "       [ 4.40000000e+00],\n",
       "       [ 4.50000000e+00],\n",
       "       [ 4.60000000e+00],\n",
       "       [ 4.70000000e+00],\n",
       "       [ 4.80000000e+00],\n",
       "       [ 4.90000000e+00]])"
      ]
     },
     "execution_count": 24,
     "metadata": {},
     "output_type": "execute_result"
    }
   ],
   "source": [
    "yy"
   ]
  },
  {
   "cell_type": "code",
   "execution_count": 21,
   "metadata": {},
   "outputs": [
    {
     "data": {
      "text/plain": [
       "array([[-5.]])"
      ]
     },
     "execution_count": 21,
     "metadata": {},
     "output_type": "execute_result"
    }
   ],
   "source": [
    "yy[0:1]"
   ]
  },
  {
   "cell_type": "code",
   "execution_count": 11,
   "metadata": {},
   "outputs": [
    {
     "data": {
      "text/plain": [
       "array([[-0.0052475 , -0.01939806, -0.01651205, ...,  0.00071954,\n",
       "        -0.01651205, -0.01939806],\n",
       "       [-0.01939806, -0.01626204,  0.00156902, ...,  0.01852793,\n",
       "         0.00156902, -0.01626204],\n",
       "       [-0.01651205,  0.00156902,  0.01875796, ...,  0.02020437,\n",
       "         0.01875796,  0.00156902],\n",
       "       ...,\n",
       "       [ 0.00071954,  0.01852793,  0.02020437, ...,  0.00444585,\n",
       "         0.02020437,  0.01852793],\n",
       "       [-0.01651205,  0.00156902,  0.01875796, ...,  0.02020437,\n",
       "         0.01875796,  0.00156902],\n",
       "       [-0.01939806, -0.01626204,  0.00156902, ...,  0.01852793,\n",
       "         0.00156902, -0.01626204]])"
      ]
     },
     "execution_count": 11,
     "metadata": {},
     "output_type": "execute_result"
    }
   ],
   "source": [
    "z = np.sin(xx**2 + yy**2) / (xx**2 + yy**2)\n",
    "z"
   ]
  },
  {
   "cell_type": "code",
   "execution_count": 12,
   "metadata": {},
   "outputs": [
    {
     "data": {
      "image/png": "[encoded data removed]",
      "text/plain": [
       "<Figure size 432x288 with 1 Axes>"
      ]
     },
     "metadata": {
      "needs_background": "light"
     },
     "output_type": "display_data"
    }
   ],
   "source": [
    "h = plt.contourf(x, y, z)\n",
    "plt.axis('scaled')\n",
    "plt.show()"
   ]
  },
  {
   "cell_type": "code",
   "execution_count": null,
   "metadata": {},
   "outputs": [],
   "source": []
  }
 ],
 "metadata": {
  "kernelspec": {
   "display_name": "Python 3",
   "language": "python",
   "name": "python3"
  },
  "language_info": {
   "codemirror_mode": {
    "name": "ipython",
    "version": 3
   },
   "file_extension": ".py",
   "mimetype": "text/x-python",
   "name": "python",
   "nbconvert_exporter": "python",
   "pygments_lexer": "ipython3",
   "version": "3.8.2"
  }
 },
 "nbformat": 4,
 "nbformat_minor": 4
}

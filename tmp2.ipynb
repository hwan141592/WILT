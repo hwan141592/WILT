{
 "cells": [
  {
   "cell_type": "markdown",
   "id": "6bae741d",
   "metadata": {},
   "source": [
    "#### python basic 1번"
   ]
  },
  {
   "cell_type": "code",
   "execution_count": 41,
   "id": "d25e6810",
   "metadata": {},
   "outputs": [
    {
     "data": {
      "text/plain": [
       "'Coding IS Awesome'"
      ]
     },
     "execution_count": 41,
     "metadata": {},
     "output_type": "execute_result"
    }
   ],
   "source": [
    "sen = 'aWESOME is cODING'\n",
    "def reverse_words_order_and_swap_cases(sentence):\n",
    "    swapped = ''.join(list(map(lambda s: s.upper() if s.islower() else s.lower(), sentence)))\n",
    "    return ' '.join(swapped.split()[::-1])\n",
    "\n",
    "reverse_words_order_and_swap_cases(sen)"
   ]
  },
  {
   "cell_type": "markdown",
   "id": "53d7ab78",
   "metadata": {},
   "source": [
    "#### python basic 2번"
   ]
  },
  {
   "cell_type": "code",
   "execution_count": 85,
   "id": "5f685e02",
   "metadata": {},
   "outputs": [
    {
     "data": {
      "text/plain": [
       "[(0, 0), (1, 1), (2, 2)]"
      ]
     },
     "execution_count": 85,
     "metadata": {},
     "output_type": "execute_result"
    }
   ],
   "source": [
    "n=4\n",
    "m=3\n",
    "list(zip(list(range(n)),list(range(m))))"
   ]
  },
  {
   "cell_type": "code",
   "execution_count": 119,
   "id": "139bdfad",
   "metadata": {},
   "outputs": [
    {
     "data": {
      "text/plain": [
       "1"
      ]
     },
     "execution_count": 119,
     "metadata": {},
     "output_type": "execute_result"
    }
   ],
   "source": [
    "grid = [[9,1,7], [1,1,9], [9,8,1], [1,1,9]]\n",
    "grid[-2][-1]"
   ]
  },
  {
   "cell_type": "code",
   "execution_count": 137,
   "id": "b13f2aed",
   "metadata": {},
   "outputs": [
    {
     "data": {
      "text/plain": [
       "([1, 1], 0)"
      ]
     },
     "execution_count": 137,
     "metadata": {},
     "output_type": "execute_result"
    }
   ],
   "source": [
    "n = 4\n",
    "m = 3\n",
    "grid = [[9,1,1], [1,1,9], [9,1,1], [1,1,9]]\n",
    "def numCells(grid):\n",
    "    li_grid = []\n",
    "    for i in range(n):\n",
    "        for j in range(m):\n",
    "            li_grid.append(grid[i][j])\n",
    "    \n",
    "    for i in range(n):\n",
    "        for j in range(m):\n",
    "            li_nb = []\n",
    "            try:\n",
    "                if i-1>=0 & j-1>=0:\n",
    "                    li_nb.append(grid[i-1][j-1])\n",
    "                if i-1>=0 & j-1>=0:\n",
    "                    li_nb.append(grid[i-1][j])\n",
    "                if i-1>=0 & j>=0:\n",
    "                    li_nb.append(grid[i-1][j+1])\n",
    "\n",
    "                if i>=0 & j-1>=0:                    \n",
    "                    li_nb.append(grid[i][j-1])\n",
    "                if i>=0 & j>=0:\n",
    "                    li_nb.append(grid[i][j])\n",
    "                if i>=0 & j+1>=0:    \n",
    "                    li_nb.append(grid[i][j+1])\n",
    "                \n",
    "                if i+1>=0 & j-1>=0:                                    \n",
    "                    li_nb.append(grid[i+1][j-1])\n",
    "                if i+1>=0 & j>=0:\n",
    "                    li_nb.append(grid[i+1][j])\n",
    "                if i+1>=0 & j+1>=0:    \n",
    "                    li_nb.append(grid[i+1][j+1])                \n",
    "            except:\n",
    "                pass\n",
    "            \n",
    "            li_dominant = []\n",
    "            if max(li_nb) == grid[i][j]:\n",
    "                li_dominant.append(grid[i][j])\n",
    "    \n",
    "    return li_nb, len(li_dominant)\n",
    "            \n",
    "#             try:\n",
    "#                 idx_x, idx_y = i, j\n",
    "#                 if i>=0 & j>=0:\n",
    "#                     li_nb.append(grid[i-1][j-1])\n",
    "#                     # li_nb.append(grid[i-1][j])\n",
    "#     #           nb = [i, li_grid[i-m-1], li_grid[i-m]]\n",
    "#     #           li_nb.append(nb)\n",
    "#             except:\n",
    "#                 pass\n",
    "\n",
    "\n",
    "# i-1,j-1  i-1,j   i-1,j+1\n",
    "# i,j-1    i,j     i,j+1\n",
    "# i+1,j-1  i+1,j   i+1,j+1\n",
    "    \n",
    "numCells(grid)"
   ]
  },
  {
   "cell_type": "code",
   "execution_count": null,
   "id": "d34e13c9",
   "metadata": {},
   "outputs": [],
   "source": []
  }
 ],
 "metadata": {
  "kernelspec": {
   "display_name": "Python 3 (ipykernel)",
   "language": "python",
   "name": "python3"
  },
  "language_info": {
   "codemirror_mode": {
    "name": "ipython",
    "version": 3
   },
   "file_extension": ".py",
   "mimetype": "text/x-python",
   "name": "python",
   "nbconvert_exporter": "python",
   "pygments_lexer": "ipython3",
   "version": "3.8.2"
  }
 },
 "nbformat": 4,
 "nbformat_minor": 5
}

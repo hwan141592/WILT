{
 "cells": [
  {
   "cell_type": "code",
   "execution_count": 1,
   "metadata": {},
   "outputs": [
    {
     "data": {
      "text/plain": [
       "'/Users/hwan/Desktop/git_repos/TIL/module_and_class'"
      ]
     },
     "execution_count": 1,
     "metadata": {},
     "output_type": "execute_result"
    }
   ],
   "source": [
    "pwd"
   ]
  },
  {
   "cell_type": "code",
   "execution_count": 2,
   "metadata": {},
   "outputs": [
    {
     "data": {
      "text/plain": [
       "'/Users/hwan/Desktop/git_repos/TIL/module_and_class'"
      ]
     },
     "execution_count": 2,
     "metadata": {},
     "output_type": "execute_result"
    }
   ],
   "source": [
    "pwd"
   ]
  },
  {
   "cell_type": "code",
   "execution_count": null,
   "metadata": {},
   "outputs": [],
   "source": [
    "cd"
   ]
  },
  {
   "cell_type": "code",
   "execution_count": 3,
   "metadata": {},
   "outputs": [
    {
     "name": "stdout",
     "output_type": "stream",
     "text": [
      "Untitled.ipynb          go_python.ipynb\r\n",
      "\u001b[1m\u001b[36m__pycache__\u001b[m\u001b[m/            h_calculator_module.py\r\n"
     ]
    }
   ],
   "source": [
    "ls"
   ]
  },
  {
   "cell_type": "code",
   "execution_count": 4,
   "metadata": {},
   "outputs": [
    {
     "name": "stdout",
     "output_type": "stream",
     "text": [
      "total 24\r\n",
      "drwxr-xr-x   7 hwan  staff   224 Mar 20 20:59 \u001b[1m\u001b[36m.\u001b[m\u001b[m/\r\n",
      "drwxr-xr-x@ 68 hwan  staff  2176 Mar 20 20:58 \u001b[1m\u001b[36m..\u001b[m\u001b[m/\r\n",
      "drwxr-xr-x   4 hwan  staff   128 Mar 20 20:59 \u001b[1m\u001b[36m.ipynb_checkpoints\u001b[m\u001b[m/\r\n",
      "-rw-r--r--   1 hwan  staff    72 Mar 20 20:59 Untitled.ipynb\r\n",
      "drwxr-xr-x   3 hwan  staff    96 Feb 22 23:57 \u001b[1m\u001b[36m__pycache__\u001b[m\u001b[m/\r\n",
      "-rw-r--r--   1 hwan  staff  3056 Feb 22 23:59 go_python.ipynb\r\n",
      "-rw-r--r--   1 hwan  staff   306 Feb 22 20:58 h_calculator_module.py\r\n"
     ]
    }
   ],
   "source": [
    "ls -al"
   ]
  },
  {
   "cell_type": "code",
   "execution_count": 5,
   "metadata": {},
   "outputs": [
    {
     "name": "stdout",
     "output_type": "stream",
     "text": [
      "\u001b[1m\u001b[36m.\u001b[m\u001b[m/                      Untitled.ipynb          h_calculator_module.py\r\n",
      "\u001b[1m\u001b[36m..\u001b[m\u001b[m/                     \u001b[1m\u001b[36m__pycache__\u001b[m\u001b[m/\r\n",
      "\u001b[1m\u001b[36m.ipynb_checkpoints\u001b[m\u001b[m/     go_python.ipynb\r\n"
     ]
    }
   ],
   "source": [
    "ls -a"
   ]
  },
  {
   "cell_type": "code",
   "execution_count": 6,
   "metadata": {},
   "outputs": [
    {
     "name": "stdout",
     "output_type": "stream",
     "text": [
      "total 24\r\n",
      "-rw-r--r--  1 hwan  staff  3172 Mar 20 21:01 Untitled.ipynb\r\n",
      "drwxr-xr-x  3 hwan  staff    96 Feb 22 23:57 \u001b[1m\u001b[36m__pycache__\u001b[m\u001b[m/\r\n",
      "-rw-r--r--  1 hwan  staff  3056 Feb 22 23:59 go_python.ipynb\r\n",
      "-rw-r--r--  1 hwan  staff   306 Feb 22 20:58 h_calculator_module.py\r\n"
     ]
    }
   ],
   "source": [
    "ls -l"
   ]
  },
  {
   "cell_type": "code",
   "execution_count": null,
   "metadata": {},
   "outputs": [],
   "source": []
  }
 ],
 "metadata": {
  "kernelspec": {
   "display_name": "Python 3",
   "language": "python",
   "name": "python3"
  },
  "language_info": {
   "codemirror_mode": {
    "name": "ipython",
    "version": 3
   },
   "file_extension": ".py",
   "mimetype": "text/x-python",
   "name": "python",
   "nbconvert_exporter": "python",
   "pygments_lexer": "ipython3",
   "version": "3.8.3"
  }
 },
 "nbformat": 4,
 "nbformat_minor": 4
}

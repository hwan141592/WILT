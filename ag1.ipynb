{
 "cells": [
  {
   "cell_type": "markdown",
   "id": "70501b40-5924-4c71-87a0-34f1fb4e511a",
   "metadata": {},
   "source": [
    "#### 수도코드\n",
    " - 실행이 되지 않는, 알고리즘만을 기술하는 코드"
   ]
  },
  {
   "cell_type": "markdown",
   "id": "0509e772-ff71-44ea-954a-b5ef438558ab",
   "metadata": {},
   "source": [
    "#### Naming Convention\n",
    " - python은 각 단어를 밑줄로 구분하여 표기하는 스네이크 케이스(Snake Case)를 따름\n",
    "\n",
    "#### 2가지 Naming Convention\n",
    " - 카멜 케이스(Camel Case)\n",
    "   - 낙타처럼 생긴 것에 유래하여 부르는 이름\n",
    "   - 단어를 대소문자로 구분하여 섞어 작명하는 방식\n",
    "   - 자바의 대표적인 표기 방식\n",
    " - 스네이크 케이스(Snake Case)\n",
    "   - 뱀과 같은 모양에서 유래하여 부르는 이름\n",
    "   - 각 단어를 언더스코어( _ )로 구분하여 작명하는 방식\n",
    "   - 일반적으로 모두 소문자로 표기하지만 경우에 따라 시작 문자는 대문자로 표기하기도 함\n",
    " - 스네이크 케이스가 카멜 케이스보다 더 인지하기 쉬움\n",
    " - python은 PEP8에서 스네이크 케이스 방식의 naming convention을 권장함"
   ]
  },
  {
   "cell_type": "code",
   "execution_count": null,
   "id": "58e778fc-521f-461f-8f10-16e6a3c1b857",
   "metadata": {},
   "outputs": [],
   "source": []
  }
 ],
 "metadata": {
  "kernelspec": {
   "display_name": "Python 3 (ipykernel)",
   "language": "python",
   "name": "python3"
  },
  "language_info": {
   "codemirror_mode": {
    "name": "ipython",
    "version": 3
   },
   "file_extension": ".py",
   "mimetype": "text/x-python",
   "name": "python",
   "nbconvert_exporter": "python",
   "pygments_lexer": "ipython3",
   "version": "3.8.2"
  }
 },
 "nbformat": 4,
 "nbformat_minor": 5
}

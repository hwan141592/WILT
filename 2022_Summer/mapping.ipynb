{
 "cells": [
  {
   "cell_type": "code",
   "execution_count": 3,
   "id": "bfe4eb9f",
   "metadata": {},
   "outputs": [
    {
     "data": {
      "text/plain": [
       "[4, 5, 3, 1, 5, 'NA']"
      ]
     },
     "execution_count": 3,
     "metadata": {},
     "output_type": "execute_result"
    }
   ],
   "source": [
    "orig = {'a':3, 'b':1, 'c':4, 'd':5}\n",
    "li = ['c', 'd', 'a', 'b', 'd', 'NA']\n",
    "li_updated = [orig[x] if x in orig else x for x in li]\n",
    "li_updated"
   ]
  },
  {
   "cell_type": "code",
   "execution_count": 4,
   "id": "fde560bc",
   "metadata": {},
   "outputs": [
    {
     "ename": "SyntaxError",
     "evalue": "invalid syntax (453530029.py, line 6)",
     "output_type": "error",
     "traceback": [
      "\u001b[0;36m  File \u001b[0;32m\"/var/folders/0x/wx95jk3n37s0t7ywgmz5jqz40000gn/T/ipykernel_12418/453530029.py\"\u001b[0;36m, line \u001b[0;32m6\u001b[0m\n\u001b[0;31m    ...?\u001b[0m\n\u001b[0m       ^\u001b[0m\n\u001b[0;31mSyntaxError\u001b[0m\u001b[0;31m:\u001b[0m invalid syntax\n"
     ]
    }
   ],
   "source": [
    "orig = {'a':3, 'b':1, 'c':4, 'd':5}\n",
    "li = ['c', 'd', 'a', 'b', 'd', 'NA']\n",
    "\n",
    "def ff(x, orig, li):\n",
    "    li_updated = [orig[x] if x in orig else x for x in li]\n",
    "    for e in li_updated:\n",
    "        \n",
    "    return li_updated[x]"
   ]
  },
  {
   "cell_type": "markdown",
   "id": "e35d6453",
   "metadata": {},
   "source": [
    "#### Quiz"
   ]
  },
  {
   "cell_type": "code",
   "execution_count": 23,
   "id": "aa82c8a8",
   "metadata": {},
   "outputs": [],
   "source": [
    "def fff(x):\n",
    "    if x=='JAN':\n",
    "        return '01'\n",
    "    elif x=='FEB':\n",
    "        return '02'\n",
    "    # ...\n",
    "    # ...\n",
    "    # ...\n",
    "    # ...\n",
    "    # ...\n",
    "    # ...\n",
    "    # ...\n",
    "    # ...\n",
    "    # ...\n",
    "    # ...\n",
    "    # ...\n",
    "    # ...\n",
    "    # ...\n",
    "    # ...\n",
    "    elif x=='DEC':\n",
    "        return '12'\n",
    "    else:\n",
    "        return 'None'"
   ]
  },
  {
   "cell_type": "markdown",
   "id": "558459b5",
   "metadata": {},
   "source": [
    "#### sol.1) 인자에 미포함"
   ]
  },
  {
   "cell_type": "code",
   "execution_count": 41,
   "id": "2b23271a",
   "metadata": {},
   "outputs": [
    {
     "data": {
      "text/plain": [
       "'NA'"
      ]
     },
     "execution_count": 41,
     "metadata": {},
     "output_type": "execute_result"
    }
   ],
   "source": [
    "li_a = ['JAN', 'FEB', 'MAR', 'APR', 'MAY', 'JUN', 'JUL', 'AUG', 'SEP', 'OCT', 'NOV', 'DEC']\n",
    "li_b = ['01', '02', '03', '04', '05', '06', '07', '08', '09', '10', '11', '12']\n",
    "\n",
    "def ff(x):\n",
    "    for i in range(len(li_a)):\n",
    "        if x==li_a[i]:\n",
    "            return li_b[i]\n",
    "        elif x!=li_a[i]:\n",
    "            return 'NA'\n",
    "        else:\n",
    "            pass\n",
    "ff('NOV')"
   ]
  },
  {
   "cell_type": "markdown",
   "id": "867dca71",
   "metadata": {},
   "source": [
    "#### sol.1) 인자에 포함"
   ]
  },
  {
   "cell_type": "code",
   "execution_count": 24,
   "id": "6b416e8d",
   "metadata": {},
   "outputs": [
    {
     "data": {
      "text/plain": [
       "'02'"
      ]
     },
     "execution_count": 24,
     "metadata": {},
     "output_type": "execute_result"
    }
   ],
   "source": [
    "li_a = ['JAN', 'FEB', 'MAR', 'APR', 'MAY', 'JUN', 'JUL', 'AUG', 'SEP', 'OCT', 'NOV', 'DEC']\n",
    "li_b = ['01', '02', '03', '04', '05', '06', '07', '08', '09', '10', '11', '12']\n",
    "\n",
    "def ff(x, before, after):\n",
    "    for i in range(len(before)):\n",
    "        if x==before[i]:\n",
    "            return after[i]\n",
    "        else:\n",
    "            pass\n",
    "        \n",
    "ff('FEB', li_a, li_b)"
   ]
  },
  {
   "cell_type": "markdown",
   "id": "4ed68180",
   "metadata": {},
   "source": [
    "#### sol.2) 인자에 미포함"
   ]
  },
  {
   "cell_type": "code",
   "execution_count": 27,
   "id": "f1547e76",
   "metadata": {},
   "outputs": [
    {
     "data": {
      "text/plain": [
       "'11'"
      ]
     },
     "execution_count": 27,
     "metadata": {},
     "output_type": "execute_result"
    }
   ],
   "source": [
    "di = {\n",
    "    'JAN':'01', 'FEB':'02', 'MAR':'03', 'APR':'04', 'MAY':'05', 'JUN':'06', \n",
    "    'JUL':'07', 'AUG':'08', 'SEP':'09', 'OCT':'10', 'NOV':'11', 'DEC':'12'\n",
    "}\n",
    "\n",
    "def ff2(x):\n",
    "    for k, v in di.items():\n",
    "        if x==k:\n",
    "            return v\n",
    "        else:\n",
    "            pass\n",
    "\n",
    "ff2('NOV')"
   ]
  },
  {
   "cell_type": "markdown",
   "id": "7d0db44c",
   "metadata": {},
   "source": [
    "#### sol.2) 인자에 포함"
   ]
  },
  {
   "cell_type": "code",
   "execution_count": 26,
   "id": "889cfdf4",
   "metadata": {},
   "outputs": [
    {
     "data": {
      "text/plain": [
       "'11'"
      ]
     },
     "execution_count": 26,
     "metadata": {},
     "output_type": "execute_result"
    }
   ],
   "source": [
    "di = {\n",
    "    'JAN':'01', 'FEB':'02', 'MAR':'03', 'APR':'04', 'MAY':'05', 'JUN':'06', \n",
    "    'JUL':'07', 'AUG':'08', 'SEP':'09', 'OCT':'10', 'NOV':'11', 'DEC':'12'\n",
    "}\n",
    "\n",
    "def ff2(x, dictionary):\n",
    "    for k, v in di.items():\n",
    "        if x==k:\n",
    "            return v\n",
    "        else:\n",
    "            pass\n",
    "\n",
    "ff2('NOV', di)"
   ]
  },
  {
   "cell_type": "code",
   "execution_count": null,
   "id": "9b7dd575",
   "metadata": {},
   "outputs": [],
   "source": []
  },
  {
   "cell_type": "code",
   "execution_count": null,
   "id": "cfe95eff",
   "metadata": {},
   "outputs": [],
   "source": [
    "#ff2 = lambda x, i: li_b[i] if x == li_a[i] for i in range(len(li_a)): "
   ]
  },
  {
   "cell_type": "code",
   "execution_count": null,
   "id": "74d6dd1d",
   "metadata": {},
   "outputs": [],
   "source": []
  },
  {
   "cell_type": "code",
   "execution_count": null,
   "id": "571499e2",
   "metadata": {},
   "outputs": [],
   "source": []
  },
  {
   "cell_type": "code",
   "execution_count": null,
   "id": "15d716c7",
   "metadata": {},
   "outputs": [],
   "source": []
  },
  {
   "cell_type": "code",
   "execution_count": null,
   "id": "d29f415e",
   "metadata": {},
   "outputs": [],
   "source": []
  },
  {
   "cell_type": "code",
   "execution_count": 5,
   "id": "1e5543f3",
   "metadata": {},
   "outputs": [],
   "source": []
  },
  {
   "cell_type": "code",
   "execution_count": null,
   "id": "f69fad4d",
   "metadata": {},
   "outputs": [],
   "source": []
  },
  {
   "cell_type": "code",
   "execution_count": null,
   "id": "c4c931d8",
   "metadata": {},
   "outputs": [],
   "source": []
  },
  {
   "cell_type": "code",
   "execution_count": null,
   "id": "9b0d6307",
   "metadata": {},
   "outputs": [],
   "source": []
  },
  {
   "cell_type": "code",
   "execution_count": null,
   "id": "c2423794",
   "metadata": {},
   "outputs": [],
   "source": []
  },
  {
   "cell_type": "code",
   "execution_count": null,
   "id": "8e68a07c",
   "metadata": {},
   "outputs": [],
   "source": []
  }
 ],
 "metadata": {
  "kernelspec": {
   "display_name": "Python 3 (ipykernel)",
   "language": "python",
   "name": "python3"
  },
  "language_info": {
   "codemirror_mode": {
    "name": "ipython",
    "version": 3
   },
   "file_extension": ".py",
   "mimetype": "text/x-python",
   "name": "python",
   "nbconvert_exporter": "python",
   "pygments_lexer": "ipython3",
   "version": "3.8.2"
  }
 },
 "nbformat": 4,
 "nbformat_minor": 5
}

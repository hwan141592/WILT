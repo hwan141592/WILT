{
 "cells": [
  {
   "cell_type": "code",
   "execution_count": null,
   "id": "1cb71419",
   "metadata": {},
   "outputs": [],
   "source": [
    "!java -version"
   ]
  },
  {
   "cell_type": "code",
   "execution_count": null,
   "id": "f6f31389",
   "metadata": {},
   "outputs": [],
   "source": [
    "# To be more precisely, it's better to use `{sys.executable} -m pip install tabula-py`\n",
    "!pip install -q tabula-py"
   ]
  },
  {
   "cell_type": "code",
   "execution_count": null,
   "id": "1bddb201",
   "metadata": {},
   "outputs": [],
   "source": [
    "import tabula"
   ]
  },
  {
   "cell_type": "code",
   "execution_count": null,
   "id": "eff2f79e",
   "metadata": {},
   "outputs": [],
   "source": [
    "tabula.environment_info()"
   ]
  },
  {
   "cell_type": "code",
   "execution_count": null,
   "id": "d168f658",
   "metadata": {},
   "outputs": [],
   "source": [
    "import tabula\n",
    "#pdf_path = \"https://github.com/chezou/tabula-py/raw/master/tests/resources/data.pdf\"\n",
    "#           \"https://github.com/chezou/tabula-py/blob/master/tests/resources/data.pdf\"\n",
    "pdf_path = \"https://github.com/hwaneest/TIL/raw/master/sample.pdf\"\n",
    "dfs = tabula.read_pdf(pdf_path, stream=True)\n",
    "# read_pdf returns list of DataFrames\n",
    "print(len(dfs))\n",
    "display(dfs[0])"
   ]
  },
  {
   "cell_type": "code",
   "execution_count": null,
   "id": "c10bf151",
   "metadata": {},
   "outputs": [],
   "source": [
    "from google.colab import drive\n",
    "drive.mount('/content/drive')"
   ]
  },
  {
   "cell_type": "code",
   "execution_count": null,
   "id": "d5cb3d09",
   "metadata": {},
   "outputs": [],
   "source": [
    "cd drive/MyDrive"
   ]
  },
  {
   "cell_type": "code",
   "execution_count": null,
   "id": "622a516a",
   "metadata": {},
   "outputs": [],
   "source": [
    "ls -al grep 'test'"
   ]
  },
  {
   "cell_type": "code",
   "execution_count": null,
   "id": "6b044e18",
   "metadata": {},
   "outputs": [],
   "source": []
  },
  {
   "cell_type": "code",
   "execution_count": null,
   "id": "0d5eb6f6",
   "metadata": {},
   "outputs": [],
   "source": []
  },
  {
   "cell_type": "code",
   "execution_count": null,
   "id": "89db5065",
   "metadata": {},
   "outputs": [],
   "source": []
  },
  {
   "cell_type": "code",
   "execution_count": null,
   "id": "58d48449",
   "metadata": {},
   "outputs": [],
   "source": []
  },
  {
   "cell_type": "markdown",
   "id": "d9a59904",
   "metadata": {},
   "source": [
    "# Libraries"
   ]
  },
  {
   "cell_type": "code",
   "execution_count": null,
   "id": "69c48349",
   "metadata": {},
   "outputs": [],
   "source": [
    "import os, time\n",
    "import numpy as np\n",
    "import pandas as pd\n",
    "import matplotlib.pyplot as plt\n",
    "import seaborn as sns\n",
    "import warnings\n",
    "warnings.filterwarnings('ignore')"
   ]
  },
  {
   "cell_type": "markdown",
   "id": "71adeb7b",
   "metadata": {},
   "source": [
    "# Convert 'table in the pdf file' into 'pandas.DataFrame' \n",
    " - convert pd.DataFrame into csv file or excel file >> pd.to_csv() / pd.to_excel()"
   ]
  },
  {
   "cell_type": "markdown",
   "id": "0f3637d9",
   "metadata": {},
   "source": [
    "#### links\n",
    " - sample pdf file\n",
    "     - https://github.com/hwaneest/TIL/blob/master/sample.pdf\n",
    "         - Later we change 'blob' into 'raw' in url string\n",
    " - colab\n",
    "     - https://colab.research.google.com/github/chezou/tabula-py/blob/master/examples/tabula_example.ipynb#scrollTo=Ssv5i7OIn10T\n",
    " - Reference\n",
    "     - https://pypi.org/project/tabula-py/\n",
    "     - https://python.plainenglish.io/how-to-read-and-write-pdf-files-using-python-7b930977fe58"
   ]
  },
  {
   "cell_type": "markdown",
   "id": "0b7d9e66",
   "metadata": {},
   "source": [
    "#### install tabula library"
   ]
  },
  {
   "cell_type": "code",
   "execution_count": null,
   "id": "8b1edca3",
   "metadata": {},
   "outputs": [],
   "source": [
    "# !pip install tabula"
   ]
  },
  {
   "cell_type": "markdown",
   "id": "465e76f3",
   "metadata": {},
   "source": [
    "#### import tabula library"
   ]
  },
  {
   "cell_type": "code",
   "execution_count": null,
   "id": "0a23bcb5",
   "metadata": {},
   "outputs": [],
   "source": [
    "# import tabula"
   ]
  },
  {
   "cell_type": "markdown",
   "id": "943c134d",
   "metadata": {},
   "source": [
    "#### convert pdf into csv file"
   ]
  },
  {
   "cell_type": "code",
   "execution_count": null,
   "id": "0a4e1edf",
   "metadata": {},
   "outputs": [],
   "source": [
    "# tabula.environment_info()   # check environment info.\n",
    "# li_df = tabula.read_pdf(\"sample.pdf\", pages='all')   # read pdf into list of DataFrame\n",
    "# tabula.convert_into('./sample.pdf', 'output.csv', output_format='csv', pages='all')"
   ]
  },
  {
   "cell_type": "code",
   "execution_count": null,
   "id": "ac689357",
   "metadata": {},
   "outputs": [],
   "source": []
  }
 ],
 "metadata": {
  "kernelspec": {
   "display_name": "Python 3 (ipykernel)",
   "language": "python",
   "name": "python3"
  },
  "language_info": {
   "codemirror_mode": {
    "name": "ipython",
    "version": 3
   },
   "file_extension": ".py",
   "mimetype": "text/x-python",
   "name": "python",
   "nbconvert_exporter": "python",
   "pygments_lexer": "ipython3",
   "version": "3.8.2"
  }
 },
 "nbformat": 4,
 "nbformat_minor": 5
}

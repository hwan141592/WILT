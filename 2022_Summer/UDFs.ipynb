{
 "cells": [
  {
   "cell_type": "markdown",
   "id": "0c8ca753",
   "metadata": {},
   "source": [
    "# Libraries"
   ]
  },
  {
   "cell_type": "code",
   "execution_count": null,
   "id": "b9f46fed",
   "metadata": {},
   "outputs": [],
   "source": [
    "import os, time\n",
    "import numpy as np\n",
    "import pandas as pd\n",
    "import matplotlib.pyplot as plt\n",
    "import seaborn as sns\n",
    "import warnings\n",
    "warnings.filterwarnings('ignore')"
   ]
  },
  {
   "cell_type": "markdown",
   "id": "c51d9de8",
   "metadata": {},
   "source": [
    "# [UDF] How to reduce data file size\n",
    " - pd.read_pickle( ) & df.to_pickle( )\n",
    " - pickle: binary 타입으로 저장\n",
    " - csv/excel vs. pickle\n",
    "   - csv/excel\n",
    "     - better for 숫자, 단어로 이루어진 정형화된 데이터\n",
    "     - MS Excel로 데이터를 다루고 싶을 때 이용\n",
    "     - pickle보다 속도는 느리고 file size는 더 크다.\n",
    "     - 데이터를 다시 불렀을 때, 저장했을 때 형태가 다를 수 있다.\n",
    "   - pickle\n",
    "     - work well with 장문 텍스트, 단문 텍스트 등의 비정형 데이터\n",
    "     - work well with 리스트/데이터프레임 등을 포함한 데이터\n",
    "     - python pandas를 이용해 데이터를 다루고 싶을 때 이용\n",
    "     - Excel보다 속도는 빠르고 file size는 작다.\n",
    "     - python 외의 다른 언어에서는 다룰 수 없다.\n",
    " - References\n",
    "   - https://wikidocs.net/161041"
   ]
  },
  {
   "cell_type": "code",
   "execution_count": 3,
   "id": "f8acdc80",
   "metadata": {},
   "outputs": [],
   "source": [
    "import os\n",
    "import time\n",
    "import pandas as pd\n",
    "\n",
    "def save_as_pickle(df, fpath):\n",
    "    tic = time.time()\n",
    "    df.to_pickle(os.path.join(fpath))\n",
    "    toc = time.time()\n",
    "    print('It took {:4f} seconds to save dataframe as pickle file.'.format(toc-tic))\n",
    "    \n",
    "def read_pickle(pkl_fpath):\n",
    "    tic = time.time()\n",
    "    df = pd.read_pickle(pkl_fpath)\n",
    "    toc = time.time()\n",
    "    print('It took {:4f} seconds to read the pickle file.'.format(toc-tic))"
   ]
  },
  {
   "cell_type": "code",
   "execution_count": 4,
   "id": "60044ebb",
   "metadata": {},
   "outputs": [
    {
     "name": "stdout",
     "output_type": "stream",
     "text": [
      "It took 0.002321 seconds to save dataframe as pickle file.\n"
     ]
    }
   ],
   "source": [
    "# usage example\n",
    "df = pd.DataFrame({'a':[1, 'abc'], 'b':[3231, 'bdsf']})\n",
    "fpath = './test914.pkl'\n",
    "\n",
    "save_as_pickle(df, fpath)"
   ]
  },
  {
   "cell_type": "code",
   "execution_count": 6,
   "id": "005066a8",
   "metadata": {},
   "outputs": [
    {
     "name": "stdout",
     "output_type": "stream",
     "text": [
      "It took 0.001103 seconds to read the pickle file.\n"
     ]
    }
   ],
   "source": [
    "# usage example\n",
    "fpath = './test914.pkl'\n",
    "read_pickle(fpath)"
   ]
  },
  {
   "cell_type": "code",
   "execution_count": null,
   "id": "5d1fd627",
   "metadata": {},
   "outputs": [],
   "source": []
  },
  {
   "cell_type": "code",
   "execution_count": null,
   "id": "fef6760c",
   "metadata": {},
   "outputs": [],
   "source": []
  },
  {
   "cell_type": "code",
   "execution_count": null,
   "id": "b0412c53",
   "metadata": {},
   "outputs": [],
   "source": []
  },
  {
   "cell_type": "code",
   "execution_count": null,
   "id": "eb517cd6",
   "metadata": {},
   "outputs": [],
   "source": []
  },
  {
   "cell_type": "code",
   "execution_count": null,
   "id": "d3ae7678",
   "metadata": {},
   "outputs": [],
   "source": []
  },
  {
   "cell_type": "code",
   "execution_count": null,
   "id": "2007dfc5",
   "metadata": {},
   "outputs": [],
   "source": []
  },
  {
   "cell_type": "markdown",
   "id": "6109895f",
   "metadata": {},
   "source": [
    "# Viz"
   ]
  },
  {
   "cell_type": "code",
   "execution_count": null,
   "id": "feaadc5d",
   "metadata": {
    "scrolled": true
   },
   "outputs": [],
   "source": [
    "s = pd.Series([1,2,3,3,3,3,3,4,4,4,5]).value_counts()\n",
    "width, "
   ]
  },
  {
   "cell_type": "code",
   "execution_count": null,
   "id": "e5f3d800",
   "metadata": {},
   "outputs": [],
   "source": []
  },
  {
   "cell_type": "code",
   "execution_count": null,
   "id": "e612f051",
   "metadata": {},
   "outputs": [],
   "source": []
  },
  {
   "cell_type": "code",
   "execution_count": null,
   "id": "93c14ea1",
   "metadata": {},
   "outputs": [],
   "source": []
  }
 ],
 "metadata": {
  "kernelspec": {
   "display_name": "Python 3 (ipykernel)",
   "language": "python",
   "name": "python3"
  },
  "language_info": {
   "codemirror_mode": {
    "name": "ipython",
    "version": 3
   },
   "file_extension": ".py",
   "mimetype": "text/x-python",
   "name": "python",
   "nbconvert_exporter": "python",
   "pygments_lexer": "ipython3",
   "version": "3.8.2"
  }
 },
 "nbformat": 4,
 "nbformat_minor": 5
}

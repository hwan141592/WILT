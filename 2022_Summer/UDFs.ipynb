{
 "cells": [
  {
   "cell_type": "markdown",
   "id": "68f9fa70",
   "metadata": {},
   "source": [
    "# Libraries"
   ]
  },
  {
   "cell_type": "code",
   "execution_count": 12,
   "id": "f40532cd",
   "metadata": {},
   "outputs": [],
   "source": [
    "import os\n",
    "import time\n",
    "import numpy as np\n",
    "import pandas as pd\n",
    "import matplotlib.pyplot as plt\n",
    "import seaborn as sns\n",
    "import warnings\n",
    "warnings.filterwarnings('ignore')"
   ]
  },
  {
   "cell_type": "markdown",
   "id": "f3c66cc6",
   "metadata": {},
   "source": [
    "# [UDF] How to reduce data file size\n",
    " - pd.read_pickle( ) & df.to_pickle( )\n",
    " - pickle: binary 타입으로 저장\n",
    " - csv/excel vs. pickle\n",
    "   - csv/excel\n",
    "     - better for 숫자, 단어로 이루어진 정형화된 데이터\n",
    "     - MS Excel로 데이터를 다루고 싶을 때 이용\n",
    "     - pickle보다 속도는 느리고 file size는 더 크다.\n",
    "     - 데이터를 다시 불렀을 때, 저장했을 때 형태가 다를 수 있다.\n",
    "   - pickle\n",
    "     - work well with 장문 텍스트, 단문 텍스트 등의 비정형 데이터\n",
    "     - work well with 리스트/데이터프레임 등을 포함한 데이터\n",
    "     - python pandas를 이용해 데이터를 다루고 싶을 때 이용\n",
    "     - Excel보다 속도는 빠르고 file size는 작다.\n",
    "     - python 외의 다른 언어에서는 다룰 수 없다.\n",
    " - References\n",
    "   - https://wikidocs.net/161041"
   ]
  },
  {
   "cell_type": "markdown",
   "id": "e10071b3",
   "metadata": {},
   "source": [
    "#### save_as_pickle( df, fpath, p )"
   ]
  },
  {
   "cell_type": "code",
   "execution_count": 20,
   "id": "28ae3857",
   "metadata": {},
   "outputs": [
    {
     "name": "stdout",
     "output_type": "stream",
     "text": [
      "*** It took 0.002100 seconds to save dataframe as pickle file.\n"
     ]
    }
   ],
   "source": [
    "def save_as_pickle(df, fpath, p=True):\n",
    "    tic = time.time()\n",
    "    df.to_pickle(os.path.join(fpath))\n",
    "    toc = time.time()\n",
    "    if p == True:\n",
    "        print('*** It took {:4f} seconds to save dataframe as pickle file.'.format(toc-tic))\n",
    "    else:\n",
    "        pass\n",
    "    \n",
    "    \n",
    "# usage example\n",
    "df = pd.DataFrame({'a':[1, 'abc'], 'b':[3231, 'bdsf']})\n",
    "fpath = './test914.pkl'\n",
    "save_as_pickle(df, fpath)"
   ]
  },
  {
   "cell_type": "markdown",
   "id": "7482e168",
   "metadata": {},
   "source": [
    "#### read_pickle( fpath, p )"
   ]
  },
  {
   "cell_type": "code",
   "execution_count": 21,
   "id": "660cd6d6",
   "metadata": {},
   "outputs": [
    {
     "name": "stdout",
     "output_type": "stream",
     "text": [
      "*** It took 0.001854 seconds to read the pickle file.\n"
     ]
    }
   ],
   "source": [
    "def read_pickle(pkl_fpath, p=True):\n",
    "    tic = time.time()\n",
    "    df = pd.read_pickle(pkl_fpath)\n",
    "    toc = time.time()\n",
    "    if p==True:\n",
    "        print('*** It took {:4f} seconds to read the pickle file.'.format(toc-tic))\n",
    "    else:\n",
    "        pass\n",
    "    \n",
    "    \n",
    "# usage example\n",
    "fpath = './test914.pkl'\n",
    "read_pickle(fpath)"
   ]
  },
  {
   "cell_type": "markdown",
   "id": "e96a0c54",
   "metadata": {},
   "source": [
    "#### get_li_key_col_cand( df ) "
   ]
  },
  {
   "cell_type": "code",
   "execution_count": 38,
   "id": "05de5a97",
   "metadata": {},
   "outputs": [
    {
     "name": "stdout",
     "output_type": "stream",
     "text": [
      "*** key column candidates: ['a']\n"
     ]
    },
    {
     "data": {
      "text/plain": [
       "['a']"
      ]
     },
     "execution_count": 38,
     "metadata": {},
     "output_type": "execute_result"
    }
   ],
   "source": [
    "def get_li_key_col_cand(df):\n",
    "    li_key_col_cand = []\n",
    "    for col in df.columns:\n",
    "        if df.shape[0] - df[col].nunique() == 0:\n",
    "            li_key_col_cand.append(col)\n",
    "        else:\n",
    "            pass\n",
    "    print('*** key column candidates: {}'.format(li_key_col_cand))\n",
    "    return li_key_col_cand\n",
    "\n",
    "\n",
    "# usage example\n",
    "df = pd.DataFrame({'a':[111, '222', '333'], 'b':['abc', 'def', 'abc']})\n",
    "get_li_key_col_cand(df)"
   ]
  },
  {
   "cell_type": "markdown",
   "id": "937a1fe6",
   "metadata": {},
   "source": [
    "#### null_check_for_loop( df )"
   ]
  },
  {
   "cell_type": "code",
   "execution_count": 51,
   "id": "9e568257",
   "metadata": {},
   "outputs": [
    {
     "name": "stdout",
     "output_type": "stream",
     "text": [
      "*** How many null values?\n",
      "** column 'a' : 0.00%\n",
      "** column 'b' : 33.33%\n"
     ]
    }
   ],
   "source": [
    "def null_check_for_loop(df):\n",
    "    all_null_sum = 0\n",
    "    for col in df.columns :        \n",
    "        all_null_sum = all_null_sum + df[col].isnull().sum()\n",
    "    if all_null_sum == 0:\n",
    "        print('*** There is no null value in the DataFrame.')\n",
    "    else:\n",
    "        print(\"*** How many null values?\")\n",
    "        for col in df.columns :\n",
    "            print(\"** column '{}' : {:.2f}%\".format(col, 100*(df[col].isnull().sum() / df[col].shape[0])))\n",
    "            \n",
    "df.iloc[0,1] = np.nan\n",
    "null_check_for_loop(df)"
   ]
  },
  {
   "cell_type": "code",
   "execution_count": null,
   "id": "c022614b",
   "metadata": {},
   "outputs": [],
   "source": []
  },
  {
   "cell_type": "code",
   "execution_count": null,
   "id": "64bc9aa7",
   "metadata": {},
   "outputs": [],
   "source": []
  },
  {
   "cell_type": "code",
   "execution_count": null,
   "id": "ca489a21",
   "metadata": {},
   "outputs": [],
   "source": []
  },
  {
   "cell_type": "code",
   "execution_count": null,
   "id": "d44fcf84",
   "metadata": {},
   "outputs": [],
   "source": []
  },
  {
   "cell_type": "code",
   "execution_count": null,
   "id": "20b9eb7c",
   "metadata": {},
   "outputs": [],
   "source": []
  },
  {
   "cell_type": "code",
   "execution_count": null,
   "id": "74913558",
   "metadata": {},
   "outputs": [],
   "source": []
  },
  {
   "cell_type": "code",
   "execution_count": null,
   "id": "12c4ae17",
   "metadata": {},
   "outputs": [],
   "source": []
  },
  {
   "cell_type": "markdown",
   "id": "c9000ecb",
   "metadata": {},
   "source": [
    "# Viz"
   ]
  },
  {
   "cell_type": "code",
   "execution_count": null,
   "id": "c6dffc8b",
   "metadata": {
    "scrolled": true
   },
   "outputs": [],
   "source": [
    "s = pd.Series([1,2,3,3,3,3,3,4,4,4,5]).value_counts()\n",
    "width, "
   ]
  },
  {
   "cell_type": "code",
   "execution_count": null,
   "id": "fae71b4b",
   "metadata": {},
   "outputs": [],
   "source": []
  },
  {
   "cell_type": "code",
   "execution_count": null,
   "id": "f6b1c84b",
   "metadata": {},
   "outputs": [],
   "source": []
  },
  {
   "cell_type": "code",
   "execution_count": null,
   "id": "f3ff7e0c",
   "metadata": {},
   "outputs": [],
   "source": []
  }
 ],
 "metadata": {
  "kernelspec": {
   "display_name": "Python 3 (ipykernel)",
   "language": "python",
   "name": "python3"
  },
  "language_info": {
   "codemirror_mode": {
    "name": "ipython",
    "version": 3
   },
   "file_extension": ".py",
   "mimetype": "text/x-python",
   "name": "python",
   "nbconvert_exporter": "python",
   "pygments_lexer": "ipython3",
   "version": "3.8.2"
  }
 },
 "nbformat": 4,
 "nbformat_minor": 5
}

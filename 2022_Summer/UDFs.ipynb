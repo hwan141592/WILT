{
 "cells": [
  {
   "cell_type": "markdown",
   "id": "d9ae9cc8",
   "metadata": {},
   "source": [
    "# Libraries"
   ]
  },
  {
   "cell_type": "code",
   "execution_count": 12,
   "id": "ef9f5f35",
   "metadata": {},
   "outputs": [],
   "source": [
    "import os\n",
    "import time\n",
    "import numpy as np\n",
    "import pandas as pd\n",
    "import matplotlib.pyplot as plt\n",
    "import seaborn as sns\n",
    "import warnings\n",
    "warnings.filterwarnings('ignore')"
   ]
  },
  {
   "cell_type": "markdown",
   "id": "1f63d6ee",
   "metadata": {},
   "source": [
    "# [UDF] How to reduce data file size\n",
    " - pd.read_pickle( ) & df.to_pickle( )\n",
    " - pickle: binary 타입으로 저장\n",
    " - csv/excel vs. pickle\n",
    "   - csv/excel\n",
    "     - better for 숫자, 단어로 이루어진 정형화된 데이터\n",
    "     - MS Excel로 데이터를 다루고 싶을 때 이용\n",
    "     - pickle보다 속도는 느리고 file size는 더 크다.\n",
    "     - 데이터를 다시 불렀을 때, 저장했을 때 형태가 다를 수 있다.\n",
    "   - pickle\n",
    "     - work well with 장문 텍스트, 단문 텍스트 등의 비정형 데이터\n",
    "     - work well with 리스트/데이터프레임 등을 포함한 데이터\n",
    "     - python pandas를 이용해 데이터를 다루고 싶을 때 이용\n",
    "     - Excel보다 속도는 빠르고 file size는 작다.\n",
    "     - python 외의 다른 언어에서는 다룰 수 없다.\n",
    " - References\n",
    "   - https://wikidocs.net/161041"
   ]
  },
  {
   "cell_type": "markdown",
   "id": "75c87dbe",
   "metadata": {},
   "source": [
    "#### save_as_pickle( df, fpath, p )"
   ]
  },
  {
   "cell_type": "code",
   "execution_count": 20,
   "id": "2377ee93",
   "metadata": {},
   "outputs": [
    {
     "name": "stdout",
     "output_type": "stream",
     "text": [
      "*** It took 0.002100 seconds to save dataframe as pickle file.\n"
     ]
    }
   ],
   "source": [
    "def save_as_pickle(df, fpath, p=True):\n",
    "    tic = time.time()\n",
    "    df.to_pickle(os.path.join(fpath))\n",
    "    toc = time.time()\n",
    "    if p == True:\n",
    "        print('*** It took {:4f} seconds to save dataframe as pickle file.'.format(toc-tic))\n",
    "    else:\n",
    "        pass\n",
    "    \n",
    "    \n",
    "# usage example\n",
    "df = pd.DataFrame({'a':[1, 'abc'], 'b':[3231, 'bdsf']})\n",
    "fpath = './test914.pkl'\n",
    "save_as_pickle(df, fpath)"
   ]
  },
  {
   "cell_type": "markdown",
   "id": "89e19a3c",
   "metadata": {},
   "source": [
    "#### read_pickle( fpath, p )"
   ]
  },
  {
   "cell_type": "code",
   "execution_count": 21,
   "id": "8c1ef581",
   "metadata": {},
   "outputs": [
    {
     "name": "stdout",
     "output_type": "stream",
     "text": [
      "*** It took 0.001854 seconds to read the pickle file.\n"
     ]
    }
   ],
   "source": [
    "def read_pickle(pkl_fpath, p=True):\n",
    "    tic = time.time()\n",
    "    df = pd.read_pickle(pkl_fpath)\n",
    "    toc = time.time()\n",
    "    if p==True:\n",
    "        print('*** It took {:4f} seconds to read the pickle file.'.format(toc-tic))\n",
    "    else:\n",
    "        pass\n",
    "    \n",
    "    \n",
    "# usage example\n",
    "fpath = './test914.pkl'\n",
    "read_pickle(fpath)"
   ]
  },
  {
   "cell_type": "markdown",
   "id": "86d7ff91",
   "metadata": {},
   "source": [
    "#### get_li_key_col_cand( df ) "
   ]
  },
  {
   "cell_type": "code",
   "execution_count": 38,
   "id": "24445d4d",
   "metadata": {},
   "outputs": [
    {
     "name": "stdout",
     "output_type": "stream",
     "text": [
      "*** key column candidates: ['a']\n"
     ]
    },
    {
     "data": {
      "text/plain": [
       "['a']"
      ]
     },
     "execution_count": 38,
     "metadata": {},
     "output_type": "execute_result"
    }
   ],
   "source": [
    "def get_li_key_col_cand(df):\n",
    "    li_key_col_cand = []\n",
    "    for col in df.columns:\n",
    "        if df.shape[0] - df[col].nunique() == 0:\n",
    "            li_key_col_cand.append(col)\n",
    "        else:\n",
    "            pass\n",
    "    print('*** key column candidates: {}'.format(li_key_col_cand))\n",
    "    return li_key_col_cand\n",
    "\n",
    "\n",
    "# usage example\n",
    "df = pd.DataFrame({'a':[111, '222', '333'], 'b':['abc', 'def', 'abc']})\n",
    "get_li_key_col_cand(df)"
   ]
  },
  {
   "cell_type": "markdown",
   "id": "2c199850",
   "metadata": {},
   "source": [
    "#### null_check_for_loop( df )"
   ]
  },
  {
   "cell_type": "code",
   "execution_count": 51,
   "id": "4e9421c0",
   "metadata": {},
   "outputs": [
    {
     "name": "stdout",
     "output_type": "stream",
     "text": [
      "*** How many null values?\n",
      "** column 'a' : 0.00%\n",
      "** column 'b' : 33.33%\n"
     ]
    }
   ],
   "source": [
    "def null_check_for_loop(df):\n",
    "    all_null_sum = 0\n",
    "    for col in df.columns :        \n",
    "        all_null_sum = all_null_sum + df[col].isnull().sum()\n",
    "    if all_null_sum == 0:\n",
    "        print('*** There is no null value in the DataFrame.')\n",
    "    else:\n",
    "        print(\"*** How many null values?\")\n",
    "        for col in df.columns :\n",
    "            print(\"** column '{}' : {:.2f}%\".format(col, 100*(df[col].isnull().sum() / df[col].shape[0])))\n",
    "            \n",
    "df.iloc[0,1] = np.nan\n",
    "null_check_for_loop(df)"
   ]
  },
  {
   "cell_type": "code",
   "execution_count": null,
   "id": "8c81b74c",
   "metadata": {},
   "outputs": [],
   "source": []
  },
  {
   "cell_type": "code",
   "execution_count": null,
   "id": "00c6f4ee",
   "metadata": {},
   "outputs": [],
   "source": []
  },
  {
   "cell_type": "code",
   "execution_count": null,
   "id": "4b72b983",
   "metadata": {},
   "outputs": [],
   "source": []
  },
  {
   "cell_type": "code",
   "execution_count": null,
   "id": "80d73b11",
   "metadata": {},
   "outputs": [],
   "source": []
  },
  {
   "cell_type": "code",
   "execution_count": null,
   "id": "dd9198b5",
   "metadata": {},
   "outputs": [],
   "source": []
  },
  {
   "cell_type": "code",
   "execution_count": null,
   "id": "61f41b73",
   "metadata": {},
   "outputs": [],
   "source": []
  },
  {
   "cell_type": "code",
   "execution_count": null,
   "id": "235e584d",
   "metadata": {},
   "outputs": [],
   "source": []
  },
  {
   "cell_type": "markdown",
   "id": "f7057360",
   "metadata": {},
   "source": [
    "# Viz"
   ]
  },
  {
   "cell_type": "code",
   "execution_count": null,
   "id": "a704c276",
   "metadata": {
    "scrolled": true
   },
   "outputs": [],
   "source": [
    "s = pd.Series([1,2,3,3,3,3,3,4,4,4,5]).value_counts()\n",
    "width, "
   ]
  },
  {
   "cell_type": "code",
   "execution_count": null,
   "id": "fe3056af",
   "metadata": {},
   "outputs": [],
   "source": []
  },
  {
   "cell_type": "code",
   "execution_count": null,
   "id": "3a537d76",
   "metadata": {},
   "outputs": [],
   "source": []
  },
  {
   "cell_type": "code",
   "execution_count": null,
   "id": "f5abb84c",
   "metadata": {},
   "outputs": [],
   "source": []
  }
 ],
 "metadata": {
  "kernelspec": {
   "display_name": "Python 3 (ipykernel)",
   "language": "python",
   "name": "python3"
  },
  "language_info": {
   "codemirror_mode": {
    "name": "ipython",
    "version": 3
   },
   "file_extension": ".py",
   "mimetype": "text/x-python",
   "name": "python",
   "nbconvert_exporter": "python",
   "pygments_lexer": "ipython3",
   "version": "3.8.2"
  }
 },
 "nbformat": 4,
 "nbformat_minor": 5
}

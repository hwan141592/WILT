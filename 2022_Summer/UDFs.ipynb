{
 "cells": [
  {
   "cell_type": "markdown",
   "id": "68f9fa70",
   "metadata": {},
   "source": [
    "# Libraries"
   ]
  },
  {
   "cell_type": "code",
   "execution_count": 41,
   "id": "f40532cd",
   "metadata": {},
   "outputs": [],
   "source": [
    "# pip install fastparquet\n",
    "# pip install pyarrow\n",
    "\n",
    "import os\n",
    "import time\n",
    "import numpy as np\n",
    "import pandas as pd\n",
    "import matplotlib.pyplot as plt\n",
    "import seaborn as sns\n",
    "import fastparquet\n",
    "import pyarrow\n",
    "import warnings\n",
    "warnings.filterwarnings('ignore')"
   ]
  },
  {
   "cell_type": "markdown",
   "id": "f3c66cc6",
   "metadata": {
    "tags": []
   },
   "source": [
    "# File size\n",
    " - pd.read_pickle( ) & df.to_pickle( )\n",
    " - pickle: binary 타입으로 저장\n",
    " - csv/excel vs. pickle\n",
    "   - csv/excel\n",
    "     - better for 숫자, 단어로 이루어진 정형화된 데이터\n",
    "     - MS Excel로 데이터를 다루고 싶을 때 이용\n",
    "     - pickle보다 속도는 느리고 file size는 더 크다.\n",
    "     - 데이터를 다시 불렀을 때, 저장했을 때 형태가 다를 수 있다.\n",
    "   - pickle\n",
    "     - work well with 장문 텍스트, 단문 텍스트 등의 비정형 데이터\n",
    "     - work well with 리스트/데이터프레임 등을 포함한 데이터\n",
    "     - python pandas를 이용해 데이터를 다루고 싶을 때 이용\n",
    "     - Excel보다 속도는 빠르고 file size는 작다.\n",
    "     - python 외의 다른 언어에서는 다룰 수 없다.\n",
    " - References\n",
    "   - https://wikidocs.net/161041"
   ]
  },
  {
   "cell_type": "markdown",
   "id": "be14f8fd-92b1-4609-a045-7ab5a7182bf7",
   "metadata": {},
   "source": [
    "#### saveAsParquet( df, fpath, p )"
   ]
  },
  {
   "cell_type": "code",
   "execution_count": 62,
   "id": "4d196bcf-64fc-4a55-b09e-88c0f9332ddd",
   "metadata": {},
   "outputs": [
    {
     "name": "stdout",
     "output_type": "stream",
     "text": [
      "*** It took 0.003693 seconds to save dataframe as pickle file.\n"
     ]
    }
   ],
   "source": [
    "def saveAsParquet(df, fpath, p=True):\n",
    "    tic = time.time()\n",
    "    df.to_parquet(os.path.join(fpath), compression='gzip')\n",
    "    toc = time.time()\n",
    "    if p == True:\n",
    "        print('*** It took {:4f} seconds to save dataframe as pickle file.'.format(toc-tic))\n",
    "    else:\n",
    "        pass\n",
    "        \n",
    "# usage example\n",
    "# parquet 데이터: column내 데이터타입이 같아야 함 >> df({'a':['cde', 1]})의 경우 error\n",
    "df = pd.DataFrame({'a':['cde', 'abc'], 'b':[3231, 1231]})\n",
    "fpath = './test.parquet.gzip'\n",
    "saveAsParquet(df, fpath)"
   ]
  },
  {
   "cell_type": "markdown",
   "id": "b1a967d5-c2d7-48d0-a0fa-57f0a88784f1",
   "metadata": {},
   "source": [
    "#### readParquet(df, fpath, p)"
   ]
  },
  {
   "cell_type": "code",
   "execution_count": 63,
   "id": "940beae9-c52f-4943-8b2e-1795dca750d0",
   "metadata": {},
   "outputs": [
    {
     "name": "stdout",
     "output_type": "stream",
     "text": [
      "*** It took 0.005109 seconds to read the pickle file.\n"
     ]
    },
    {
     "data": {
      "text/html": [
       "<div>\n",
       "<style scoped>\n",
       "    .dataframe tbody tr th:only-of-type {\n",
       "        vertical-align: middle;\n",
       "    }\n",
       "\n",
       "    .dataframe tbody tr th {\n",
       "        vertical-align: top;\n",
       "    }\n",
       "\n",
       "    .dataframe thead th {\n",
       "        text-align: right;\n",
       "    }\n",
       "</style>\n",
       "<table border=\"1\" class=\"dataframe\">\n",
       "  <thead>\n",
       "    <tr style=\"text-align: right;\">\n",
       "      <th></th>\n",
       "      <th>a</th>\n",
       "      <th>b</th>\n",
       "    </tr>\n",
       "  </thead>\n",
       "  <tbody>\n",
       "    <tr>\n",
       "      <th>0</th>\n",
       "      <td>cde</td>\n",
       "      <td>3231</td>\n",
       "    </tr>\n",
       "    <tr>\n",
       "      <th>1</th>\n",
       "      <td>abc</td>\n",
       "      <td>1231</td>\n",
       "    </tr>\n",
       "  </tbody>\n",
       "</table>\n",
       "</div>"
      ],
      "text/plain": [
       "     a     b\n",
       "0  cde  3231\n",
       "1  abc  1231"
      ]
     },
     "execution_count": 63,
     "metadata": {},
     "output_type": "execute_result"
    }
   ],
   "source": [
    "def readParquet(fpath, p=True):\n",
    "    tic = time.time()\n",
    "    df = pd.read_parquet(fpath)\n",
    "    toc = time.time()\n",
    "    if p==True:\n",
    "        print('*** It took {:4f} seconds to read the pickle file.'.format(toc-tic))\n",
    "    else:\n",
    "        pass\n",
    "    return df\n",
    "\n",
    "# usage example\n",
    "fpath = './test.parquet.gzip'\n",
    "readParquet(fpath)"
   ]
  },
  {
   "cell_type": "markdown",
   "id": "e10071b3",
   "metadata": {},
   "source": [
    "#### saveAsPickle( df, fpath, p )"
   ]
  },
  {
   "cell_type": "code",
   "execution_count": 64,
   "id": "28ae3857",
   "metadata": {},
   "outputs": [
    {
     "name": "stdout",
     "output_type": "stream",
     "text": [
      "*** It took 0.001713 seconds to save dataframe as pickle file.\n"
     ]
    }
   ],
   "source": [
    "def saveAsPickle(df, fpath, p=True):\n",
    "    tic = time.time()\n",
    "    df.to_pickle(os.path.join(fpath))\n",
    "    toc = time.time()\n",
    "    if p == True:\n",
    "        print('*** It took {:4f} seconds to save dataframe as pickle file.'.format(toc-tic))\n",
    "    else:\n",
    "        pass\n",
    "    \n",
    "    \n",
    "# usage example\n",
    "df = pd.DataFrame({'a':[1, 'abc'], 'b':[3231, 'bdsf']})\n",
    "fpath = './test914.pkl'\n",
    "saveAsPickle(df, fpath)"
   ]
  },
  {
   "cell_type": "markdown",
   "id": "7482e168",
   "metadata": {},
   "source": [
    "#### readPickle( fpath, p )"
   ]
  },
  {
   "cell_type": "code",
   "execution_count": 65,
   "id": "660cd6d6",
   "metadata": {},
   "outputs": [
    {
     "name": "stdout",
     "output_type": "stream",
     "text": [
      "*** It took 0.001214 seconds to read the pickle file.\n"
     ]
    },
    {
     "data": {
      "text/html": [
       "<div>\n",
       "<style scoped>\n",
       "    .dataframe tbody tr th:only-of-type {\n",
       "        vertical-align: middle;\n",
       "    }\n",
       "\n",
       "    .dataframe tbody tr th {\n",
       "        vertical-align: top;\n",
       "    }\n",
       "\n",
       "    .dataframe thead th {\n",
       "        text-align: right;\n",
       "    }\n",
       "</style>\n",
       "<table border=\"1\" class=\"dataframe\">\n",
       "  <thead>\n",
       "    <tr style=\"text-align: right;\">\n",
       "      <th></th>\n",
       "      <th>a</th>\n",
       "      <th>b</th>\n",
       "    </tr>\n",
       "  </thead>\n",
       "  <tbody>\n",
       "    <tr>\n",
       "      <th>0</th>\n",
       "      <td>1</td>\n",
       "      <td>3231</td>\n",
       "    </tr>\n",
       "    <tr>\n",
       "      <th>1</th>\n",
       "      <td>abc</td>\n",
       "      <td>bdsf</td>\n",
       "    </tr>\n",
       "  </tbody>\n",
       "</table>\n",
       "</div>"
      ],
      "text/plain": [
       "     a     b\n",
       "0    1  3231\n",
       "1  abc  bdsf"
      ]
     },
     "execution_count": 65,
     "metadata": {},
     "output_type": "execute_result"
    }
   ],
   "source": [
    "def readPickle(pkl_fpath, p=True):\n",
    "    tic = time.time()\n",
    "    df = pd.read_pickle(pkl_fpath)\n",
    "    toc = time.time()\n",
    "    if p==True:\n",
    "        print('*** It took {:4f} seconds to read the pickle file.'.format(toc-tic))\n",
    "    else:\n",
    "        pass\n",
    "    return df\n",
    "    \n",
    "# usage example\n",
    "fpath = './test914.pkl'\n",
    "readPickle(fpath)"
   ]
  },
  {
   "cell_type": "markdown",
   "id": "e96a0c54",
   "metadata": {},
   "source": [
    "#### getKeyColCand( df ) "
   ]
  },
  {
   "cell_type": "code",
   "execution_count": 66,
   "id": "05de5a97",
   "metadata": {},
   "outputs": [
    {
     "name": "stdout",
     "output_type": "stream",
     "text": [
      "*** key column candidates: ['a']\n"
     ]
    },
    {
     "data": {
      "text/plain": [
       "['a']"
      ]
     },
     "execution_count": 66,
     "metadata": {},
     "output_type": "execute_result"
    }
   ],
   "source": [
    "def getKeyColCand(df):\n",
    "    li_key_col_cand = []\n",
    "    for col in df.columns:\n",
    "        if df.shape[0] - df[col].nunique() == 0:\n",
    "            li_key_col_cand.append(col)\n",
    "        else:\n",
    "            pass\n",
    "    print('*** key column candidates: {}'.format(li_key_col_cand))\n",
    "    return li_key_col_cand\n",
    "\n",
    "\n",
    "# usage example\n",
    "df = pd.DataFrame({'a':[111, '222', '333'], 'b':['abc', 'def', 'abc']})\n",
    "getKeyColCand(df)"
   ]
  },
  {
   "cell_type": "markdown",
   "id": "937a1fe6",
   "metadata": {},
   "source": [
    "#### nullCheckForLoop( df )"
   ]
  },
  {
   "cell_type": "code",
   "execution_count": 67,
   "id": "9e568257",
   "metadata": {},
   "outputs": [
    {
     "name": "stdout",
     "output_type": "stream",
     "text": [
      "*** How many null values?\n",
      "** column 'a' : 0.00%\n",
      "** column 'b' : 33.33%\n"
     ]
    }
   ],
   "source": [
    "def nullCheckForLoop(df):\n",
    "    all_null_sum = 0\n",
    "    for col in df.columns :        \n",
    "        all_null_sum = all_null_sum + df[col].isnull().sum()\n",
    "    if all_null_sum == 0:\n",
    "        print('*** There is no null value in the DataFrame.')\n",
    "    else:\n",
    "        print(\"*** How many null values?\")\n",
    "        for col in df.columns :\n",
    "            print(\"** column '{}' : {:.2f}%\".format(col, 100*(df[col].isnull().sum() / df[col].shape[0])))\n",
    "            \n",
    "df = pd.DataFrame({'a':[111, '222', '333'], 'b':['abc', 'def', 'abc']})\n",
    "df.iloc[0,1] = np.nan\n",
    "nullCheckForLoop(df)"
   ]
  },
  {
   "cell_type": "markdown",
   "id": "8d746fd8-f6b0-44a9-9010-8be85b36d12a",
   "metadata": {},
   "source": [
    "#### colNameChange(str_col_name)"
   ]
  },
  {
   "cell_type": "code",
   "execution_count": 68,
   "id": "c022614b",
   "metadata": {},
   "outputs": [
    {
     "data": {
      "text/html": [
       "<div>\n",
       "<style scoped>\n",
       "    .dataframe tbody tr th:only-of-type {\n",
       "        vertical-align: middle;\n",
       "    }\n",
       "\n",
       "    .dataframe tbody tr th {\n",
       "        vertical-align: top;\n",
       "    }\n",
       "\n",
       "    .dataframe thead th {\n",
       "        text-align: right;\n",
       "    }\n",
       "</style>\n",
       "<table border=\"1\" class=\"dataframe\">\n",
       "  <thead>\n",
       "    <tr style=\"text-align: right;\">\n",
       "      <th></th>\n",
       "      <th>abcde</th>\n",
       "      <th>a_space_b</th>\n",
       "    </tr>\n",
       "  </thead>\n",
       "  <tbody>\n",
       "    <tr>\n",
       "      <th>0</th>\n",
       "      <td>111</td>\n",
       "      <td>abc</td>\n",
       "    </tr>\n",
       "    <tr>\n",
       "      <th>1</th>\n",
       "      <td>222</td>\n",
       "      <td>def</td>\n",
       "    </tr>\n",
       "  </tbody>\n",
       "</table>\n",
       "</div>"
      ],
      "text/plain": [
       "  abcde a_space_b\n",
       "0   111       abc\n",
       "1   222       def"
      ]
     },
     "execution_count": 68,
     "metadata": {},
     "output_type": "execute_result"
    }
   ],
   "source": [
    "def colNameChange(df, lower=True, space_underbar=True):   # x: str\n",
    "    cols = pd.Series(df.columns)\n",
    "    if lower==True:\n",
    "        cols = cols.apply(lambda x: x.lower())                      \n",
    "    if space_underbar==True:\n",
    "        cols = cols.apply(lambda x: x.replace(' ', '_'))\n",
    "    df.columns = cols\n",
    "    return df\n",
    "                                \n",
    "df = pd.DataFrame({'AbcDE':[111, '222'], 'A space B':['abc', 'def']})\n",
    "colNameChange(df)"
   ]
  },
  {
   "cell_type": "markdown",
   "id": "91bc50f3-2d0f-4e80-a4b9-78a0dc06eab7",
   "metadata": {},
   "source": [
    "# Display"
   ]
  },
  {
   "cell_type": "code",
   "execution_count": 5,
   "id": "937e0aa8-6560-4d82-912d-2aa2fac2e226",
   "metadata": {},
   "outputs": [],
   "source": [
    "import pandas as pd\n",
    "\n",
    "def h1(df):\n",
    "    print(df.shape); display(df.head(1))\n",
    "    \n",
    "def t1(df):\n",
    "    print(df.shape); display(df.tail(1))\n",
    "    \n",
    "def h1t1(df):\n",
    "    print(df.shape); display(df.head(1), df.tail(1))"
   ]
  },
  {
   "cell_type": "markdown",
   "id": "996135c2-06b2-46c3-bcaa-58d2118aff87",
   "metadata": {},
   "source": [
    "<hr>"
   ]
  },
  {
   "cell_type": "code",
   "execution_count": 69,
   "id": "011ff46d-32c5-487d-8f58-56992673c8bf",
   "metadata": {},
   "outputs": [],
   "source": [
    "#### Concatenate DFs"
   ]
  },
  {
   "cell_type": "code",
   "execution_count": 38,
   "id": "64bc9aa7",
   "metadata": {},
   "outputs": [],
   "source": [
    "# # Sample Code\n",
    "# file_names = ['users_0101_0131', 'users_0201_0228', 'users_0301_0331']\n",
    "\n",
    "# read csv file & save as pickle file\n",
    "# for kth_file in file_names:\n",
    "#     df = pd.read_csv('./data/' + kth_file + '.csv', engine = 'python')\n",
    "#     save_as_pickle(df, './data/' + kth_file + '.pkl')\n",
    "\n",
    "# # read pickle file and load(assign) it in dictionary\n",
    "# di = {}\n",
    "# for kth_file in file_names:\n",
    "#     key = kth_file.split(' ')[3].split('-')[0] + '_' + kth_file.split(' ')[3].split('-')[1]\n",
    "#     di[key] = read_pickle('./data/' + kth_file + '.pkl')\n",
    "    \n",
    "# di.keys()"
   ]
  },
  {
   "cell_type": "code",
   "execution_count": 39,
   "id": "ca489a21",
   "metadata": {},
   "outputs": [],
   "source": [
    "# # Sample Code (continued)\n",
    "# display(  d['0101_0131'].shape, d['0201_0228'].shape, d['0301_0331'].shape  )\n",
    "\n",
    "# sum(\n",
    "#     (df['0101_0131'].columns != di['0201_0228'].columns).sum(),\n",
    "#     (df['0101_0131'].columns != di['0301_0331'].columns).sum(),\n",
    "#     (df['0201_0228'].columns != di['0301_0331'].columns).sum()\n",
    "# )"
   ]
  },
  {
   "cell_type": "code",
   "execution_count": 40,
   "id": "20b9eb7c",
   "metadata": {},
   "outputs": [],
   "source": [
    "# # Sample Code (continued)\n",
    "# save_as_pickle(d, './data/FINAL_CONCATENATED_FILE_NAME.pkl')\n",
    "# d.read_pickle('./data/FINAL_CONCATENATED_FILE_NAME.pkl')\n",
    "# print(d.shape)\n",
    "# d.head(2)"
   ]
  }
 ],
 "metadata": {
  "kernelspec": {
   "display_name": "Python 3 (ipykernel)",
   "language": "python",
   "name": "python3"
  },
  "language_info": {
   "codemirror_mode": {
    "name": "ipython",
    "version": 3
   },
   "file_extension": ".py",
   "mimetype": "text/x-python",
   "name": "python",
   "nbconvert_exporter": "python",
   "pygments_lexer": "ipython3",
   "version": "3.8.2"
  }
 },
 "nbformat": 4,
 "nbformat_minor": 5
}

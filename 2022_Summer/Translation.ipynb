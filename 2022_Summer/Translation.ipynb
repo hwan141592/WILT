{
 "cells": [
  {
   "cell_type": "markdown",
   "id": "4f4b595a",
   "metadata": {},
   "source": [
    "#### steps\n",
    " - Language Detection\n",
    " - Translation"
   ]
  },
  {
   "cell_type": "markdown",
   "id": "0514d47c",
   "metadata": {
    "tags": []
   },
   "source": [
    "# Settings"
   ]
  },
  {
   "cell_type": "code",
   "execution_count": 1,
   "id": "e3321e50",
   "metadata": {},
   "outputs": [],
   "source": [
    "# pip install langdetect\n",
    "# pip install google_trans_new\n",
    "\n",
    "import pandas as pd\n",
    "import langdetect as ld\n",
    "from langdetect import detect, detect_langs, DetectorFactory\n",
    "\n",
    "import google_trans_new\n",
    "from google_trans_new import google_translator\n",
    "\n",
    "pd.set_option('display.max_rows', None)\n",
    "pd.set_option('display.max_columns', None)\n",
    "pd.set_option('display.width', 1000)\n",
    "# pd.set_option('max_colwidth', 300)\n",
    "DetectorFactory.seed = 0"
   ]
  },
  {
   "cell_type": "markdown",
   "id": "a9303620",
   "metadata": {},
   "source": [
    "# Common\n",
    " - package name: google_translate_new\n",
    " - function name: google_translator()"
   ]
  },
  {
   "cell_type": "code",
   "execution_count": 2,
   "id": "5b654b2e",
   "metadata": {},
   "outputs": [
    {
     "data": {
      "text/plain": [
       "<google_trans_new.google_trans_new.google_translator at 0x7fbb71aefb80>"
      ]
     },
     "execution_count": 2,
     "metadata": {},
     "output_type": "execute_result"
    }
   ],
   "source": [
    "translator = google_translator()\n",
    "translator"
   ]
  },
  {
   "cell_type": "markdown",
   "id": "b057f615",
   "metadata": {},
   "source": [
    "# Language Detection"
   ]
  },
  {
   "cell_type": "markdown",
   "id": "a44bd196",
   "metadata": {},
   "source": [
    "#### 1) langdetect"
   ]
  },
  {
   "cell_type": "code",
   "execution_count": 3,
   "id": "61c3b886",
   "metadata": {},
   "outputs": [
    {
     "data": {
      "text/plain": [
       "'sw'"
      ]
     },
     "execution_count": 3,
     "metadata": {},
     "output_type": "execute_result"
    }
   ],
   "source": [
    "sentence = \"Tanzania ni nchi inayoongoza kwa utalii barani afrika\"\n",
    "detect(sentence)"
   ]
  },
  {
   "cell_type": "code",
   "execution_count": 4,
   "id": "812a6508",
   "metadata": {},
   "outputs": [
    {
     "data": {
      "text/plain": [
       "[sw:0.9999971210408876]"
      ]
     },
     "execution_count": 4,
     "metadata": {},
     "output_type": "execute_result"
    }
   ],
   "source": [
    "sentence = \"Tanzania ni nchi inayoongoza kwa utalii barani afrika\"\n",
    "detect_langs(sentence)"
   ]
  },
  {
   "cell_type": "code",
   "execution_count": 5,
   "id": "38984b07",
   "metadata": {},
   "outputs": [
    {
     "data": {
      "text/plain": [
       "('ko', [ko:0.9999999918622879])"
      ]
     },
     "execution_count": 5,
     "metadata": {},
     "output_type": "execute_result"
    }
   ],
   "source": [
    "sentence = \"안녕하세요, 좋은 아침입니다.\"\n",
    "detect(sentence), detect_langs(sentence)"
   ]
  },
  {
   "cell_type": "markdown",
   "id": "aa093cdc",
   "metadata": {},
   "source": [
    "#### 2) google_trans_new.google_translator"
   ]
  },
  {
   "cell_type": "code",
   "execution_count": 13,
   "id": "c9ba6958",
   "metadata": {},
   "outputs": [
    {
     "data": {
      "text/plain": [
       "['ko', 'korean']"
      ]
     },
     "execution_count": 13,
     "metadata": {},
     "output_type": "execute_result"
    }
   ],
   "source": [
    "sentence = \"안녕하세요, 좋은 아침입니다.\"\n",
    "translator.detect(sentence)"
   ]
  },
  {
   "cell_type": "markdown",
   "id": "c96925f3",
   "metadata": {},
   "source": [
    "# Translation"
   ]
  },
  {
   "cell_type": "code",
   "execution_count": 17,
   "id": "d1d91685",
   "metadata": {},
   "outputs": [
    {
     "data": {
      "text/plain": [
       "'Hello China '"
      ]
     },
     "execution_count": 17,
     "metadata": {},
     "output_type": "execute_result"
    }
   ],
   "source": [
    "translate_text = translator.translate('สวัสดีจีน',lang_tgt='en')  \n",
    "translate_text"
   ]
  },
  {
   "cell_type": "code",
   "execution_count": 18,
   "id": "1da0759f",
   "metadata": {},
   "outputs": [
    {
     "name": "stdout",
     "output_type": "stream",
     "text": [
      "['hello ', 'annyeonghaseyo', None]\n"
     ]
    }
   ],
   "source": [
    "translate_text = translator.translate('안녕하세요',lang_tgt='en', pronounce=True)\n",
    "print(translate_text)"
   ]
  },
  {
   "cell_type": "code",
   "execution_count": 19,
   "id": "0f256726",
   "metadata": {},
   "outputs": [
    {
     "name": "stdout",
     "output_type": "stream",
     "text": [
      "こんにちは \n",
      "hello \n",
      "hello! good morning! \n"
     ]
    },
    {
     "data": {
      "text/plain": [
       "'I am looking for a permanent center of gravity '"
      ]
     },
     "execution_count": 19,
     "metadata": {},
     "output_type": "execute_result"
    }
   ],
   "source": [
    "translate_text = translator.translate('안녕하세요',lang_tgt='ja'); print(translate_text)\n",
    "translate_text = translator.translate('こんにちは',lang_tgt='en'); print(translate_text)\n",
    "print(translator.translate('안녕하세요! 좋은 아침입니다!', lang_tgt='en', lang_src='auto'))\n",
    "translator.translate('Cerco un centro di gravità permanente', lang_tgt='en', lang_src='auto')"
   ]
  },
  {
   "cell_type": "code",
   "execution_count": 22,
   "id": "1fcb779d",
   "metadata": {},
   "outputs": [
    {
     "data": {
      "text/html": [
       "<div>\n",
       "<style scoped>\n",
       "    .dataframe tbody tr th:only-of-type {\n",
       "        vertical-align: middle;\n",
       "    }\n",
       "\n",
       "    .dataframe tbody tr th {\n",
       "        vertical-align: top;\n",
       "    }\n",
       "\n",
       "    .dataframe thead th {\n",
       "        text-align: right;\n",
       "    }\n",
       "</style>\n",
       "<table border=\"1\" class=\"dataframe\">\n",
       "  <thead>\n",
       "    <tr style=\"text-align: right;\">\n",
       "      <th></th>\n",
       "      <th>af</th>\n",
       "      <th>sq</th>\n",
       "      <th>am</th>\n",
       "      <th>en</th>\n",
       "      <th>ko</th>\n",
       "      <th>yo</th>\n",
       "      <th>zu</th>\n",
       "    </tr>\n",
       "  </thead>\n",
       "  <tbody>\n",
       "    <tr>\n",
       "      <th>Language</th>\n",
       "      <td>afrikaans</td>\n",
       "      <td>albanian</td>\n",
       "      <td>amharic</td>\n",
       "      <td>english</td>\n",
       "      <td>korean</td>\n",
       "      <td>yoruba</td>\n",
       "      <td>zulu</td>\n",
       "    </tr>\n",
       "  </tbody>\n",
       "</table>\n",
       "</div>"
      ],
      "text/plain": [
       "                 af        sq       am       en      ko      yo    zu\n",
       "Language  afrikaans  albanian  amharic  english  korean  yoruba  zulu"
      ]
     },
     "execution_count": 22,
     "metadata": {},
     "output_type": "execute_result"
    }
   ],
   "source": [
    "lang_df = pd.DataFrame.from_dict(google_trans_new.LANGUAGES,  orient='index', columns=['Language'])\n",
    "lang_df.T"
   ]
  },
  {
   "cell_type": "code",
   "execution_count": 12,
   "id": "6dcedc45",
   "metadata": {},
   "outputs": [
    {
     "data": {
      "text/plain": [
       "{'af': 'afrikaans',\n",
       " 'sq': 'albanian',\n",
       " 'am': 'amharic',\n",
       " 'ar': 'arabic',\n",
       " 'hy': 'armenian',\n",
       " 'az': 'azerbaijani',\n",
       " 'eu': 'basque',\n",
       " 'be': 'belarusian',\n",
       " 'bn': 'bengali',\n",
       " 'bs': 'bosnian',\n",
       " 'bg': 'bulgarian',\n",
       " 'ca': 'catalan',\n",
       " 'ceb': 'cebuano',\n",
       " 'ny': 'chichewa',\n",
       " 'zh-cn': 'chinese (simplified)',\n",
       " 'zh-tw': 'chinese (traditional)',\n",
       " 'co': 'corsican',\n",
       " 'hr': 'croatian',\n",
       " 'cs': 'czech',\n",
       " 'da': 'danish',\n",
       " 'nl': 'dutch',\n",
       " 'en': 'english',\n",
       " 'eo': 'esperanto',\n",
       " 'et': 'estonian',\n",
       " 'tl': 'filipino',\n",
       " 'fi': 'finnish',\n",
       " 'fr': 'french',\n",
       " 'fy': 'frisian',\n",
       " 'gl': 'galician',\n",
       " 'ka': 'georgian',\n",
       " 'de': 'german',\n",
       " 'el': 'greek',\n",
       " 'gu': 'gujarati',\n",
       " 'ht': 'haitian creole',\n",
       " 'ha': 'hausa',\n",
       " 'haw': 'hawaiian',\n",
       " 'iw': 'hebrew',\n",
       " 'he': 'hebrew',\n",
       " 'hi': 'hindi',\n",
       " 'hmn': 'hmong',\n",
       " 'hu': 'hungarian',\n",
       " 'is': 'icelandic',\n",
       " 'ig': 'igbo',\n",
       " 'id': 'indonesian',\n",
       " 'ga': 'irish',\n",
       " 'it': 'italian',\n",
       " 'ja': 'japanese',\n",
       " 'jw': 'javanese',\n",
       " 'kn': 'kannada',\n",
       " 'kk': 'kazakh',\n",
       " 'km': 'khmer',\n",
       " 'ko': 'korean',\n",
       " 'ku': 'kurdish (kurmanji)',\n",
       " 'ky': 'kyrgyz',\n",
       " 'lo': 'lao',\n",
       " 'la': 'latin',\n",
       " 'lv': 'latvian',\n",
       " 'lt': 'lithuanian',\n",
       " 'lb': 'luxembourgish',\n",
       " 'mk': 'macedonian',\n",
       " 'mg': 'malagasy',\n",
       " 'ms': 'malay',\n",
       " 'ml': 'malayalam',\n",
       " 'mt': 'maltese',\n",
       " 'mi': 'maori',\n",
       " 'mr': 'marathi',\n",
       " 'mn': 'mongolian',\n",
       " 'my': 'myanmar (burmese)',\n",
       " 'ne': 'nepali',\n",
       " 'no': 'norwegian',\n",
       " 'or': 'odia',\n",
       " 'ps': 'pashto',\n",
       " 'fa': 'persian',\n",
       " 'pl': 'polish',\n",
       " 'pt': 'portuguese',\n",
       " 'pa': 'punjabi',\n",
       " 'ro': 'romanian',\n",
       " 'ru': 'russian',\n",
       " 'sm': 'samoan',\n",
       " 'gd': 'scots gaelic',\n",
       " 'sr': 'serbian',\n",
       " 'st': 'sesotho',\n",
       " 'sn': 'shona',\n",
       " 'sd': 'sindhi',\n",
       " 'si': 'sinhala',\n",
       " 'sk': 'slovak',\n",
       " 'sl': 'slovenian',\n",
       " 'so': 'somali',\n",
       " 'es': 'spanish',\n",
       " 'su': 'sundanese',\n",
       " 'sw': 'swahili',\n",
       " 'sv': 'swedish',\n",
       " 'tg': 'tajik',\n",
       " 'ta': 'tamil',\n",
       " 'te': 'telugu',\n",
       " 'th': 'thai',\n",
       " 'tr': 'turkish',\n",
       " 'tk': 'turkmen',\n",
       " 'uk': 'ukrainian',\n",
       " 'ur': 'urdu',\n",
       " 'ug': 'uyghur',\n",
       " 'uz': 'uzbek',\n",
       " 'vi': 'vietnamese',\n",
       " 'cy': 'welsh',\n",
       " 'xh': 'xhosa',\n",
       " 'yi': 'yiddish',\n",
       " 'yo': 'yoruba',\n",
       " 'zu': 'zulu'}"
      ]
     },
     "execution_count": 12,
     "metadata": {},
     "output_type": "execute_result"
    }
   ],
   "source": [
    "google_trans_new.LANGUAGES"
   ]
  },
  {
   "cell_type": "markdown",
   "id": "3ba0d59f",
   "metadata": {},
   "source": [
    "# Languages"
   ]
  },
  {
   "cell_type": "markdown",
   "id": "9731ddde",
   "metadata": {},
   "source": [
    "{'af': 'afrikaans',\n",
    " 'sq': 'albanian',\n",
    " 'am': 'amharic',\n",
    " 'ar': 'arabic',\n",
    " 'hy': 'armenian',\n",
    " 'az': 'azerbaijani',\n",
    " 'eu': 'basque',\n",
    " 'be': 'belarusian',\n",
    " 'bn': 'bengali',\n",
    " 'bs': 'bosnian',\n",
    " 'bg': 'bulgarian',\n",
    " 'ca': 'catalan',\n",
    " 'ceb': 'cebuano',\n",
    " 'ny': 'chichewa',\n",
    " 'zh-cn': 'chinese (simplified)',\n",
    " 'zh-tw': 'chinese (traditional)',\n",
    " 'co': 'corsican',\n",
    " 'hr': 'croatian',\n",
    " 'cs': 'czech',\n",
    " 'da': 'danish',\n",
    " 'nl': 'dutch',\n",
    " 'en': 'english',\n",
    " 'eo': 'esperanto',\n",
    " 'et': 'estonian',\n",
    " 'tl': 'filipino',\n",
    " 'fi': 'finnish',\n",
    " 'fr': 'french',\n",
    " 'fy': 'frisian',\n",
    " 'gl': 'galician',\n",
    " 'ka': 'georgian',\n",
    " 'de': 'german',\n",
    " 'el': 'greek',\n",
    " 'gu': 'gujarati',\n",
    " 'ht': 'haitian creole',\n",
    " 'ha': 'hausa',\n",
    " 'haw': 'hawaiian',\n",
    " 'iw': 'hebrew',\n",
    " 'he': 'hebrew',\n",
    " 'hi': 'hindi',\n",
    " 'hmn': 'hmong',\n",
    " 'hu': 'hungarian',\n",
    " 'is': 'icelandic',\n",
    " 'ig': 'igbo',\n",
    " 'id': 'indonesian',\n",
    " 'ga': 'irish',\n",
    " 'it': 'italian',\n",
    " 'ja': 'japanese',\n",
    " 'jw': 'javanese',\n",
    " 'kn': 'kannada',\n",
    " 'kk': 'kazakh',\n",
    " 'km': 'khmer',\n",
    " 'ko': 'korean',\n",
    " 'ku': 'kurdish (kurmanji)',\n",
    " 'ky': 'kyrgyz',\n",
    " 'lo': 'lao',\n",
    " 'la': 'latin',\n",
    " 'lv': 'latvian',\n",
    " 'lt': 'lithuanian',\n",
    " 'lb': 'luxembourgish',\n",
    " 'mk': 'macedonian',\n",
    " 'mg': 'malagasy',\n",
    " 'ms': 'malay',\n",
    " 'ml': 'malayalam',\n",
    " 'mt': 'maltese',\n",
    " 'mi': 'maori',\n",
    " 'mr': 'marathi',\n",
    " 'mn': 'mongolian',\n",
    " 'my': 'myanmar (burmese)',\n",
    " 'ne': 'nepali',\n",
    " 'no': 'norwegian',\n",
    " 'or': 'odia',\n",
    " 'ps': 'pashto',\n",
    " 'fa': 'persian',\n",
    " 'pl': 'polish',\n",
    " 'pt': 'portuguese',\n",
    " 'pa': 'punjabi',\n",
    " 'ro': 'romanian',\n",
    " 'ru': 'russian',\n",
    " 'sm': 'samoan',\n",
    " 'gd': 'scots gaelic',\n",
    " 'sr': 'serbian',\n",
    " 'st': 'sesotho',\n",
    " 'sn': 'shona',\n",
    " 'sd': 'sindhi',\n",
    " 'si': 'sinhala',\n",
    " 'sk': 'slovak',\n",
    " 'sl': 'slovenian',\n",
    " 'so': 'somali',\n",
    " 'es': 'spanish',\n",
    " 'su': 'sundanese',\n",
    " 'sw': 'swahili',\n",
    " 'sv': 'swedish',\n",
    " 'tg': 'tajik',\n",
    " 'ta': 'tamil',\n",
    " 'te': 'telugu',\n",
    " 'th': 'thai',\n",
    " 'tr': 'turkish',\n",
    " 'tk': 'turkmen',\n",
    " 'uk': 'ukrainian',\n",
    " 'ur': 'urdu',\n",
    " 'ug': 'uyghur',\n",
    " 'uz': 'uzbek',\n",
    " 'vi': 'vietnamese',\n",
    " 'cy': 'welsh',\n",
    " 'xh': 'xhosa',\n",
    " 'yi': 'yiddish',\n",
    " 'yo': 'yoruba',\n",
    " 'zu': 'zulu'}"
   ]
  },
  {
   "cell_type": "markdown",
   "id": "81211ac1",
   "metadata": {},
   "source": [
    "# References\n",
    " - https://towardsdatascience.com/how-to-detect-and-translate-languages-for-nlp-project-dfd52af0c3b5\n",
    " - https://github.com/lushan88a/google_trans_new/issues/36"
   ]
  },
  {
   "cell_type": "markdown",
   "id": "795e4e17",
   "metadata": {},
   "source": [
    "# Appendix"
   ]
  },
  {
   "cell_type": "markdown",
   "id": "3731a9fb",
   "metadata": {},
   "source": [
    "#### past...\n",
    " - googletrans package >> Translator module"
   ]
  },
  {
   "cell_type": "code",
   "execution_count": 13,
   "id": "b17aed38",
   "metadata": {},
   "outputs": [
    {
     "data": {
      "text/plain": [
       "(107, 1)"
      ]
     },
     "metadata": {},
     "output_type": "display_data"
    },
    {
     "data": {
      "text/html": [
       "<div>\n",
       "<style scoped>\n",
       "    .dataframe tbody tr th:only-of-type {\n",
       "        vertical-align: middle;\n",
       "    }\n",
       "\n",
       "    .dataframe tbody tr th {\n",
       "        vertical-align: top;\n",
       "    }\n",
       "\n",
       "    .dataframe thead th {\n",
       "        text-align: right;\n",
       "    }\n",
       "</style>\n",
       "<table border=\"1\" class=\"dataframe\">\n",
       "  <thead>\n",
       "    <tr style=\"text-align: right;\">\n",
       "      <th></th>\n",
       "      <th>Language</th>\n",
       "    </tr>\n",
       "  </thead>\n",
       "  <tbody>\n",
       "    <tr>\n",
       "      <th>af</th>\n",
       "      <td>afrikaans</td>\n",
       "    </tr>\n",
       "    <tr>\n",
       "      <th>sq</th>\n",
       "      <td>albanian</td>\n",
       "    </tr>\n",
       "    <tr>\n",
       "      <th>am</th>\n",
       "      <td>amharic</td>\n",
       "    </tr>\n",
       "  </tbody>\n",
       "</table>\n",
       "</div>"
      ],
      "text/plain": [
       "     Language\n",
       "af  afrikaans\n",
       "sq   albanian\n",
       "am    amharic"
      ]
     },
     "metadata": {},
     "output_type": "display_data"
    },
    {
     "data": {
      "text/html": [
       "<div>\n",
       "<style scoped>\n",
       "    .dataframe tbody tr th:only-of-type {\n",
       "        vertical-align: middle;\n",
       "    }\n",
       "\n",
       "    .dataframe tbody tr th {\n",
       "        vertical-align: top;\n",
       "    }\n",
       "\n",
       "    .dataframe thead th {\n",
       "        text-align: right;\n",
       "    }\n",
       "</style>\n",
       "<table border=\"1\" class=\"dataframe\">\n",
       "  <thead>\n",
       "    <tr style=\"text-align: right;\">\n",
       "      <th></th>\n",
       "      <th>Language</th>\n",
       "    </tr>\n",
       "  </thead>\n",
       "  <tbody>\n",
       "    <tr>\n",
       "      <th>yi</th>\n",
       "      <td>yiddish</td>\n",
       "    </tr>\n",
       "    <tr>\n",
       "      <th>yo</th>\n",
       "      <td>yoruba</td>\n",
       "    </tr>\n",
       "    <tr>\n",
       "      <th>zu</th>\n",
       "      <td>zulu</td>\n",
       "    </tr>\n",
       "  </tbody>\n",
       "</table>\n",
       "</div>"
      ],
      "text/plain": [
       "   Language\n",
       "yi  yiddish\n",
       "yo   yoruba\n",
       "zu     zulu"
      ]
     },
     "metadata": {},
     "output_type": "display_data"
    }
   ],
   "source": [
    "import googletrans\n",
    "from googletrans import Translator\n",
    "\n",
    "translator_past = Translator()\n",
    "lang_df = pd.DataFrame.from_dict(googletrans.LANGUAGES,  orient='index', columns=['Language'])\n",
    "display(lang_df.shape, lang_df.head(3), lang_df.tail(3))\n",
    "\n",
    "# # find the code for english, french, italian, spanish and greek\n",
    "# lang_df[lang_df.Language.isin(['english', 'french', 'italian', 'spanish', 'greek'])]"
   ]
  },
  {
   "cell_type": "code",
   "execution_count": 14,
   "id": "af9b9466",
   "metadata": {},
   "outputs": [
    {
     "data": {
      "text/plain": [
       "'en'"
      ]
     },
     "execution_count": 14,
     "metadata": {},
     "output_type": "execute_result"
    }
   ],
   "source": [
    "translator_past.detect('hello').lang"
   ]
  },
  {
   "cell_type": "code",
   "execution_count": 15,
   "id": "e8fd1ff1",
   "metadata": {},
   "outputs": [
    {
     "data": {
      "text/plain": [
       "'안녕하세요'"
      ]
     },
     "execution_count": 15,
     "metadata": {},
     "output_type": "execute_result"
    }
   ],
   "source": [
    "translator_past.translate('hello', 'ko').text"
   ]
  },
  {
   "cell_type": "code",
   "execution_count": 16,
   "id": "697cebdf",
   "metadata": {},
   "outputs": [
    {
     "data": {
      "text/plain": [
       "'こんにちは'"
      ]
     },
     "execution_count": 16,
     "metadata": {},
     "output_type": "execute_result"
    }
   ],
   "source": [
    "translator_past.translate('hello', 'ja').text"
   ]
  },
  {
   "cell_type": "code",
   "execution_count": 17,
   "id": "8aab8ec5",
   "metadata": {},
   "outputs": [
    {
     "data": {
      "text/plain": [
       "<googletrans.models.Translated at 0x7fb651a68580>"
      ]
     },
     "execution_count": 17,
     "metadata": {},
     "output_type": "execute_result"
    }
   ],
   "source": [
    "translator_past.translate(src='en', text='hello', dest='ja')"
   ]
  },
  {
   "cell_type": "code",
   "execution_count": 18,
   "id": "5c231188",
   "metadata": {},
   "outputs": [
    {
     "data": {
      "text/plain": [
       "\"Kon'nichiwa\""
      ]
     },
     "execution_count": 18,
     "metadata": {},
     "output_type": "execute_result"
    }
   ],
   "source": [
    "translator_past.translate(src='en', text='hello', dest='ja').pronunciation"
   ]
  },
  {
   "cell_type": "code",
   "execution_count": 19,
   "id": "af0036f8",
   "metadata": {},
   "outputs": [
    {
     "name": "stdout",
     "output_type": "stream",
     "text": [
      "Translated(src=en, dest=ja, text=こんにちは, pronunciation=Kon'nichiwa, extra_data=\"{'confiden...\")\n"
     ]
    }
   ],
   "source": [
    "print(translator_past.translate('hello', 'ja'))"
   ]
  },
  {
   "cell_type": "code",
   "execution_count": null,
   "id": "be4476dc-a479-4d5c-93d9-a7437ba21bdf",
   "metadata": {},
   "outputs": [],
   "source": []
  },
  {
   "cell_type": "code",
   "execution_count": null,
   "id": "9af8281e-dc8c-4e93-a190-9b27f9f4af5d",
   "metadata": {},
   "outputs": [],
   "source": []
  }
 ],
 "metadata": {
  "kernelspec": {
   "display_name": "Python 3 (ipykernel)",
   "language": "python",
   "name": "python3"
  },
  "language_info": {
   "codemirror_mode": {
    "name": "ipython",
    "version": 3
   },
   "file_extension": ".py",
   "mimetype": "text/x-python",
   "name": "python",
   "nbconvert_exporter": "python",
   "pygments_lexer": "ipython3",
   "version": "3.8.2"
  }
 },
 "nbformat": 4,
 "nbformat_minor": 5
}

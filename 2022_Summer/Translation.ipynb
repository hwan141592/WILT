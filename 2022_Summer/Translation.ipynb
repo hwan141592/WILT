{
 "cells": [
  {
   "cell_type": "markdown",
   "id": "4f4b595a",
   "metadata": {},
   "source": [
    "#### steps\n",
    " - Language Detection\n",
    " - Translation"
   ]
  },
  {
   "cell_type": "markdown",
   "id": "0514d47c",
   "metadata": {
    "tags": []
   },
   "source": [
    "# Settings"
   ]
  },
  {
   "cell_type": "code",
   "execution_count": 1,
   "id": "e3321e50",
   "metadata": {},
   "outputs": [],
   "source": [
    "# pip install langdetect\n",
    "# pip install google_trans_new\n",
    "\n",
    "import pandas as pd\n",
    "import langdetect as ld\n",
    "from langdetect import detect, detect_langs, DetectorFactory\n",
    "\n",
    "import google_trans_new\n",
    "from google_trans_new import google_translator\n",
    "\n",
    "pd.set_option('display.max_rows', None)\n",
    "pd.set_option('display.max_columns', None)\n",
    "pd.set_option('display.width', 1000)\n",
    "# pd.set_option('max_colwidth', 300)\n",
    "DetectorFactory.seed = 0"
   ]
  },
  {
   "cell_type": "markdown",
   "id": "a9303620",
   "metadata": {},
   "source": [
    "# Common\n",
    " - package name: google_translate_new\n",
    " - function name: google_translator()"
   ]
  },
  {
   "cell_type": "code",
   "execution_count": 2,
   "id": "5b654b2e",
   "metadata": {},
   "outputs": [
    {
     "data": {
      "text/plain": [
       "<google_trans_new.google_trans_new.google_translator at 0x7fb64b9dee50>"
      ]
     },
     "execution_count": 2,
     "metadata": {},
     "output_type": "execute_result"
    }
   ],
   "source": [
    "translator = google_translator()\n",
    "translator"
   ]
  },
  {
   "cell_type": "markdown",
   "id": "b057f615",
   "metadata": {},
   "source": [
    "# Language Detection"
   ]
  },
  {
   "cell_type": "markdown",
   "id": "a44bd196",
   "metadata": {},
   "source": [
    "#### 1) langdetect"
   ]
  },
  {
   "cell_type": "code",
   "execution_count": 3,
   "id": "61c3b886",
   "metadata": {},
   "outputs": [
    {
     "data": {
      "text/plain": [
       "'sw'"
      ]
     },
     "execution_count": 3,
     "metadata": {},
     "output_type": "execute_result"
    }
   ],
   "source": [
    "sentence = \"Tanzania ni nchi inayoongoza kwa utalii barani afrika\"\n",
    "detect(sentence)"
   ]
  },
  {
   "cell_type": "code",
   "execution_count": 4,
   "id": "812a6508",
   "metadata": {},
   "outputs": [
    {
     "data": {
      "text/plain": [
       "[sw:0.9999971210408876]"
      ]
     },
     "execution_count": 4,
     "metadata": {},
     "output_type": "execute_result"
    }
   ],
   "source": [
    "sentence = \"Tanzania ni nchi inayoongoza kwa utalii barani afrika\"\n",
    "detect_langs(sentence)"
   ]
  },
  {
   "cell_type": "code",
   "execution_count": 5,
   "id": "38984b07",
   "metadata": {},
   "outputs": [
    {
     "data": {
      "text/plain": [
       "('ko', [ko:0.9999999918622879])"
      ]
     },
     "execution_count": 5,
     "metadata": {},
     "output_type": "execute_result"
    }
   ],
   "source": [
    "sentence = \"안녕하세요, 좋은 아침입니다.\"\n",
    "detect(sentence), detect_langs(sentence)"
   ]
  },
  {
   "cell_type": "markdown",
   "id": "aa093cdc",
   "metadata": {},
   "source": [
    "#### 2) google_trans_new.google_translator"
   ]
  },
  {
   "cell_type": "code",
   "execution_count": 6,
   "id": "c9ba6958",
   "metadata": {},
   "outputs": [
    {
     "data": {
      "text/plain": [
       "['ko', 'korean']"
      ]
     },
     "execution_count": 6,
     "metadata": {},
     "output_type": "execute_result"
    }
   ],
   "source": [
    "sentence = \"안녕하세요, 좋은 아침입니다.\"\n",
    "translator.detect(sentence)"
   ]
  },
  {
   "cell_type": "markdown",
   "id": "c96925f3",
   "metadata": {},
   "source": [
    "# Translation"
   ]
  },
  {
   "cell_type": "code",
   "execution_count": 7,
   "id": "b55f4409",
   "metadata": {},
   "outputs": [
    {
     "data": {
      "text/plain": [
       "['it', 'italian']"
      ]
     },
     "execution_count": 7,
     "metadata": {},
     "output_type": "execute_result"
    }
   ],
   "source": [
    "translator.detect('Cerco un centro di gravità permanente')"
   ]
  },
  {
   "cell_type": "code",
   "execution_count": 8,
   "id": "d1d91685",
   "metadata": {},
   "outputs": [
    {
     "data": {
      "text/plain": [
       "'Hello China '"
      ]
     },
     "execution_count": 8,
     "metadata": {},
     "output_type": "execute_result"
    }
   ],
   "source": [
    "translate_text = translator.translate('สวัสดีจีน',lang_tgt='en')  \n",
    "translate_text"
   ]
  },
  {
   "cell_type": "code",
   "execution_count": 9,
   "id": "1da0759f",
   "metadata": {},
   "outputs": [
    {
     "name": "stdout",
     "output_type": "stream",
     "text": [
      "['hello ', 'annyeonghaseyo', None]\n"
     ]
    }
   ],
   "source": [
    "translate_text = translator.translate('안녕하세요',lang_tgt='en', pronounce=True)\n",
    "print(translate_text)"
   ]
  },
  {
   "cell_type": "code",
   "execution_count": 10,
   "id": "0f256726",
   "metadata": {},
   "outputs": [
    {
     "name": "stdout",
     "output_type": "stream",
     "text": [
      "こんにちは \n",
      "hello \n",
      "hello! good morning! \n"
     ]
    },
    {
     "data": {
      "text/plain": [
       "'I am looking for a permanent center of gravity '"
      ]
     },
     "execution_count": 10,
     "metadata": {},
     "output_type": "execute_result"
    }
   ],
   "source": [
    "translate_text = translator.translate('안녕하세요',lang_tgt='ja'); print(translate_text)\n",
    "translate_text = translator.translate('こんにちは',lang_tgt='en'); print(translate_text)\n",
    "print(translator.translate('안녕하세요! 좋은 아침입니다!', lang_tgt='en', lang_src='auto'))\n",
    "translator.translate('Cerco un centro di gravità permanente', lang_tgt='en', lang_src='auto')"
   ]
  },
  {
   "cell_type": "code",
   "execution_count": 11,
   "id": "1fcb779d",
   "metadata": {},
   "outputs": [
    {
     "data": {
      "text/html": [
       "<div>\n",
       "<style scoped>\n",
       "    .dataframe tbody tr th:only-of-type {\n",
       "        vertical-align: middle;\n",
       "    }\n",
       "\n",
       "    .dataframe tbody tr th {\n",
       "        vertical-align: top;\n",
       "    }\n",
       "\n",
       "    .dataframe thead th {\n",
       "        text-align: right;\n",
       "    }\n",
       "</style>\n",
       "<table border=\"1\" class=\"dataframe\">\n",
       "  <thead>\n",
       "    <tr style=\"text-align: right;\">\n",
       "      <th></th>\n",
       "      <th>af</th>\n",
       "      <th>sq</th>\n",
       "      <th>am</th>\n",
       "      <th>ar</th>\n",
       "      <th>hy</th>\n",
       "      <th>az</th>\n",
       "      <th>eu</th>\n",
       "      <th>be</th>\n",
       "      <th>bn</th>\n",
       "      <th>bs</th>\n",
       "      <th>bg</th>\n",
       "      <th>ca</th>\n",
       "      <th>ceb</th>\n",
       "      <th>ny</th>\n",
       "      <th>zh-cn</th>\n",
       "      <th>zh-tw</th>\n",
       "      <th>co</th>\n",
       "      <th>hr</th>\n",
       "      <th>cs</th>\n",
       "      <th>da</th>\n",
       "      <th>nl</th>\n",
       "      <th>en</th>\n",
       "      <th>eo</th>\n",
       "      <th>et</th>\n",
       "      <th>tl</th>\n",
       "      <th>fi</th>\n",
       "      <th>fr</th>\n",
       "      <th>fy</th>\n",
       "      <th>gl</th>\n",
       "      <th>ka</th>\n",
       "      <th>de</th>\n",
       "      <th>el</th>\n",
       "      <th>gu</th>\n",
       "      <th>ht</th>\n",
       "      <th>ha</th>\n",
       "      <th>haw</th>\n",
       "      <th>iw</th>\n",
       "      <th>he</th>\n",
       "      <th>hi</th>\n",
       "      <th>hmn</th>\n",
       "      <th>hu</th>\n",
       "      <th>is</th>\n",
       "      <th>ig</th>\n",
       "      <th>id</th>\n",
       "      <th>ga</th>\n",
       "      <th>it</th>\n",
       "      <th>ja</th>\n",
       "      <th>jw</th>\n",
       "      <th>kn</th>\n",
       "      <th>kk</th>\n",
       "      <th>km</th>\n",
       "      <th>ko</th>\n",
       "      <th>ku</th>\n",
       "      <th>ky</th>\n",
       "      <th>lo</th>\n",
       "      <th>la</th>\n",
       "      <th>lv</th>\n",
       "      <th>lt</th>\n",
       "      <th>lb</th>\n",
       "      <th>mk</th>\n",
       "      <th>mg</th>\n",
       "      <th>ms</th>\n",
       "      <th>ml</th>\n",
       "      <th>mt</th>\n",
       "      <th>mi</th>\n",
       "      <th>mr</th>\n",
       "      <th>mn</th>\n",
       "      <th>my</th>\n",
       "      <th>ne</th>\n",
       "      <th>no</th>\n",
       "      <th>or</th>\n",
       "      <th>ps</th>\n",
       "      <th>fa</th>\n",
       "      <th>pl</th>\n",
       "      <th>pt</th>\n",
       "      <th>pa</th>\n",
       "      <th>ro</th>\n",
       "      <th>ru</th>\n",
       "      <th>sm</th>\n",
       "      <th>gd</th>\n",
       "      <th>sr</th>\n",
       "      <th>st</th>\n",
       "      <th>sn</th>\n",
       "      <th>sd</th>\n",
       "      <th>si</th>\n",
       "      <th>sk</th>\n",
       "      <th>sl</th>\n",
       "      <th>so</th>\n",
       "      <th>es</th>\n",
       "      <th>su</th>\n",
       "      <th>sw</th>\n",
       "      <th>sv</th>\n",
       "      <th>tg</th>\n",
       "      <th>ta</th>\n",
       "      <th>te</th>\n",
       "      <th>th</th>\n",
       "      <th>tr</th>\n",
       "      <th>tk</th>\n",
       "      <th>uk</th>\n",
       "      <th>ur</th>\n",
       "      <th>ug</th>\n",
       "      <th>uz</th>\n",
       "      <th>vi</th>\n",
       "      <th>cy</th>\n",
       "      <th>xh</th>\n",
       "      <th>yi</th>\n",
       "      <th>yo</th>\n",
       "      <th>zu</th>\n",
       "    </tr>\n",
       "  </thead>\n",
       "  <tbody>\n",
       "    <tr>\n",
       "      <th>Language</th>\n",
       "      <td>afrikaans</td>\n",
       "      <td>albanian</td>\n",
       "      <td>amharic</td>\n",
       "      <td>arabic</td>\n",
       "      <td>armenian</td>\n",
       "      <td>azerbaijani</td>\n",
       "      <td>basque</td>\n",
       "      <td>belarusian</td>\n",
       "      <td>bengali</td>\n",
       "      <td>bosnian</td>\n",
       "      <td>bulgarian</td>\n",
       "      <td>catalan</td>\n",
       "      <td>cebuano</td>\n",
       "      <td>chichewa</td>\n",
       "      <td>chinese (simplified)</td>\n",
       "      <td>chinese (traditional)</td>\n",
       "      <td>corsican</td>\n",
       "      <td>croatian</td>\n",
       "      <td>czech</td>\n",
       "      <td>danish</td>\n",
       "      <td>dutch</td>\n",
       "      <td>english</td>\n",
       "      <td>esperanto</td>\n",
       "      <td>estonian</td>\n",
       "      <td>filipino</td>\n",
       "      <td>finnish</td>\n",
       "      <td>french</td>\n",
       "      <td>frisian</td>\n",
       "      <td>galician</td>\n",
       "      <td>georgian</td>\n",
       "      <td>german</td>\n",
       "      <td>greek</td>\n",
       "      <td>gujarati</td>\n",
       "      <td>haitian creole</td>\n",
       "      <td>hausa</td>\n",
       "      <td>hawaiian</td>\n",
       "      <td>hebrew</td>\n",
       "      <td>hebrew</td>\n",
       "      <td>hindi</td>\n",
       "      <td>hmong</td>\n",
       "      <td>hungarian</td>\n",
       "      <td>icelandic</td>\n",
       "      <td>igbo</td>\n",
       "      <td>indonesian</td>\n",
       "      <td>irish</td>\n",
       "      <td>italian</td>\n",
       "      <td>japanese</td>\n",
       "      <td>javanese</td>\n",
       "      <td>kannada</td>\n",
       "      <td>kazakh</td>\n",
       "      <td>khmer</td>\n",
       "      <td>korean</td>\n",
       "      <td>kurdish (kurmanji)</td>\n",
       "      <td>kyrgyz</td>\n",
       "      <td>lao</td>\n",
       "      <td>latin</td>\n",
       "      <td>latvian</td>\n",
       "      <td>lithuanian</td>\n",
       "      <td>luxembourgish</td>\n",
       "      <td>macedonian</td>\n",
       "      <td>malagasy</td>\n",
       "      <td>malay</td>\n",
       "      <td>malayalam</td>\n",
       "      <td>maltese</td>\n",
       "      <td>maori</td>\n",
       "      <td>marathi</td>\n",
       "      <td>mongolian</td>\n",
       "      <td>myanmar (burmese)</td>\n",
       "      <td>nepali</td>\n",
       "      <td>norwegian</td>\n",
       "      <td>odia</td>\n",
       "      <td>pashto</td>\n",
       "      <td>persian</td>\n",
       "      <td>polish</td>\n",
       "      <td>portuguese</td>\n",
       "      <td>punjabi</td>\n",
       "      <td>romanian</td>\n",
       "      <td>russian</td>\n",
       "      <td>samoan</td>\n",
       "      <td>scots gaelic</td>\n",
       "      <td>serbian</td>\n",
       "      <td>sesotho</td>\n",
       "      <td>shona</td>\n",
       "      <td>sindhi</td>\n",
       "      <td>sinhala</td>\n",
       "      <td>slovak</td>\n",
       "      <td>slovenian</td>\n",
       "      <td>somali</td>\n",
       "      <td>spanish</td>\n",
       "      <td>sundanese</td>\n",
       "      <td>swahili</td>\n",
       "      <td>swedish</td>\n",
       "      <td>tajik</td>\n",
       "      <td>tamil</td>\n",
       "      <td>telugu</td>\n",
       "      <td>thai</td>\n",
       "      <td>turkish</td>\n",
       "      <td>turkmen</td>\n",
       "      <td>ukrainian</td>\n",
       "      <td>urdu</td>\n",
       "      <td>uyghur</td>\n",
       "      <td>uzbek</td>\n",
       "      <td>vietnamese</td>\n",
       "      <td>welsh</td>\n",
       "      <td>xhosa</td>\n",
       "      <td>yiddish</td>\n",
       "      <td>yoruba</td>\n",
       "      <td>zulu</td>\n",
       "    </tr>\n",
       "  </tbody>\n",
       "</table>\n",
       "</div>"
      ],
      "text/plain": [
       "                 af        sq       am      ar        hy           az      eu          be       bn       bs         bg       ca      ceb        ny                 zh-cn                  zh-tw        co        hr     cs      da     nl       en         eo        et        tl       fi      fr       fy        gl        ka      de     el        gu              ht     ha       haw      iw      he     hi    hmn         hu         is    ig          id     ga       it        ja        jw       kn      kk     km      ko                  ku      ky   lo     la       lv          lt             lb          mk        mg     ms         ml       mt     mi       mr         mn                 my      ne         no    or      ps       fa      pl          pt       pa        ro       ru      sm            gd       sr       st     sn      sd       si      sk         sl      so       es         su       sw       sv     tg     ta      te    th       tr       tk         uk    ur      ug     uz          vi  \\\n",
       "Language  afrikaans  albanian  amharic  arabic  armenian  azerbaijani  basque  belarusian  bengali  bosnian  bulgarian  catalan  cebuano  chichewa  chinese (simplified)  chinese (traditional)  corsican  croatian  czech  danish  dutch  english  esperanto  estonian  filipino  finnish  french  frisian  galician  georgian  german  greek  gujarati  haitian creole  hausa  hawaiian  hebrew  hebrew  hindi  hmong  hungarian  icelandic  igbo  indonesian  irish  italian  japanese  javanese  kannada  kazakh  khmer  korean  kurdish (kurmanji)  kyrgyz  lao  latin  latvian  lithuanian  luxembourgish  macedonian  malagasy  malay  malayalam  maltese  maori  marathi  mongolian  myanmar (burmese)  nepali  norwegian  odia  pashto  persian  polish  portuguese  punjabi  romanian  russian  samoan  scots gaelic  serbian  sesotho  shona  sindhi  sinhala  slovak  slovenian  somali  spanish  sundanese  swahili  swedish  tajik  tamil  telugu  thai  turkish  turkmen  ukrainian  urdu  uyghur  uzbek  vietnamese   \n",
       "\n",
       "             cy     xh       yi      yo    zu  \n",
       "Language  welsh  xhosa  yiddish  yoruba  zulu  "
      ]
     },
     "execution_count": 11,
     "metadata": {},
     "output_type": "execute_result"
    }
   ],
   "source": [
    "lang_df = pd.DataFrame.from_dict(google_trans_new.LANGUAGES,  orient='index', columns=['Language'])\n",
    "lang_df.T"
   ]
  },
  {
   "cell_type": "code",
   "execution_count": 12,
   "id": "6dcedc45",
   "metadata": {
    "scrolled": false
   },
   "outputs": [
    {
     "data": {
      "text/plain": [
       "{'af': 'afrikaans',\n",
       " 'sq': 'albanian',\n",
       " 'am': 'amharic',\n",
       " 'ar': 'arabic',\n",
       " 'hy': 'armenian',\n",
       " 'az': 'azerbaijani',\n",
       " 'eu': 'basque',\n",
       " 'be': 'belarusian',\n",
       " 'bn': 'bengali',\n",
       " 'bs': 'bosnian',\n",
       " 'bg': 'bulgarian',\n",
       " 'ca': 'catalan',\n",
       " 'ceb': 'cebuano',\n",
       " 'ny': 'chichewa',\n",
       " 'zh-cn': 'chinese (simplified)',\n",
       " 'zh-tw': 'chinese (traditional)',\n",
       " 'co': 'corsican',\n",
       " 'hr': 'croatian',\n",
       " 'cs': 'czech',\n",
       " 'da': 'danish',\n",
       " 'nl': 'dutch',\n",
       " 'en': 'english',\n",
       " 'eo': 'esperanto',\n",
       " 'et': 'estonian',\n",
       " 'tl': 'filipino',\n",
       " 'fi': 'finnish',\n",
       " 'fr': 'french',\n",
       " 'fy': 'frisian',\n",
       " 'gl': 'galician',\n",
       " 'ka': 'georgian',\n",
       " 'de': 'german',\n",
       " 'el': 'greek',\n",
       " 'gu': 'gujarati',\n",
       " 'ht': 'haitian creole',\n",
       " 'ha': 'hausa',\n",
       " 'haw': 'hawaiian',\n",
       " 'iw': 'hebrew',\n",
       " 'he': 'hebrew',\n",
       " 'hi': 'hindi',\n",
       " 'hmn': 'hmong',\n",
       " 'hu': 'hungarian',\n",
       " 'is': 'icelandic',\n",
       " 'ig': 'igbo',\n",
       " 'id': 'indonesian',\n",
       " 'ga': 'irish',\n",
       " 'it': 'italian',\n",
       " 'ja': 'japanese',\n",
       " 'jw': 'javanese',\n",
       " 'kn': 'kannada',\n",
       " 'kk': 'kazakh',\n",
       " 'km': 'khmer',\n",
       " 'ko': 'korean',\n",
       " 'ku': 'kurdish (kurmanji)',\n",
       " 'ky': 'kyrgyz',\n",
       " 'lo': 'lao',\n",
       " 'la': 'latin',\n",
       " 'lv': 'latvian',\n",
       " 'lt': 'lithuanian',\n",
       " 'lb': 'luxembourgish',\n",
       " 'mk': 'macedonian',\n",
       " 'mg': 'malagasy',\n",
       " 'ms': 'malay',\n",
       " 'ml': 'malayalam',\n",
       " 'mt': 'maltese',\n",
       " 'mi': 'maori',\n",
       " 'mr': 'marathi',\n",
       " 'mn': 'mongolian',\n",
       " 'my': 'myanmar (burmese)',\n",
       " 'ne': 'nepali',\n",
       " 'no': 'norwegian',\n",
       " 'or': 'odia',\n",
       " 'ps': 'pashto',\n",
       " 'fa': 'persian',\n",
       " 'pl': 'polish',\n",
       " 'pt': 'portuguese',\n",
       " 'pa': 'punjabi',\n",
       " 'ro': 'romanian',\n",
       " 'ru': 'russian',\n",
       " 'sm': 'samoan',\n",
       " 'gd': 'scots gaelic',\n",
       " 'sr': 'serbian',\n",
       " 'st': 'sesotho',\n",
       " 'sn': 'shona',\n",
       " 'sd': 'sindhi',\n",
       " 'si': 'sinhala',\n",
       " 'sk': 'slovak',\n",
       " 'sl': 'slovenian',\n",
       " 'so': 'somali',\n",
       " 'es': 'spanish',\n",
       " 'su': 'sundanese',\n",
       " 'sw': 'swahili',\n",
       " 'sv': 'swedish',\n",
       " 'tg': 'tajik',\n",
       " 'ta': 'tamil',\n",
       " 'te': 'telugu',\n",
       " 'th': 'thai',\n",
       " 'tr': 'turkish',\n",
       " 'tk': 'turkmen',\n",
       " 'uk': 'ukrainian',\n",
       " 'ur': 'urdu',\n",
       " 'ug': 'uyghur',\n",
       " 'uz': 'uzbek',\n",
       " 'vi': 'vietnamese',\n",
       " 'cy': 'welsh',\n",
       " 'xh': 'xhosa',\n",
       " 'yi': 'yiddish',\n",
       " 'yo': 'yoruba',\n",
       " 'zu': 'zulu'}"
      ]
     },
     "execution_count": 12,
     "metadata": {},
     "output_type": "execute_result"
    }
   ],
   "source": [
    "google_trans_new.LANGUAGES"
   ]
  },
  {
   "cell_type": "markdown",
   "id": "3ba0d59f",
   "metadata": {},
   "source": [
    "# Languages"
   ]
  },
  {
   "cell_type": "markdown",
   "id": "9731ddde",
   "metadata": {},
   "source": [
    "{'af': 'afrikaans',\n",
    " 'sq': 'albanian',\n",
    " 'am': 'amharic',\n",
    " 'ar': 'arabic',\n",
    " 'hy': 'armenian',\n",
    " 'az': 'azerbaijani',\n",
    " 'eu': 'basque',\n",
    " 'be': 'belarusian',\n",
    " 'bn': 'bengali',\n",
    " 'bs': 'bosnian',\n",
    " 'bg': 'bulgarian',\n",
    " 'ca': 'catalan',\n",
    " 'ceb': 'cebuano',\n",
    " 'ny': 'chichewa',\n",
    " 'zh-cn': 'chinese (simplified)',\n",
    " 'zh-tw': 'chinese (traditional)',\n",
    " 'co': 'corsican',\n",
    " 'hr': 'croatian',\n",
    " 'cs': 'czech',\n",
    " 'da': 'danish',\n",
    " 'nl': 'dutch',\n",
    " 'en': 'english',\n",
    " 'eo': 'esperanto',\n",
    " 'et': 'estonian',\n",
    " 'tl': 'filipino',\n",
    " 'fi': 'finnish',\n",
    " 'fr': 'french',\n",
    " 'fy': 'frisian',\n",
    " 'gl': 'galician',\n",
    " 'ka': 'georgian',\n",
    " 'de': 'german',\n",
    " 'el': 'greek',\n",
    " 'gu': 'gujarati',\n",
    " 'ht': 'haitian creole',\n",
    " 'ha': 'hausa',\n",
    " 'haw': 'hawaiian',\n",
    " 'iw': 'hebrew',\n",
    " 'he': 'hebrew',\n",
    " 'hi': 'hindi',\n",
    " 'hmn': 'hmong',\n",
    " 'hu': 'hungarian',\n",
    " 'is': 'icelandic',\n",
    " 'ig': 'igbo',\n",
    " 'id': 'indonesian',\n",
    " 'ga': 'irish',\n",
    " 'it': 'italian',\n",
    " 'ja': 'japanese',\n",
    " 'jw': 'javanese',\n",
    " 'kn': 'kannada',\n",
    " 'kk': 'kazakh',\n",
    " 'km': 'khmer',\n",
    " 'ko': 'korean',\n",
    " 'ku': 'kurdish (kurmanji)',\n",
    " 'ky': 'kyrgyz',\n",
    " 'lo': 'lao',\n",
    " 'la': 'latin',\n",
    " 'lv': 'latvian',\n",
    " 'lt': 'lithuanian',\n",
    " 'lb': 'luxembourgish',\n",
    " 'mk': 'macedonian',\n",
    " 'mg': 'malagasy',\n",
    " 'ms': 'malay',\n",
    " 'ml': 'malayalam',\n",
    " 'mt': 'maltese',\n",
    " 'mi': 'maori',\n",
    " 'mr': 'marathi',\n",
    " 'mn': 'mongolian',\n",
    " 'my': 'myanmar (burmese)',\n",
    " 'ne': 'nepali',\n",
    " 'no': 'norwegian',\n",
    " 'or': 'odia',\n",
    " 'ps': 'pashto',\n",
    " 'fa': 'persian',\n",
    " 'pl': 'polish',\n",
    " 'pt': 'portuguese',\n",
    " 'pa': 'punjabi',\n",
    " 'ro': 'romanian',\n",
    " 'ru': 'russian',\n",
    " 'sm': 'samoan',\n",
    " 'gd': 'scots gaelic',\n",
    " 'sr': 'serbian',\n",
    " 'st': 'sesotho',\n",
    " 'sn': 'shona',\n",
    " 'sd': 'sindhi',\n",
    " 'si': 'sinhala',\n",
    " 'sk': 'slovak',\n",
    " 'sl': 'slovenian',\n",
    " 'so': 'somali',\n",
    " 'es': 'spanish',\n",
    " 'su': 'sundanese',\n",
    " 'sw': 'swahili',\n",
    " 'sv': 'swedish',\n",
    " 'tg': 'tajik',\n",
    " 'ta': 'tamil',\n",
    " 'te': 'telugu',\n",
    " 'th': 'thai',\n",
    " 'tr': 'turkish',\n",
    " 'tk': 'turkmen',\n",
    " 'uk': 'ukrainian',\n",
    " 'ur': 'urdu',\n",
    " 'ug': 'uyghur',\n",
    " 'uz': 'uzbek',\n",
    " 'vi': 'vietnamese',\n",
    " 'cy': 'welsh',\n",
    " 'xh': 'xhosa',\n",
    " 'yi': 'yiddish',\n",
    " 'yo': 'yoruba',\n",
    " 'zu': 'zulu'}"
   ]
  },
  {
   "cell_type": "markdown",
   "id": "81211ac1",
   "metadata": {},
   "source": [
    "# References\n",
    " - https://towardsdatascience.com/how-to-detect-and-translate-languages-for-nlp-project-dfd52af0c3b5\n",
    " - https://github.com/lushan88a/google_trans_new/issues/36"
   ]
  },
  {
   "cell_type": "markdown",
   "id": "795e4e17",
   "metadata": {},
   "source": [
    "# Appendix"
   ]
  },
  {
   "cell_type": "markdown",
   "id": "3731a9fb",
   "metadata": {},
   "source": [
    "#### past...\n",
    " - googletrans package >> Translator module"
   ]
  },
  {
   "cell_type": "code",
   "execution_count": 13,
   "id": "b17aed38",
   "metadata": {},
   "outputs": [
    {
     "data": {
      "text/plain": [
       "(107, 1)"
      ]
     },
     "metadata": {},
     "output_type": "display_data"
    },
    {
     "data": {
      "text/html": [
       "<div>\n",
       "<style scoped>\n",
       "    .dataframe tbody tr th:only-of-type {\n",
       "        vertical-align: middle;\n",
       "    }\n",
       "\n",
       "    .dataframe tbody tr th {\n",
       "        vertical-align: top;\n",
       "    }\n",
       "\n",
       "    .dataframe thead th {\n",
       "        text-align: right;\n",
       "    }\n",
       "</style>\n",
       "<table border=\"1\" class=\"dataframe\">\n",
       "  <thead>\n",
       "    <tr style=\"text-align: right;\">\n",
       "      <th></th>\n",
       "      <th>Language</th>\n",
       "    </tr>\n",
       "  </thead>\n",
       "  <tbody>\n",
       "    <tr>\n",
       "      <th>af</th>\n",
       "      <td>afrikaans</td>\n",
       "    </tr>\n",
       "    <tr>\n",
       "      <th>sq</th>\n",
       "      <td>albanian</td>\n",
       "    </tr>\n",
       "    <tr>\n",
       "      <th>am</th>\n",
       "      <td>amharic</td>\n",
       "    </tr>\n",
       "  </tbody>\n",
       "</table>\n",
       "</div>"
      ],
      "text/plain": [
       "     Language\n",
       "af  afrikaans\n",
       "sq   albanian\n",
       "am    amharic"
      ]
     },
     "metadata": {},
     "output_type": "display_data"
    },
    {
     "data": {
      "text/html": [
       "<div>\n",
       "<style scoped>\n",
       "    .dataframe tbody tr th:only-of-type {\n",
       "        vertical-align: middle;\n",
       "    }\n",
       "\n",
       "    .dataframe tbody tr th {\n",
       "        vertical-align: top;\n",
       "    }\n",
       "\n",
       "    .dataframe thead th {\n",
       "        text-align: right;\n",
       "    }\n",
       "</style>\n",
       "<table border=\"1\" class=\"dataframe\">\n",
       "  <thead>\n",
       "    <tr style=\"text-align: right;\">\n",
       "      <th></th>\n",
       "      <th>Language</th>\n",
       "    </tr>\n",
       "  </thead>\n",
       "  <tbody>\n",
       "    <tr>\n",
       "      <th>yi</th>\n",
       "      <td>yiddish</td>\n",
       "    </tr>\n",
       "    <tr>\n",
       "      <th>yo</th>\n",
       "      <td>yoruba</td>\n",
       "    </tr>\n",
       "    <tr>\n",
       "      <th>zu</th>\n",
       "      <td>zulu</td>\n",
       "    </tr>\n",
       "  </tbody>\n",
       "</table>\n",
       "</div>"
      ],
      "text/plain": [
       "   Language\n",
       "yi  yiddish\n",
       "yo   yoruba\n",
       "zu     zulu"
      ]
     },
     "metadata": {},
     "output_type": "display_data"
    }
   ],
   "source": [
    "import googletrans\n",
    "from googletrans import Translator\n",
    "\n",
    "translator_past = Translator()\n",
    "lang_df = pd.DataFrame.from_dict(googletrans.LANGUAGES,  orient='index', columns=['Language'])\n",
    "display(lang_df.shape, lang_df.head(3), lang_df.tail(3))\n",
    "\n",
    "# # find the code for english, french, italian, spanish and greek\n",
    "# lang_df[lang_df.Language.isin(['english', 'french', 'italian', 'spanish', 'greek'])]"
   ]
  },
  {
   "cell_type": "code",
   "execution_count": 14,
   "id": "af9b9466",
   "metadata": {},
   "outputs": [
    {
     "data": {
      "text/plain": [
       "'en'"
      ]
     },
     "execution_count": 14,
     "metadata": {},
     "output_type": "execute_result"
    }
   ],
   "source": [
    "translator_past.detect('hello').lang"
   ]
  },
  {
   "cell_type": "code",
   "execution_count": 15,
   "id": "e8fd1ff1",
   "metadata": {},
   "outputs": [
    {
     "data": {
      "text/plain": [
       "'안녕하세요'"
      ]
     },
     "execution_count": 15,
     "metadata": {},
     "output_type": "execute_result"
    }
   ],
   "source": [
    "translator_past.translate('hello', 'ko').text"
   ]
  },
  {
   "cell_type": "code",
   "execution_count": 16,
   "id": "697cebdf",
   "metadata": {},
   "outputs": [
    {
     "data": {
      "text/plain": [
       "'こんにちは'"
      ]
     },
     "execution_count": 16,
     "metadata": {},
     "output_type": "execute_result"
    }
   ],
   "source": [
    "translator_past.translate('hello', 'ja').text"
   ]
  },
  {
   "cell_type": "code",
   "execution_count": 17,
   "id": "8aab8ec5",
   "metadata": {},
   "outputs": [
    {
     "data": {
      "text/plain": [
       "<googletrans.models.Translated at 0x7fb651a68580>"
      ]
     },
     "execution_count": 17,
     "metadata": {},
     "output_type": "execute_result"
    }
   ],
   "source": [
    "translator_past.translate(src='en', text='hello', dest='ja')"
   ]
  },
  {
   "cell_type": "code",
   "execution_count": 18,
   "id": "5c231188",
   "metadata": {},
   "outputs": [
    {
     "data": {
      "text/plain": [
       "\"Kon'nichiwa\""
      ]
     },
     "execution_count": 18,
     "metadata": {},
     "output_type": "execute_result"
    }
   ],
   "source": [
    "translator_past.translate(src='en', text='hello', dest='ja').pronunciation"
   ]
  },
  {
   "cell_type": "code",
   "execution_count": 19,
   "id": "af0036f8",
   "metadata": {},
   "outputs": [
    {
     "name": "stdout",
     "output_type": "stream",
     "text": [
      "Translated(src=en, dest=ja, text=こんにちは, pronunciation=Kon'nichiwa, extra_data=\"{'confiden...\")\n"
     ]
    }
   ],
   "source": [
    "print(translator_past.translate('hello', 'ja'))"
   ]
  },
  {
   "cell_type": "code",
   "execution_count": null,
   "id": "4d0e8885",
   "metadata": {},
   "outputs": [],
   "source": []
  }
 ],
 "metadata": {
  "kernelspec": {
   "display_name": "Python 3 (ipykernel)",
   "language": "python",
   "name": "python3"
  },
  "language_info": {
   "codemirror_mode": {
    "name": "ipython",
    "version": 3
   },
   "file_extension": ".py",
   "mimetype": "text/x-python",
   "name": "python",
   "nbconvert_exporter": "python",
   "pygments_lexer": "ipython3",
   "version": "3.8.2"
  }
 },
 "nbformat": 4,
 "nbformat_minor": 5
}

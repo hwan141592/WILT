{
 "cells": [
  {
   "cell_type": "code",
   "execution_count": 2,
   "id": "0c6a36ca",
   "metadata": {},
   "outputs": [],
   "source": [
    "import numpy as np\n",
    "import pandas as pd\n",
    "import matplotlib.pyplot as plt\n",
    "import seaborn as sns\n",
    "import warnings\n",
    "warnings.filterwarnings('ignore')"
   ]
  },
  {
   "cell_type": "markdown",
   "id": "15c718cc",
   "metadata": {},
   "source": [
    "# Viz"
   ]
  },
  {
   "cell_type": "code",
   "execution_count": 3,
   "id": "71f8d246",
   "metadata": {
    "scrolled": true
   },
   "outputs": [
    {
     "data": {
      "text/plain": [
       "3    5\n",
       "4    3\n",
       "1    1\n",
       "2    1\n",
       "5    1\n",
       "dtype: int64"
      ]
     },
     "execution_count": 3,
     "metadata": {},
     "output_type": "execute_result"
    }
   ],
   "source": [
    "s = pd.Series([1,2,3,3,3,3,3,4,4,4,5]).value_counts()\n",
    "width, "
   ]
  },
  {
   "cell_type": "code",
   "execution_count": null,
   "id": "247fac32",
   "metadata": {},
   "outputs": [],
   "source": []
  },
  {
   "cell_type": "code",
   "execution_count": null,
   "id": "7a099fda",
   "metadata": {},
   "outputs": [],
   "source": []
  },
  {
   "cell_type": "markdown",
   "id": "52872e04",
   "metadata": {},
   "source": [
    "# Convert 'table in the pdf file' into 'pandas.DataFrame' \n",
    " - convert pd.DataFrame into csv file or excel file >> pd.to_csv() / pd.to_excel()"
   ]
  },
  {
   "cell_type": "markdown",
   "id": "2bf9938c",
   "metadata": {},
   "source": [
    "#### links\n",
    " - sample pdf file\n",
    "     - https://github.com/hwaneest/TIL/blob/master/sample.pdf\n",
    "         - Later we change 'blob' into 'raw' in url string\n",
    " - colab\n",
    "     - https://colab.research.google.com/github/chezou/tabula-py/blob/master/examples/tabula_example.ipynb#scrollTo=Ssv5i7OIn10T\n",
    " - Reference\n",
    "     - https://pypi.org/project/tabula-py/\n",
    "     - https://python.plainenglish.io/how-to-read-and-write-pdf-files-using-python-7b930977fe58"
   ]
  },
  {
   "cell_type": "markdown",
   "id": "0e87e6b5",
   "metadata": {},
   "source": [
    "#### install tabula library"
   ]
  },
  {
   "cell_type": "code",
   "execution_count": 25,
   "id": "c881161e",
   "metadata": {},
   "outputs": [],
   "source": [
    "# !pip install tabula"
   ]
  },
  {
   "cell_type": "markdown",
   "id": "4f1f717c",
   "metadata": {},
   "source": [
    "#### import tabula library"
   ]
  },
  {
   "cell_type": "code",
   "execution_count": 26,
   "id": "6baef892",
   "metadata": {},
   "outputs": [],
   "source": [
    "# import tabula"
   ]
  },
  {
   "cell_type": "markdown",
   "id": "8638dfe2",
   "metadata": {},
   "source": [
    "#### convert pdf into csv file"
   ]
  },
  {
   "cell_type": "code",
   "execution_count": 27,
   "id": "ba390455",
   "metadata": {},
   "outputs": [],
   "source": [
    "# tabula.environment_info()   # check environment info.\n",
    "# li_df = tabula.read_pdf(\"sample.pdf\", pages='all')   # read pdf into list of DataFrame\n",
    "# tabula.convert_into('./sample.pdf', 'output.csv', output_format='csv', pages='all')"
   ]
  },
  {
   "cell_type": "code",
   "execution_count": null,
   "id": "2256e32f",
   "metadata": {},
   "outputs": [],
   "source": []
  }
 ],
 "metadata": {
  "kernelspec": {
   "display_name": "Python 3 (ipykernel)",
   "language": "python",
   "name": "python3"
  },
  "language_info": {
   "codemirror_mode": {
    "name": "ipython",
    "version": 3
   },
   "file_extension": ".py",
   "mimetype": "text/x-python",
   "name": "python",
   "nbconvert_exporter": "python",
   "pygments_lexer": "ipython3",
   "version": "3.8.2"
  }
 },
 "nbformat": 4,
 "nbformat_minor": 5
}

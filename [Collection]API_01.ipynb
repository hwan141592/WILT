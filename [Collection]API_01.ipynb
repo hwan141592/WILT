{
 "cells": [
  {
   "cell_type": "markdown",
   "metadata": {},
   "source": [
    "https://www.dataquest.io/blog/python-api-tutorial/"
   ]
  },
  {
   "cell_type": "code",
   "execution_count": 2,
   "metadata": {},
   "outputs": [],
   "source": [
    "import requests"
   ]
  },
  {
   "cell_type": "code",
   "execution_count": 1,
   "metadata": {},
   "outputs": [],
   "source": [
    "import requests"
   ]
  },
  {
   "cell_type": "code",
   "execution_count": 3,
   "metadata": {},
   "outputs": [],
   "source": [
    "response = requests.get(\"https://apilist.tronscan.org/api/transaction?sort=-timestamp&count=true&limit=20&start=0&start_timestamp=1548000000000&end_timestamp=1548056638507\")"
   ]
  },
  {
   "cell_type": "code",
   "execution_count": 4,
   "metadata": {},
   "outputs": [
    {
     "name": "stdout",
     "output_type": "stream",
     "text": [
      "200\n"
     ]
    }
   ],
   "source": [
    "print(response.status_code)"
   ]
  },
  {
   "cell_type": "code",
   "execution_count": 7,
   "metadata": {},
   "outputs": [
    {
     "data": {
      "text/plain": [
       "b'{\"total\":10000,\"rangeTotal\":1535616,\"data\":[{\"block\":5987599,\"hash\":\"8cd150f5acc46f458e6e3b4fa616b2386fb729a970f128bd0663d4a144b6ca69\",\"timestamp\":1548056637000,\"ownerAddress\":\"TPFWZ4CWreXZPVVcsRtNCLrQ8jnnAEbEyX\",\"toAddress\":\"TKQ2WmYs9KRmD3c9TwUMjZ3vj5BKgADUZ5\",\"contractType\":31,\"confirmed\":true,\"revert\":false,\"contractData\":{\"data\":\"ccdc535e000000000000000000000000000000000000000000000000000000000000006000000000000000000000000000000000000000000000000000000000000000640000000000000000000000000000000000000000000000000284804f3f891000\",\"owner_address\":\"TPFWZ4CWreXZPVVcsRtNCLrQ8jnnAEbEyX\",\"contract_address\":\"TKQ2WmYs9KRmD3c9TwUMjZ3vj5BKgADUZ5\",\"call_value\":40000000},\"SmartCalls\":\"\",\"Events\":\"\",\"id\":\"\",\"data\":\"\",\"fee\":\"\",\"contractRet\":\"SUCCESS\",\"result\":\"SUCCESS\",\"cost\":{\"net_fee\":3840,\"energy_usage\":0,\"energy_fee\":852910,\"energy_usage_total\":106679,\"origin_energy_usage\":21388,\"net_usage\":0}},{\"block\":5987599,\"hash\":\"e70ec024f6da55fad6cfd3e231c3882eee28c058380f0972e35b9e52e1127dcd\",\"timestamp\":1548056637000,\"ownerAddress\":\"TL9N4ZKLVwreWPp48JNbM9B9xNnDaGnLYo\",\"toAddress\":\"TRkXAjRA6rRsCZ31DofFsZYYPjtz8fvL1u\",\"contractType\":31,\"confirmed\":true,\"revert\":false,\"contractData\":{\"data\":\"fd8b088900000000000000000000000000000000000000000000000000000000000000030000000000000000000000000000000000000000000000000000000000000004\",\"owner_address\":\"TL9N4ZKLVwreWPp48JNbM9B9xNnDaGnLYo\",\"contract_address\":\"TRkXAjRA6rRsCZ31DofFsZYYPjtz8fvL1u\",\"call_value\":10000000},\"SmartCalls\":\"\",\"Events\":\"\",\"id\":\"\",\"data\":\"\",\"fee\":\"\",\"contractRet\":\"SUCCESS\",\"result\":\"SUCCESS\",\"cost\":{\"net_fee\":0,\"energy_usage\":0,\"energy_fee\":0,\"energy_usage_total\":45159,\"origin_energy_usage\":45159,\"net_usage\":350}},{\"block\":5987599,\"hash\":\"b0a8680bdba3ea4fab1d9b2c21746de43cb84bca7e07f9e94a09b4b1ca7441bd\",\"timestamp\":1548056637000,\"ownerAddress\":\"TE8HwuoFMMN2wHYZRZLczNxzjuRzNNejC5\",\"toAddress\":\"TEEXEWrkMFKapSMJ6mErg39ELFKDqEs6w3\",\"contractType\":31,\"confirmed\":true,\"revert\":false,\"contractData\":{\"data\":\"a3082be900000000000000000000000000000000000000000000000000000000000000420000000000000000000000000000000000000000000000000000000000000001\",\"owner_address\":\"TE8HwuoFMMN2wHYZRZLczNxzjuRzNNejC5\",\"contract_address\":\"TEEXEWrkMFKapSMJ6mErg39ELFKDqEs6w3\",\"call_value\":40000000},\"SmartCalls\":\"\",\"Events\":\"\",\"id\":\"\",\"data\":\"\",\"fee\":\"\",\"contractRet\":\"SUCCESS\",\"result\":\"SUCCESS\",\"cost\":{\"net_fee\":3500,\"energy_usage\":0,\"energy_fee\":0,\"energy_usage_total\":14557,\"origin_energy_usage\":14557,\"net_usage\":0}},{\"block\":5987599,\"hash\":\"7a944ce01ad9ab667b9afce3a02be28bd8fea7cfc727cb605b5b5e15af0dbd16\",\"timestamp\":1548056637000,\"ownerAddress\":\"TBv7igM3eVRsd144ayw7X3ecxsAdMQfBne\",\"toAddress\":\"TXSjGe7jtfHwiTFxxfER8PKVz9vc1N8u2x\",\"contractType\":31,\"confirmed\":true,\"revert\":false,\"contractData\":{\"data\":\"497746830000000000000000000000002050561738f7501f1b3479f057534d702a880d38bc12d72a6345de9372da280c8f547dfc742eb4c832311ebee10fd4b47d6a6c24000000000000000000000000000000000000000000000000000000000013f2320000000000000000000000000000000000000000000000000000000002625a00\",\"owner_address\":\"TBv7igM3eVRsd144ayw7X3ecxsAdMQfBne\",\"contract_address\":\"TXSjGe7jtfHwiTFxxfER8PKVz9vc1N8u2x\"},\"SmartCalls\":\"\",\"Events\":\"\",\"id\":\"\",\"data\":\"\",\"fee\":\"\",\"contractRet\":\"SUCCESS\",\"result\":\"SUCCESS\",\"cost\":{\"net_fee\":4110,\"energy_usage\":0,\"energy_fee\":293330,\"energy_usage_total\":29333,\"origin_energy_usage\":0,\"net_usage\":0}},{\"block\":5987599,\"hash\":\"f1094d79f43ce481e7fc91f199b04d0115e1927778a473d82d84fbb6820c654e\",\"timestamp\":1548056637000,\"ownerAddress\":\"TXYeahu7J6Hr7X33XFRaHgyznvun578jPm\",\"toAddress\":\"THzuXNFiDe4jBGiVRpRLxCf4u3WWxgrUZE\",\"contractType\":2,\"confirmed\":true,\"revert\":false,\"contractData\":{\"amount\":21,\"asset_name\":\"1000633\",\"owner_address\":\"TXYeahu7J6Hr7X33XFRaHgyznvun578jPm\",\"to_address\":\"THzuXNFiDe4jBGiVRpRLxCf4u3WWxgrUZE\"},\"SmartCalls\":\"\",\"Events\":\"\",\"id\":\"\",\"data\":\"\",\"fee\":\"\",\"contractRet\":\"SUCCESS\",\"result\":\"SUCCESS\"},{\"block\":5987599,\"hash\":\"4428b1c8f0610c93c8ad535394f56edc497cb894477d9c5aec9552404a65e4b5\",\"timestamp\":1548056637000,\"ownerAddress\":\"TBv7igM3eVRsd144ayw7X3ecxsAdMQfBne\",\"toAddress\":\"TXSjGe7jtfHwiTFxxfER8PKVz9vc1N8u2x\",\"contractType\":31,\"confirmed\":true,\"revert\":false,\"contractData\":{\"data\":\"49774683000000000000000000000000ecc8d94012154d951daa4611a5fa9565380de21c5ecfe29aea18de7df514ea4b4a3e8c5c838c71c81d55ecedcab9dffaff04595b00000000000000000000000000000000000000000000000000000000000c9e8400000000000000000000000000000000000000000000000000000000134096c0\",\"owner_address\":\"TBv7igM3eVRsd144ayw7X3ecxsAdMQfBne\",\"contract_address\":\"TXSjGe7jtfHwiTFxxfER8PKVz9vc1N8u2x\"},\"SmartCalls\":\"\",\"Events\":\"\",\"id\":\"\",\"data\":\"\",\"fee\":\"\",\"contractRet\":\"SUCCESS\",\"result\":\"SUCCESS\",\"cost\":{\"net_fee\":4110,\"energy_usage\":0,\"energy_fee\":469460,\"energy_usage_total\":46946,\"origin_energy_usage\":0,\"net_usage\":0}},{\"block\":5987599,\"hash\":\"b1fd1c2202be54c8c19159236826fabd78d054f801f0ca826a806337b1eb1e6b\",\"timestamp\":1548056637000,\"ownerAddress\":\"TMoXEAyQFaYefNWZeEZTviYmQddM1uULi9\",\"toAddress\":\"TEEXEWrkMFKapSMJ6mErg39ELFKDqEs6w3\",\"contractType\":31,\"confirmed\":true,\"revert\":false,\"contractData\":{\"data\":\"a3082be9000000000000000000000000000000000000000000000000000000000000000a0000000000000000000000000000000000000000000000000000000000000001\",\"owner_address\":\"TMoXEAyQFaYefNWZeEZTviYmQddM1uULi9\",\"contract_address\":\"TEEXEWrkMFKapSMJ6mErg39ELFKDqEs6w3\",\"call_value\":100000000},\"SmartCalls\":\"\",\"Events\":\"\",\"id\":\"\",\"data\":\"\",\"fee\":\"\",\"contractRet\":\"SUCCESS\",\"result\":\"SUCCESS\",\"cost\":{\"net_fee\":3500,\"energy_usage\":0,\"energy_fee\":0,\"energy_usage_total\":14557,\"origin_energy_usage\":14557,\"net_usage\":0}},{\"block\":5987599,\"hash\":\"009e8b97ae8fbb39e85d990e51452c51852eabe083b77cd8a679d96a8edb8c8d\",\"timestamp\":1548056637000,\"ownerAddress\":\"TNKj4VEjVhGXmxZp7veERVAjoGP4oiinuN\",\"toAddress\":\"TEEXEWrkMFKapSMJ6mErg39ELFKDqEs6w3\",\"contractType\":31,\"confirmed\":true,\"revert\":false,\"contractData\":{\"data\":\"a3082be9000000000000000000000000000000000000000000000000000000000000005f0000000000000000000000000000000000000000000000000000000000000000\",\"owner_address\":\"TNKj4VEjVhGXmxZp7veERVAjoGP4oiinuN\",\"contract_address\":\"TEEXEWrkMFKapSMJ6mErg39ELFKDqEs6w3\",\"call_value\":500000000},\"SmartCalls\":\"\",\"Events\":\"\",\"id\":\"\",\"data\":\"\",\"fee\":\"\",\"contractRet\":\"SUCCESS\",\"result\":\"SUCCESS\",\"cost\":{\"net_fee\":3510,\"energy_usage\":0,\"energy_fee\":0,\"energy_usage_total\":14513,\"origin_energy_usage\":14513,\"net_usage\":0}},{\"block\":5987599,\"hash\":\"acc0d3a12e7c309fb4946f687688c37e4f567ad30933f95d3a02c383a611dd64\",\"timestamp\":1548056637000,\"ownerAddress\":\"TE9bBQQmfZ97VgMqEgTBPV6c4m7kh8oKM5\",\"toAddress\":\"TEEXEWrkMFKapSMJ6mErg39ELFKDqEs6w3\",\"contractType\":31,\"confirmed\":true,\"revert\":false,\"contractData\":{\"data\":\"a3082be900000000000000000000000000000000000000000000000000000000000000040000000000000000000000000000000000000000000000000000000000000001\",\"owner_address\":\"TE9bBQQmfZ97VgMqEgTBPV6c4m7kh8oKM5\",\"contract_address\":\"TEEXEWrkMFKapSMJ6mErg39ELFKDqEs6w3\",\"call_value\":40000000},\"SmartCalls\":\"\",\"Events\":\"\",\"id\":\"\",\"data\":\"\",\"fee\":\"\",\"contractRet\":\"SUCCESS\",\"result\":\"SUCCESS\",\"cost\":{\"net_fee\":3500,\"energy_usage\":0,\"energy_fee\":0,\"energy_usage_total\":14557,\"origin_energy_usage\":14557,\"net_usage\":0}},{\"block\":5987599,\"hash\":\"0f2581023171d6adcb9c94a40d95cb5692b8d42efa511234677a477c79406d4e\",\"timestamp\":1548056637000,\"ownerAddress\":\"TJaQN5RYnMAqNtaZ9LaarEZNHf3EpYuNLV\",\"toAddress\":\"TEEXEWrkMFKapSMJ6mErg39ELFKDqEs6w3\",\"contractType\":31,\"confirmed\":true,\"revert\":false,\"contractData\":{\"data\":\"a3082be900000000000000000000000000000000000000000000000000000000000000040000000000000000000000000000000000000000000000000000000000000001\",\"owner_address\":\"TJaQN5RYnMAqNtaZ9LaarEZNHf3EpYuNLV\",\"contract_address\":\"TEEXEWrkMFKapSMJ6mErg39ELFKDqEs6w3\",\"call_value\":10000000},\"SmartCalls\":\"\",\"Events\":\"\",\"id\":\"\",\"data\":\"\",\"fee\":\"\",\"contractRet\":\"SUCCESS\",\"result\":\"SUCCESS\",\"cost\":{\"net_fee\":0,\"energy_usage\":0,\"energy_fee\":0,\"energy_usage_total\":14557,\"origin_energy_usage\":14557,\"net_usage\":350}},{\"block\":5987599,\"hash\":\"a2bd22e4f8a16623f9e9f43759f6f5c9fb1b0ca43c1a5550f512191afb1e858e\",\"timestamp\":1548056637000,\"ownerAddress\":\"TWSdYQrZDRDw3M163QA4p9HeCas8rSNS3n\",\"toAddress\":\"TR5Ffqku2qeMH1do646K25bkGMaCqjZN1o\",\"contractType\":31,\"confirmed\":true,\"revert\":false,\"contractData\":{\"data\":\"2af7ac0a000000000000000000000000000000000000000000000000000000000000005b\",\"owner_address\":\"TWSdYQrZDRDw3M163QA4p9HeCas8rSNS3n\",\"contract_address\":\"TR5Ffqku2qeMH1do646K25bkGMaCqjZN1o\"},\"SmartCalls\":\"\",\"Events\":\"\",\"id\":\"\",\"data\":\"\",\"fee\":\"\",\"contractRet\":\"SUCCESS\",\"result\":\"SUCCESS\",\"cost\":{\"net_fee\":3140,\"energy_usage\":0,\"energy_fee\":0,\"energy_usage_total\":62388,\"origin_energy_usage\":62388,\"net_usage\":0}},{\"block\":5987599,\"hash\":\"790ddad2a9a92e032581ea6e2d9211b438c19729e06b314e1131811128b727ef\",\"timestamp\":1548056637000,\"ownerAddress\":\"TEqw8GjfeDpZMb5jE1kQL4Cf2fbbxzJCeT\",\"toAddress\":\"TEEXEWrkMFKapSMJ6mErg39ELFKDqEs6w3\",\"contractType\":31,\"confirmed\":true,\"revert\":false,\"contractData\":{\"data\":\"a3082be9000000000000000000000000000000000000000000000000000000000000005f0000000000000000000000000000000000000000000000000000000000000000\",\"owner_address\":\"TEqw8GjfeDpZMb5jE1kQL4Cf2fbbxzJCeT\",\"contract_address\":\"TEEXEWrkMFKapSMJ6mErg39ELFKDqEs6w3\",\"call_value\":600000000},\"SmartCalls\":\"\",\"Events\":\"\",\"id\":\"\",\"data\":\"\",\"fee\":\"\",\"contractRet\":\"SUCCESS\",\"result\":\"SUCCESS\",\"cost\":{\"net_fee\":3510,\"energy_usage\":0,\"energy_fee\":0,\"energy_usage_total\":14513,\"origin_energy_usage\":14513,\"net_usage\":0}},{\"block\":5987599,\"hash\":\"d47a88aed6b955adf48db1dc8283a94cb8ffe44c9ed58369fc31b53f1872ce9e\",\"timestamp\":1548056637000,\"ownerAddress\":\"TBv7igM3eVRsd144ayw7X3ecxsAdMQfBne\",\"toAddress\":\"TXSjGe7jtfHwiTFxxfER8PKVz9vc1N8u2x\",\"contractType\":31,\"confirmed\":true,\"revert\":false,\"contractData\":{\"data\":\"4977468300000000000000000000000017e3971f97ce4d7159e3f301beccec720eda454ccccf12fa28c08183e0c8195360668fceaa56eea1dcf6c4510595f2836e4bab9a00000000000000000000000000000000000000000000000000000000002d9e9d0000000000000000000000000000000000000000000000000000000002faf080\",\"owner_address\":\"TBv7igM3eVRsd144ayw7X3ecxsAdMQfBne\",\"contract_address\":\"TXSjGe7jtfHwiTFxxfER8PKVz9vc1N8u2x\"},\"SmartCalls\":\"\",\"Events\":\"\",\"id\":\"\",\"data\":\"\",\"fee\":\"\",\"contractRet\":\"SUCCESS\",\"result\":\"SUCCESS\",\"cost\":{\"net_fee\":4110,\"energy_usage\":0,\"energy_fee\":57830,\"energy_usage_total\":38627,\"origin_energy_usage\":32844,\"net_usage\":0}},{\"block\":5987599,\"hash\":\"d1dcbe909f7d426265b0d319bb0525813386f18d0baf783a2bc36f74c9fc52b4\",\"timestamp\":1548056637000,\"ownerAddress\":\"TKu3gRiJvHwz7fVHqiSvgMRKGPdjCsUHw9\",\"toAddress\":\"TEEXEWrkMFKapSMJ6mErg39ELFKDqEs6w3\",\"contractType\":31,\"confirmed\":true,\"revert\":false,\"contractData\":{\"data\":\"a3082be900000000000000000000000000000000000000000000000000000000000000320000000000000000000000000000000000000000000000000000000000000001\",\"owner_address\":\"TKu3gRiJvHwz7fVHqiSvgMRKGPdjCsUHw9\",\"contract_address\":\"TEEXEWrkMFKapSMJ6mErg39ELFKDqEs6w3\",\"call_value\":2500000000},\"SmartCalls\":\"\",\"Events\":\"\",\"id\":\"\",\"data\":\"\",\"fee\":\"\",\"contractRet\":\"SUCCESS\",\"result\":\"SUCCESS\",\"cost\":{\"net_fee\":3510,\"energy_usage\":0,\"energy_fee\":145570,\"energy_usage_total\":14557,\"origin_energy_usage\":0,\"net_usage\":0}},{\"block\":5987599,\"hash\":\"662eae4385bd15ae1fe438a6cdac445d9992833c8328c8d175b0d37c1c9f35c5\",\"timestamp\":1548056637000,\"ownerAddress\":\"TBv7igM3eVRsd144ayw7X3ecxsAdMQfBne\",\"toAddress\":\"TXSjGe7jtfHwiTFxxfER8PKVz9vc1N8u2x\",\"contractType\":31,\"confirmed\":true,\"revert\":false,\"contractData\":{\"data\":\"49774683000000000000000000000000538c9f309d80e544d0bd4d19c7f9b9e05ed54c3934f1748ce64528f96c878519c5d0db9276bea5a1907dd6e3d7a9de2dcb7391770000000000000000000000000000000000000000000000000000000000697e84000000000000000000000000000000000000000000000000000000003b9aca00\",\"owner_address\":\"TBv7igM3eVRsd144ayw7X3ecxsAdMQfBne\",\"contract_address\":\"TXSjGe7jtfHwiTFxxfER8PKVz9vc1N8u2x\"},\"SmartCalls\":\"\",\"Events\":\"\",\"id\":\"\",\"data\":\"\",\"fee\":\"\",\"contractRet\":\"SUCCESS\",\"result\":\"SUCCESS\",\"cost\":{\"net_fee\":4110,\"energy_usage\":0,\"energy_fee\":0,\"energy_usage_total\":38627,\"origin_energy_usage\":38627,\"net_usage\":0}},{\"block\":5987599,\"hash\":\"5d2a2492cb0b07128b559ec4fdd1af0df7e11165e6f7fe05fedab4adf873646e\",\"timestamp\":1548056637000,\"ownerAddress\":\"TA8FLXmpkmpCsQ7LAeQwsaCVFM32wryn3W\",\"toAddress\":\"TR5Ffqku2qeMH1do646K25bkGMaCqjZN1o\",\"contractType\":31,\"confirmed\":true,\"revert\":false,\"contractData\":{\"data\":\"7365870b0000000000000000000000000000000000000000000000000000000000000060\",\"owner_address\":\"TA8FLXmpkmpCsQ7LAeQwsaCVFM32wryn3W\",\"contract_address\":\"TR5Ffqku2qeMH1do646K25bkGMaCqjZN1o\",\"call_value\":20000000},\"SmartCalls\":\"\",\"Events\":\"\",\"id\":\"\",\"data\":\"\",\"fee\":\"\",\"contractRet\":\"SUCCESS\",\"result\":\"SUCCESS\",\"cost\":{\"net_fee\":3190,\"energy_usage\":0,\"energy_fee\":0,\"energy_usage_total\":97853,\"origin_energy_usage\":97853,\"net_usage\":0}},{\"block\":5987599,\"hash\":\"7161c9c471d12484a68231714adbfd80bc6e68b957b32e5ce1291655d2476c7d\",\"timestamp\":1548056637000,\"ownerAddress\":\"TBv7igM3eVRsd144ayw7X3ecxsAdMQfBne\",\"toAddress\":\"TXSjGe7jtfHwiTFxxfER8PKVz9vc1N8u2x\",\"contractType\":31,\"confirmed\":true,\"revert\":false,\"contractData\":{\"data\":\"497746830000000000000000000000000bcf3e86e8d9d5e80f8e892e3ed1ea4a790cae025270e2ded663fdfdd78997f6c605bae60e1fc67bfa8146732dc41894f5af872a0000000000000000000000000000000000000000000000000000000000ba0d890000000000000000000000000000000000000000000000000000000002faf080\",\"owner_address\":\"TBv7igM3eVRsd144ayw7X3ecxsAdMQfBne\",\"contract_address\":\"TXSjGe7jtfHwiTFxxfER8PKVz9vc1N8u2x\"},\"SmartCalls\":\"\",\"Events\":\"\",\"id\":\"\",\"data\":\"\",\"fee\":\"\",\"contractRet\":\"SUCCESS\",\"result\":\"SUCCESS\",\"cost\":{\"net_fee\":4110,\"energy_usage\":0,\"energy_fee\":0,\"energy_usage_total\":38627,\"origin_energy_usage\":38627,\"net_usage\":0}},{\"block\":5987599,\"hash\":\"6d288017f7427c59b45c77c329aa323c868e6ac3a50c7c2fa933d897f9a8ba9d\",\"timestamp\":1548056637000,\"ownerAddress\":\"TBv7igM3eVRsd144ayw7X3ecxsAdMQfBne\",\"toAddress\":\"TCuAmDG9EfPQu6Ysywe92754y9tXN5GaFX\",\"contractType\":31,\"confirmed\":true,\"revert\":false,\"contractData\":{\"data\":\"60d587b4\",\"owner_address\":\"TBv7igM3eVRsd144ayw7X3ecxsAdMQfBne\",\"contract_address\":\"TCuAmDG9EfPQu6Ysywe92754y9tXN5GaFX\"},\"SmartCalls\":\"\",\"Events\":\"\",\"id\":\"\",\"data\":\"\",\"fee\":\"\",\"contractRet\":\"SUCCESS\",\"result\":\"SUCCESS\",\"cost\":{\"net_fee\":2790,\"energy_usage\":0,\"energy_fee\":61620,\"energy_usage_total\":6162,\"origin_energy_usage\":0,\"net_usage\":0}},{\"block\":5987599,\"hash\":\"cc0d9d9b9a007acfb79f584e05cd760c399c8a65c61b317ded68fc1e0b64daf6\",\"timestamp\":1548056637000,\"ownerAddress\":\"TEKYFBAGGaitAXWT8qX9geozKB5NBet7TN\",\"toAddress\":\"TEEXEWrkMFKapSMJ6mErg39ELFKDqEs6w3\",\"contractType\":31,\"confirmed\":true,\"revert\":false,\"contractData\":{\"data\":\"a3082be900000000000000000000000000000000000000000000000000000000000000040000000000000000000000000000000000000000000000000000000000000001\",\"owner_address\":\"TEKYFBAGGaitAXWT8qX9geozKB5NBet7TN\",\"contract_address\":\"TEEXEWrkMFKapSMJ6mErg39ELFKDqEs6w3\",\"call_value\":10000000},\"SmartCalls\":\"\",\"Events\":\"\",\"id\":\"\",\"data\":\"\",\"fee\":\"\",\"contractRet\":\"SUCCESS\",\"result\":\"SUCCESS\",\"cost\":{\"net_fee\":0,\"energy_usage\":0,\"energy_fee\":0,\"energy_usage_total\":14557,\"origin_energy_usage\":14557,\"net_usage\":350}},{\"block\":5987599,\"hash\":\"15330a4e398b3f754d68efc2c87dabb600a4d36fc7d15444b3fa4ef7cf259997\",\"timestamp\":1548056637000,\"ownerAddress\":\"TDYqZibRpXhivwrxGyDdhFexgzumGGbXH4\",\"toAddress\":\"TPvL3fEmVgaQg9th56eA1Ck1KS5koba37S\",\"contractType\":31,\"confirmed\":true,\"revert\":false,\"contractData\":{\"data\":\"095ea7b3000000000000000000000000618d0e037332312282c9e41da0400d92f5120f03000000000000000000000000000000000000000000000000000000e8d4a51000\",\"owner_address\":\"TDYqZibRpXhivwrxGyDdhFexgzumGGbXH4\",\"contract_address\":\"TPvL3fEmVgaQg9th56eA1Ck1KS5koba37S\"},\"SmartCalls\":\"\",\"Events\":\"\",\"id\":\"\",\"data\":\"\",\"fee\":\"\",\"contractRet\":\"SUCCESS\",\"result\":\"SUCCESS\",\"cost\":{\"net_fee\":0,\"energy_usage\":22320,\"energy_fee\":0,\"energy_usage_total\":22320,\"origin_energy_usage\":0,\"net_usage\":345}}],\"wholeChainTxCount\":939236301}\\n'"
      ]
     },
     "execution_count": 7,
     "metadata": {},
     "output_type": "execute_result"
    }
   ],
   "source": [
    "response.content"
   ]
  },
  {
   "cell_type": "markdown",
   "metadata": {},
   "source": [
    "### API Documentation"
   ]
  },
  {
   "cell_type": "code",
   "execution_count": 8,
   "metadata": {},
   "outputs": [
    {
     "name": "stdout",
     "output_type": "stream",
     "text": [
      "200\n"
     ]
    }
   ],
   "source": [
    "response = requests.get(\"http://api.open-notify.org/astros.json\")\n",
    "print(response.status_code)"
   ]
  },
  {
   "cell_type": "code",
   "execution_count": 9,
   "metadata": {},
   "outputs": [
    {
     "name": "stdout",
     "output_type": "stream",
     "text": [
      "{'people': [{'craft': 'ISS', 'name': 'Andrew Morgan'}, {'craft': 'ISS', 'name': 'Oleg Skripochka'}, {'craft': 'ISS', 'name': 'Jessica Meir'}], 'message': 'success', 'number': 3}\n"
     ]
    }
   ],
   "source": [
    "print(response.json())"
   ]
  },
  {
   "cell_type": "markdown",
   "metadata": {},
   "source": [
    "### Working with JSON Data in Python"
   ]
  },
  {
   "cell_type": "code",
   "execution_count": 10,
   "metadata": {},
   "outputs": [],
   "source": [
    "import json"
   ]
  },
  {
   "cell_type": "code",
   "execution_count": 11,
   "metadata": {},
   "outputs": [
    {
     "name": "stdout",
     "output_type": "stream",
     "text": [
      "{\n",
      "    \"message\": \"success\",\n",
      "    \"number\": 3,\n",
      "    \"people\": [\n",
      "        {\n",
      "            \"craft\": \"ISS\",\n",
      "            \"name\": \"Andrew Morgan\"\n",
      "        },\n",
      "        {\n",
      "            \"craft\": \"ISS\",\n",
      "            \"name\": \"Oleg Skripochka\"\n",
      "        },\n",
      "        {\n",
      "            \"craft\": \"ISS\",\n",
      "            \"name\": \"Jessica Meir\"\n",
      "        }\n",
      "    ]\n",
      "}\n"
     ]
    }
   ],
   "source": [
    "def jprint(obj):\n",
    "    text = json.dumps(obj, sort_keys=True, indent=4)\n",
    "    print(text)\n",
    "    \n",
    "jprint(response.json())"
   ]
  },
  {
   "cell_type": "markdown",
   "metadata": {},
   "source": [
    "### Using an API with Query Parameter"
   ]
  },
  {
   "cell_type": "code",
   "execution_count": 13,
   "metadata": {},
   "outputs": [],
   "source": [
    "parameters = {\n",
    "    \"lat\": 40.71,\n",
    "    \"lon\": -74\n",
    "}"
   ]
  },
  {
   "cell_type": "code",
   "execution_count": 15,
   "metadata": {},
   "outputs": [
    {
     "name": "stdout",
     "output_type": "stream",
     "text": [
      "{\n",
      "    \"message\": \"success\",\n",
      "    \"request\": {\n",
      "        \"altitude\": 100,\n",
      "        \"datetime\": 1585633499,\n",
      "        \"latitude\": 40.71,\n",
      "        \"longitude\": -74.0,\n",
      "        \"passes\": 5\n",
      "    },\n",
      "    \"response\": [\n",
      "        {\n",
      "            \"duration\": 427,\n",
      "            \"risetime\": 1585677303\n",
      "        },\n",
      "        {\n",
      "            \"duration\": 648,\n",
      "            \"risetime\": 1585682962\n",
      "        },\n",
      "        {\n",
      "            \"duration\": 616,\n",
      "            \"risetime\": 1585688799\n",
      "        },\n",
      "        {\n",
      "            \"duration\": 558,\n",
      "            \"risetime\": 1585694692\n",
      "        },\n",
      "        {\n",
      "            \"duration\": 601,\n",
      "            \"risetime\": 1585700540\n",
      "        }\n",
      "    ]\n",
      "}\n"
     ]
    }
   ],
   "source": [
    "response = requests.get(\"http://api.open-notify.org/iss-pass.json\"\n",
    "                      , params=parameters)\n",
    "jprint(response.json())"
   ]
  },
  {
   "cell_type": "markdown",
   "metadata": {},
   "source": [
    "### Understanding the Pass Times"
   ]
  },
  {
   "cell_type": "code",
   "execution_count": 17,
   "metadata": {},
   "outputs": [
    {
     "name": "stdout",
     "output_type": "stream",
     "text": [
      "[\n",
      "    {\n",
      "        \"duration\": 427,\n",
      "        \"risetime\": 1585677303\n",
      "    },\n",
      "    {\n",
      "        \"duration\": 648,\n",
      "        \"risetime\": 1585682962\n",
      "    },\n",
      "    {\n",
      "        \"duration\": 616,\n",
      "        \"risetime\": 1585688799\n",
      "    },\n",
      "    {\n",
      "        \"duration\": 558,\n",
      "        \"risetime\": 1585694692\n",
      "    },\n",
      "    {\n",
      "        \"duration\": 601,\n",
      "        \"risetime\": 1585700540\n",
      "    }\n",
      "]\n"
     ]
    }
   ],
   "source": [
    "pass_times = response.json()['response']\n",
    "jprint(pass_times)"
   ]
  },
  {
   "cell_type": "code",
   "execution_count": 18,
   "metadata": {},
   "outputs": [
    {
     "name": "stdout",
     "output_type": "stream",
     "text": [
      "[1585677303, 1585682962, 1585688799, 1585694692, 1585700540]\n"
     ]
    }
   ],
   "source": [
    "risetimes = []\n",
    "\n",
    "for d in pass_times:\n",
    "    time = d['risetime']\n",
    "    risetimes.append(time)\n",
    "\n",
    "print(risetimes)"
   ]
  },
  {
   "cell_type": "code",
   "execution_count": 19,
   "metadata": {},
   "outputs": [
    {
     "name": "stdout",
     "output_type": "stream",
     "text": [
      "2020-04-01 02:55:03\n",
      "2020-04-01 04:29:22\n",
      "2020-04-01 06:06:39\n",
      "2020-04-01 07:44:52\n",
      "2020-04-01 09:22:20\n"
     ]
    }
   ],
   "source": [
    "from datetime import datetime\n",
    "\n",
    "times = []\n",
    "\n",
    "for rt in risetimes:\n",
    "    time = datetime.fromtimestamp(rt)\n",
    "    times.append(time)\n",
    "    print(time)"
   ]
  },
  {
   "cell_type": "code",
   "execution_count": null,
   "metadata": {},
   "outputs": [],
   "source": []
  }
 ],
 "metadata": {
  "kernelspec": {
   "display_name": "Python 3",
   "language": "python",
   "name": "python3"
  },
  "language_info": {
   "codemirror_mode": {
    "name": "ipython",
    "version": 3
   },
   "file_extension": ".py",
   "mimetype": "text/x-python",
   "name": "python",
   "nbconvert_exporter": "python",
   "pygments_lexer": "ipython3",
   "version": "3.7.4"
  }
 },
 "nbformat": 4,
 "nbformat_minor": 2
}

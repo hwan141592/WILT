{
 "cells": [
  {
   "cell_type": "code",
   "execution_count": null,
   "metadata": {},
   "outputs": [],
   "source": [
    "import pandas as pd\n",
    "import matplotlib.pyplot as plt \n",
    "from altair import Chart, X, Y, Axis, SortField"
   ]
  },
  {
   "cell_type": "code",
   "execution_count": null,
   "metadata": {},
   "outputs": [],
   "source": [
    "import altair as alt"
   ]
  },
  {
   "cell_type": "code",
   "execution_count": 26,
   "metadata": {},
   "outputs": [
    {
     "ename": "AttributeError",
     "evalue": "type object 'SortField' has no attribute 'renderers'",
     "output_type": "error",
     "traceback": [
      "\u001b[1;31m---------------------------------------------------------------------------\u001b[0m",
      "\u001b[1;31mAttributeError\u001b[0m                            Traceback (most recent call last)",
      "\u001b[1;32m<ipython-input-26-42b702c26023>\u001b[0m in \u001b[0;36m<module>\u001b[1;34m()\u001b[0m\n\u001b[1;32m----> 1\u001b[1;33m \u001b[0malt\u001b[0m\u001b[1;33m.\u001b[0m\u001b[0mrenderers\u001b[0m\u001b[1;33m.\u001b[0m\u001b[0menable\u001b[0m\u001b[1;33m(\u001b[0m\u001b[1;34m'notebook'\u001b[0m\u001b[1;33m)\u001b[0m\u001b[1;33m\u001b[0m\u001b[0m\n\u001b[0m",
      "\u001b[1;31mAttributeError\u001b[0m: type object 'SortField' has no attribute 'renderers'"
     ]
    }
   ],
   "source": [
    "alt.renderers.enable('notebook')"
   ]
  },
  {
   "cell_type": "code",
   "execution_count": 23,
   "metadata": {},
   "outputs": [
    {
     "data": {
      "text/html": [
       "<div>\n",
       "<style>\n",
       "    .dataframe thead tr:only-child th {\n",
       "        text-align: right;\n",
       "    }\n",
       "\n",
       "    .dataframe thead th {\n",
       "        text-align: left;\n",
       "    }\n",
       "\n",
       "    .dataframe tbody tr th {\n",
       "        vertical-align: top;\n",
       "    }\n",
       "</style>\n",
       "<table border=\"1\" class=\"dataframe\">\n",
       "  <thead>\n",
       "    <tr style=\"text-align: right;\">\n",
       "      <th></th>\n",
       "      <th>category</th>\n",
       "      <th>detail</th>\n",
       "      <th>amount</th>\n",
       "    </tr>\n",
       "  </thead>\n",
       "  <tbody>\n",
       "    <tr>\n",
       "      <th>0</th>\n",
       "      <td>UNIVERSITY OF MINNESOTA</td>\n",
       "      <td>Higher Education Asset Preservation (HEAPR) 1</td>\n",
       "      <td>42500000</td>\n",
       "    </tr>\n",
       "    <tr>\n",
       "      <th>1</th>\n",
       "      <td>UNIVERSITY OF MINNESOTA</td>\n",
       "      <td>Minneapolis; Tate Laboratory Renovation</td>\n",
       "      <td>56700000</td>\n",
       "    </tr>\n",
       "    <tr>\n",
       "      <th>2</th>\n",
       "      <td>UNIVERSITY OF MINNESOTA</td>\n",
       "      <td>Crookston; Wellness Center</td>\n",
       "      <td>10000000</td>\n",
       "    </tr>\n",
       "  </tbody>\n",
       "</table>\n",
       "</div>"
      ],
      "text/plain": [
       "                  category                                         detail  \\\n",
       "0  UNIVERSITY OF MINNESOTA  Higher Education Asset Preservation (HEAPR) 1   \n",
       "1  UNIVERSITY OF MINNESOTA        Minneapolis; Tate Laboratory Renovation   \n",
       "2  UNIVERSITY OF MINNESOTA                     Crookston; Wellness Center   \n",
       "\n",
       "     amount  \n",
       "0  42500000  \n",
       "1  56700000  \n",
       "2  10000000  "
      ]
     },
     "execution_count": 23,
     "metadata": {},
     "output_type": "execute_result"
    }
   ],
   "source": [
    "budget = pd.read_csv(\".\\data\\mn-budget-detail-2014.csv\", sep=\",\")\n",
    "budget.head(3)"
   ]
  },
  {
   "cell_type": "code",
   "execution_count": 24,
   "metadata": {},
   "outputs": [
    {
     "data": {
      "image/png": "[encoded data removed]",
      "text/plain": [
       "<matplotlib.figure.Figure at 0x22313f54f60>"
      ]
     },
     "metadata": {},
     "output_type": "display_data"
    }
   ],
   "source": [
    "budget_top_10 = budget.sort_values(by='amount', ascending=False)[:10]\n",
    "budget_top_10.plot(kind = 'bar', x=budget_top_10[\"detail\"],\n",
    "                   title = 'MN Capital Budget 2014',\n",
    "                   legend = False)\n",
    "plt.show()"
   ]
  },
  {
   "cell_type": "code",
   "execution_count": 25,
   "metadata": {},
   "outputs": [
    {
     "data": {
      "application/vnd.vegalite.v2+json": {
       "$schema": "https://vega.github.io/schema/vega-lite/v2.6.0.json",
       "config": {
        "view": {
         "height": 300,
         "width": 400
        }
       },
       "data": {
        "name": "data-91719760953d89b39d4d79f0cc1ae021"
       },
       "datasets": {
        "data-91719760953d89b39d4d79f0cc1ae021": [
         {
          "amount": 126300000,
          "category": "ADMINISTRATION",
          "detail": "Capitol Renovation and Restoration Continued"
         },
         {
          "amount": 56700000,
          "category": "UNIVERSITY OF MINNESOTA",
          "detail": "Minneapolis; Tate Laboratory Renovation"
         },
         {
          "amount": 56317000,
          "category": "HUMAN SERVICES",
          "detail": "Minnesota Security Hospital - St. Peter"
         },
         {
          "amount": 42500000,
          "category": "UNIVERSITY OF MINNESOTA",
          "detail": "Higher Education Asset Preservation (HEAPR) 1"
         },
         {
          "amount": 42500000,
          "category": "MINNESOTA STATE COLLEGES AND UNIVERSITIES",
          "detail": "Higher Education Asset Preservation (HEAPR) 2"
         },
         {
          "amount": 35865000,
          "category": "MINNESOTA STATE COLLEGES AND UNIVERSITIES",
          "detail": "Metropolitan State University"
         },
         {
          "amount": 25818000,
          "category": "MINNESOTA STATE COLLEGES AND UNIVERSITIES",
          "detail": "Minnesota State University - Mankato"
         },
         {
          "amount": 24356000,
          "category": "TRANSPORTATION",
          "detail": "Local Road Improvement Fund Grants"
         },
         {
          "amount": 21500000,
          "category": "EMPLOYMENT AND ECONOMIC DEVELOPMENT",
          "detail": "Minneapolis - Nicollet Mall"
         },
         {
          "amount": 20000000,
          "category": "MINNESOTA HOUSING FINANCE AGENCY",
          "detail": "MN Housing Finance Agency"
         }
        ]
       },
       "encoding": {
        "x": {
         "field": "detail",
         "type": "nominal"
        },
        "y": {
         "field": "amount",
         "type": "quantitative"
        }
       },
       "mark": "bar"
      },
      "text/plain": [
       "<VegaLite 2 object>\n",
       "\n",
       "If you see this message, it means the renderer has not been properly enabled\n",
       "for the frontend that you are using. For more information, see\n",
       "https://altair-viz.github.io/user_guide/troubleshooting.html\n"
      ]
     },
     "execution_count": 25,
     "metadata": {},
     "output_type": "execute_result"
    }
   ],
   "source": [
    "Chart(budget_top_10).mark_bar().encode(x='detail', y='amount')"
   ]
  },
  {
   "cell_type": "code",
   "execution_count": null,
   "metadata": {},
   "outputs": [],
   "source": []
  }
 ],
 "metadata": {
  "kernelspec": {
   "display_name": "Python 3",
   "language": "python",
   "name": "python3"
  },
  "language_info": {
   "codemirror_mode": {
    "name": "ipython",
    "version": 3
   },
   "file_extension": ".py",
   "mimetype": "text/x-python",
   "name": "python",
   "nbconvert_exporter": "python",
   "pygments_lexer": "ipython3",
   "version": "3.7.4"
  }
 },
 "nbformat": 4,
 "nbformat_minor": 2
}

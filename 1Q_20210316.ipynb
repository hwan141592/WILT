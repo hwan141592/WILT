{
 "cells": [
  {
   "cell_type": "markdown",
   "metadata": {},
   "source": [
    "# 12-01.A."
   ]
  },
  {
   "cell_type": "markdown",
   "metadata": {},
   "source": [
    " - Q1. O\n",
    " - Q2. 편차\n",
    " - 실습1\n",
    " - Q3. 이항분포\n",
    " - Q4. 미국 / 쿠폰"
   ]
  },
  {
   "cell_type": "markdown",
   "metadata": {},
   "source": [
    "### (실습.1) 기초 통계량"
   ]
  },
  {
   "cell_type": "markdown",
   "metadata": {},
   "source": [
    "#### sol"
   ]
  },
  {
   "cell_type": "code",
   "execution_count": 8,
   "metadata": {},
   "outputs": [
    {
     "name": "stdout",
     "output_type": "stream",
     "text": [
      "mean : 90.0\n",
      "var : 50.0\n",
      "std : 7.0710678118654755\n"
     ]
    }
   ],
   "source": [
    "math_scores = [85, 95, 80, 90, 100]\n",
    "\n",
    "# Q1. math_scores의 평균을 구해보세요.\n",
    "mean = sum(math_scores)/len(math_scores)\n",
    "print(\"mean :\", mean)\n",
    "\n",
    "# Q2. 앞서 게산한 mean과 for문을 활용하여 math_scores의 분산을 직접 구해보세요.\n",
    "var = 0\n",
    "for score in math_scores:\n",
    "    var = var + (score - mean) ** 2\n",
    "var = var/len(math_scores)\n",
    "print(\"var :\", var)\n",
    "\n",
    "# Q3. 앞서 게산한 var를 활용하여 math_scores의 표준편차를 구해보세요.\n",
    "std = var ** 0.5\n",
    "print(\"std :\", std)"
   ]
  },
  {
   "cell_type": "markdown",
   "metadata": {},
   "source": [
    "#### s.b.s"
   ]
  },
  {
   "cell_type": "code",
   "execution_count": 9,
   "metadata": {},
   "outputs": [],
   "source": [
    "math_scores = [85, 95, 80, 90, 100]"
   ]
  },
  {
   "cell_type": "code",
   "execution_count": 10,
   "metadata": {},
   "outputs": [
    {
     "name": "stdout",
     "output_type": "stream",
     "text": [
      "mean : 90.0\n"
     ]
    }
   ],
   "source": [
    "mean = sum(math_scores)/len(math_scores)\n",
    "print(\"mean :\", mean)"
   ]
  },
  {
   "cell_type": "code",
   "execution_count": 11,
   "metadata": {},
   "outputs": [
    {
     "name": "stdout",
     "output_type": "stream",
     "text": [
      "var : 50.0\n"
     ]
    }
   ],
   "source": [
    "var = 0\n",
    "for score in math_scores:\n",
    "    var = var + (score - mean) ** 2\n",
    "var = var/len(math_scores)\n",
    "print(\"var :\", var)"
   ]
  },
  {
   "cell_type": "code",
   "execution_count": 12,
   "metadata": {},
   "outputs": [
    {
     "name": "stdout",
     "output_type": "stream",
     "text": [
      "std : 7.0710678118654755\n"
     ]
    }
   ],
   "source": [
    "std = var ** 0.5\n",
    "print(\"std :\", std)"
   ]
  },
  {
   "cell_type": "markdown",
   "metadata": {},
   "source": [
    "### (실습.2) 표준정규분포"
   ]
  },
  {
   "cell_type": "markdown",
   "metadata": {},
   "source": [
    "#### sol"
   ]
  },
  {
   "cell_type": "code",
   "execution_count": 13,
   "metadata": {
    "scrolled": true
   },
   "outputs": [
    {
     "data": {
      "image/png": "[encoded data removed]",
      "text/plain": [
       "<Figure size 432x288 with 1 Axes>"
      ]
     },
     "metadata": {
      "needs_background": "light"
     },
     "output_type": "display_data"
    }
   ],
   "source": [
    "import numpy as np\n",
    "import matplotlib.pyplot as plt\n",
    "\n",
    "\n",
    "def std_normal_dist(x):\n",
    "    return (1 / np.sqrt(2 * np.pi)) * np.exp(- x ** 2 / 2 )\n",
    "\n",
    "def main():\n",
    "\n",
    "    # -5~5 내의 균등한 간격을 가지는 숫자 n개 생성\n",
    "    n = 101\n",
    "    numbers = np.linspace(-5, 5, n)\n",
    "\n",
    "    # 아래의 코드를 완성해보세요.\n",
    "    numbers_normalized = std_normal_dist(numbers)\n",
    "    \n",
    "    # 표준정규분포를 표시합니다.\n",
    "    plt.plot(numbers_normalized)\n",
    "    plt.savefig('std_normal_dist.png')\n",
    "\n",
    "if __name__ == \"__main__\":\n",
    "    main()"
   ]
  },
  {
   "cell_type": "markdown",
   "metadata": {},
   "source": [
    "#### s.b.s"
   ]
  },
  {
   "cell_type": "code",
   "execution_count": 14,
   "metadata": {},
   "outputs": [],
   "source": [
    "import numpy as np\n",
    "import matplotlib.pyplot as plt"
   ]
  },
  {
   "cell_type": "code",
   "execution_count": 15,
   "metadata": {},
   "outputs": [],
   "source": [
    "def std_normal_dist(x):\n",
    "    return (1 / np.sqrt(2 * np.pi)) * np.exp(- x ** 2 / 2 )"
   ]
  },
  {
   "cell_type": "code",
   "execution_count": 16,
   "metadata": {},
   "outputs": [
    {
     "data": {
      "image/png": "[encoded data removed]",
      "text/plain": [
       "<Figure size 432x288 with 1 Axes>"
      ]
     },
     "metadata": {
      "needs_background": "light"
     },
     "output_type": "display_data"
    }
   ],
   "source": [
    "def main():\n",
    "\n",
    "    # -5~5 내의 균등한 간격을 가지는 숫자 n개 생성\n",
    "    n = 11\n",
    "    numbers = np.linspace(-5, 5, n)\n",
    "\n",
    "    # 아래의 코드를 완성해보세요.\n",
    "    numbers_normalized = std_normal_dist(numbers)\n",
    "    \n",
    "    # 표준정규분포를 표시합니다.\n",
    "    plt.plot(numbers_normalized)\n",
    "    plt.savefig('std_normal_dist.png')\n",
    "\n",
    "\n",
    "if __name__ == \"__main__\":\n",
    "    main()"
   ]
  },
  {
   "cell_type": "code",
   "execution_count": 17,
   "metadata": {},
   "outputs": [],
   "source": [
    "# -5~5 내의 균등한 간격을 가지는 숫자 n개 생성\n",
    "n = 11\n",
    "numbers = np.linspace(-5, 5, n)"
   ]
  },
  {
   "cell_type": "code",
   "execution_count": 18,
   "metadata": {},
   "outputs": [],
   "source": [
    "# 아래의 코드를 완성해보세요.\n",
    "numbers_normalized = std_normal_dist(numbers)"
   ]
  },
  {
   "cell_type": "code",
   "execution_count": 19,
   "metadata": {},
   "outputs": [
    {
     "data": {
      "text/plain": [
       "(0.3989422804014327, 1.4867195147342977e-06)"
      ]
     },
     "execution_count": 19,
     "metadata": {},
     "output_type": "execute_result"
    }
   ],
   "source": [
    "max(numbers_normalized),min(numbers_normalized)"
   ]
  },
  {
   "cell_type": "code",
   "execution_count": 20,
   "metadata": {
    "scrolled": true
   },
   "outputs": [
    {
     "data": {
      "text/plain": [
       "array([-5.  , -3.75, -2.5 , -1.25,  0.  ,  1.25,  2.5 ,  3.75,  5.  ])"
      ]
     },
     "execution_count": 20,
     "metadata": {},
     "output_type": "execute_result"
    }
   ],
   "source": [
    "np.linspace(-5, 5, 9)"
   ]
  },
  {
   "cell_type": "markdown",
   "metadata": {},
   "source": [
    "###  (실습.3) 단일 표본 검정"
   ]
  },
  {
   "cell_type": "code",
   "execution_count": 12,
   "metadata": {},
   "outputs": [
    {
     "name": "stdout",
     "output_type": "stream",
     "text": [
      "exam 평균: 59.0\n",
      "t검정 통계량: 2.160, pvalue=0.068\n"
     ]
    }
   ],
   "source": [
    "import pandas as pd\n",
    "from scipy import stats\n",
    "import numpy as np\n",
    "\n",
    "def main():\n",
    "    \n",
    "    exam_scores = [63, 64, 56, 55, 58, 51, 54, 71]\n",
    "    print(\"exam 평균:\", np.mean(exam_scores))\n",
    "    \n",
    "    # 단일 표본의 평균 검정을 수행하기 위해 아래의 코드를 완성하세요.\n",
    "    result = stats.ttest_1samp(exam_scores, 54)\n",
    "    print(\"t검정 통계량: {:.3f}, pvalue={:.3f}\".format(result.statistic, result.pvalue)) \n",
    "\n",
    "\n",
    "if __name__ == \"__main__\":\n",
    "    main()"
   ]
  },
  {
   "cell_type": "markdown",
   "metadata": {},
   "source": [
    "### (실습.4) 두 집단의 평균 검정"
   ]
  },
  {
   "cell_type": "code",
   "execution_count": 13,
   "metadata": {},
   "outputs": [
    {
     "name": "stdout",
     "output_type": "stream",
     "text": [
      "exam1 평균: 59.0\n",
      "exam2 평균: 73.5\n",
      "t검정 통계량: -3.562, pvalue=0.003\n"
     ]
    }
   ],
   "source": [
    "import pandas as pd\n",
    "from scipy import stats\n",
    "import numpy as np\n",
    "\n",
    "def main():\n",
    "    \n",
    "    exam1_scores = [63, 64, 56, 55, 58, 51, 54, 71]\n",
    "    exam2_scores = [75, 83, 75, 72, 67, 56, 73, 87]\n",
    "    print(\"exam1 평균:\", np.mean(exam1_scores))\n",
    "    print(\"exam2 평균:\", np.mean(exam2_scores))\n",
    "    \n",
    "    # 두 집단의 평균 검정을 수행하기 위해 아래의 코드를 완성하세요.\n",
    "    result = stats.ttest_ind(exam1_scores, exam2_scores)\n",
    "    print(\"t검정 통계량: {:.3f}, pvalue={:.3f}\".format(result.statistic, result.pvalue)) \n",
    "\n",
    "\n",
    "if __name__ == \"__main__\":\n",
    "    main()"
   ]
  },
  {
   "cell_type": "markdown",
   "metadata": {},
   "source": [
    "# 12-01.B."
   ]
  },
  {
   "cell_type": "markdown",
   "metadata": {},
   "source": [
    " - Q1. 로지\n",
    " - Q2. X"
   ]
  },
  {
   "cell_type": "markdown",
   "metadata": {},
   "source": [
    "### (실습.1) 단순 선형 회귀"
   ]
  },
  {
   "cell_type": "code",
   "execution_count": 14,
   "metadata": {},
   "outputs": [
    {
     "name": "stdout",
     "output_type": "stream",
     "text": [
      "actual value: [100, 60, 160, 140, 110, 60, 95]\n",
      "predicted value: [119.59016393  77.54098361 133.60655738 147.62295082 105.57377049\n",
      "  49.50819672  91.55737705]\n",
      "RMSE: 15.060378092544621\n"
     ]
    },
    {
     "data": {
      "image/png": "[encoded data removed]",
      "text/plain": [
       "<Figure size 432x288 with 1 Axes>"
      ]
     },
     "metadata": {
      "needs_background": "light"
     },
     "output_type": "display_data"
    }
   ],
   "source": [
    "import pandas as pd\n",
    "import numpy as np\n",
    "import matplotlib.pyplot as plt\n",
    "from sklearn.linear_model import LinearRegression\n",
    "from sklearn.metrics import mean_squared_error\n",
    "\n",
    "def main():\n",
    "    \n",
    "    land_info = pd.DataFrame({\n",
    "        'area':[10,7,11,12,9,5,8],\n",
    "        'price':[100,60,160,140,110,60,95]\n",
    "    })\n",
    "    \n",
    "    X = land_info.area.values.reshape(-1,1)\n",
    "    y = list(land_info.price)\n",
    "    \n",
    "    # 선형회귀모델 정의 및 학습\n",
    "    lr = LinearRegression()\n",
    "    lr.fit(X, y) \n",
    "    \n",
    "    # 예측값 및 RMSE 값 계산 \n",
    "    predicted_value = lr.predict(X)\n",
    "    RMSE = mean_squared_error(y, predicted_value)**0.5\n",
    "    \n",
    "    # 예측결과\n",
    "    print(\"actual value:\", y)\n",
    "    print(\"predicted value:\", predicted_value)\n",
    "    print(\"RMSE:\", RMSE)\n",
    "    \n",
    "    # 그래프 출력\n",
    "    plt.plot(X, y, 'o')\n",
    "    plt.plot(X, predicted_value)\n",
    "    \n",
    "    plt.savefig('regressor.png')\n",
    "\n",
    "if __name__ == \"__main__\":\n",
    "    main()\n"
   ]
  },
  {
   "cell_type": "markdown",
   "metadata": {},
   "source": [
    "#### step.1"
   ]
  },
  {
   "cell_type": "code",
   "execution_count": 15,
   "metadata": {},
   "outputs": [
    {
     "data": {
      "text/html": [
       "<div>\n",
       "<style scoped>\n",
       "    .dataframe tbody tr th:only-of-type {\n",
       "        vertical-align: middle;\n",
       "    }\n",
       "\n",
       "    .dataframe tbody tr th {\n",
       "        vertical-align: top;\n",
       "    }\n",
       "\n",
       "    .dataframe thead th {\n",
       "        text-align: right;\n",
       "    }\n",
       "</style>\n",
       "<table border=\"1\" class=\"dataframe\">\n",
       "  <thead>\n",
       "    <tr style=\"text-align: right;\">\n",
       "      <th></th>\n",
       "      <th>area</th>\n",
       "      <th>price</th>\n",
       "    </tr>\n",
       "  </thead>\n",
       "  <tbody>\n",
       "    <tr>\n",
       "      <th>0</th>\n",
       "      <td>10</td>\n",
       "      <td>100</td>\n",
       "    </tr>\n",
       "    <tr>\n",
       "      <th>1</th>\n",
       "      <td>7</td>\n",
       "      <td>60</td>\n",
       "    </tr>\n",
       "    <tr>\n",
       "      <th>2</th>\n",
       "      <td>11</td>\n",
       "      <td>160</td>\n",
       "    </tr>\n",
       "    <tr>\n",
       "      <th>3</th>\n",
       "      <td>12</td>\n",
       "      <td>140</td>\n",
       "    </tr>\n",
       "    <tr>\n",
       "      <th>4</th>\n",
       "      <td>9</td>\n",
       "      <td>110</td>\n",
       "    </tr>\n",
       "    <tr>\n",
       "      <th>5</th>\n",
       "      <td>5</td>\n",
       "      <td>60</td>\n",
       "    </tr>\n",
       "    <tr>\n",
       "      <th>6</th>\n",
       "      <td>8</td>\n",
       "      <td>95</td>\n",
       "    </tr>\n",
       "  </tbody>\n",
       "</table>\n",
       "</div>"
      ],
      "text/plain": [
       "   area  price\n",
       "0    10    100\n",
       "1     7     60\n",
       "2    11    160\n",
       "3    12    140\n",
       "4     9    110\n",
       "5     5     60\n",
       "6     8     95"
      ]
     },
     "execution_count": 15,
     "metadata": {},
     "output_type": "execute_result"
    }
   ],
   "source": [
    "land_info = pd.DataFrame({\n",
    "    'area':[10,7,11,12,9,5,8],\n",
    "    'price':[100,60,160,140,110,60,95]\n",
    "})\n",
    "land_info"
   ]
  },
  {
   "cell_type": "markdown",
   "metadata": {},
   "source": [
    "#### step.2"
   ]
  },
  {
   "cell_type": "code",
   "execution_count": 16,
   "metadata": {},
   "outputs": [],
   "source": [
    "X = land_info.area.values.reshape(-1,1)\n",
    "y = list(land_info.price)"
   ]
  },
  {
   "cell_type": "code",
   "execution_count": 17,
   "metadata": {},
   "outputs": [
    {
     "data": {
      "text/plain": [
       "array([[10],\n",
       "       [ 7],\n",
       "       [11],\n",
       "       [12],\n",
       "       [ 9],\n",
       "       [ 5],\n",
       "       [ 8]])"
      ]
     },
     "execution_count": 17,
     "metadata": {},
     "output_type": "execute_result"
    }
   ],
   "source": [
    "X"
   ]
  },
  {
   "cell_type": "code",
   "execution_count": 18,
   "metadata": {},
   "outputs": [
    {
     "data": {
      "text/plain": [
       "[100, 60, 160, 140, 110, 60, 95]"
      ]
     },
     "execution_count": 18,
     "metadata": {},
     "output_type": "execute_result"
    }
   ],
   "source": [
    "y"
   ]
  },
  {
   "cell_type": "markdown",
   "metadata": {},
   "source": [
    "#### step.3"
   ]
  },
  {
   "cell_type": "code",
   "execution_count": 19,
   "metadata": {},
   "outputs": [
    {
     "data": {
      "text/plain": [
       "LinearRegression()"
      ]
     },
     "execution_count": 19,
     "metadata": {},
     "output_type": "execute_result"
    }
   ],
   "source": [
    "# 선형회귀모델 정의 및 학습\n",
    "lr = LinearRegression()\n",
    "lr.fit(X, y) "
   ]
  },
  {
   "cell_type": "code",
   "execution_count": 20,
   "metadata": {},
   "outputs": [
    {
     "data": {
      "text/plain": [
       "LinearRegression()"
      ]
     },
     "execution_count": 20,
     "metadata": {},
     "output_type": "execute_result"
    }
   ],
   "source": [
    "lr_tmp = LinearRegression()\n",
    "lr_tmp"
   ]
  },
  {
   "cell_type": "markdown",
   "metadata": {},
   "source": [
    "#### step.4"
   ]
  },
  {
   "cell_type": "code",
   "execution_count": 21,
   "metadata": {},
   "outputs": [],
   "source": [
    "# 예측값 및 RMSE 값 계산 \n",
    "predicted_value = lr.predict(X)\n",
    "RMSE = mean_squared_error(y, predicted_value)**0.5"
   ]
  },
  {
   "cell_type": "code",
   "execution_count": 22,
   "metadata": {},
   "outputs": [
    {
     "data": {
      "text/plain": [
       "array([119.59016393,  77.54098361, 133.60655738, 147.62295082,\n",
       "       105.57377049,  49.50819672,  91.55737705])"
      ]
     },
     "execution_count": 22,
     "metadata": {},
     "output_type": "execute_result"
    }
   ],
   "source": [
    "predicted_value"
   ]
  },
  {
   "cell_type": "code",
   "execution_count": 23,
   "metadata": {},
   "outputs": [
    {
     "data": {
      "text/plain": [
       "15.060378092544621"
      ]
     },
     "execution_count": 23,
     "metadata": {},
     "output_type": "execute_result"
    }
   ],
   "source": [
    "RMSE"
   ]
  },
  {
   "cell_type": "markdown",
   "metadata": {},
   "source": [
    "#### step.5 "
   ]
  },
  {
   "cell_type": "code",
   "execution_count": 24,
   "metadata": {},
   "outputs": [
    {
     "name": "stdout",
     "output_type": "stream",
     "text": [
      "actual value: [100, 60, 160, 140, 110, 60, 95]\n",
      "predicted value: [119.59016393  77.54098361 133.60655738 147.62295082 105.57377049\n",
      "  49.50819672  91.55737705]\n",
      "RMSE: 15.060378092544621\n"
     ]
    },
    {
     "data": {
      "text/plain": [
       "[<matplotlib.lines.Line2D at 0x7ff2e7f16bb0>]"
      ]
     },
     "execution_count": 24,
     "metadata": {},
     "output_type": "execute_result"
    },
    {
     "data": {
      "image/png": "[encoded data removed]",
      "text/plain": [
       "<Figure size 432x288 with 1 Axes>"
      ]
     },
     "metadata": {
      "needs_background": "light"
     },
     "output_type": "display_data"
    }
   ],
   "source": [
    "# 예측결과\n",
    "print(\"actual value:\", y)\n",
    "print(\"predicted value:\", predicted_value)\n",
    "print(\"RMSE:\", RMSE)\n",
    "\n",
    "# 그래프 출력\n",
    "plt.plot(X, y, 'o')\n",
    "plt.plot(X, predicted_value)"
   ]
  },
  {
   "cell_type": "markdown",
   "metadata": {},
   "source": [
    "### (실습.2) 다중 선형 회귀"
   ]
  },
  {
   "cell_type": "code",
   "execution_count": 25,
   "metadata": {},
   "outputs": [
    {
     "name": "stdout",
     "output_type": "stream",
     "text": [
      "actual value: [100, 60, 160, 140, 110, 60, 95]\n",
      "predicted value: [123.53598015  74.73945409 149.4292804  136.81141439  97.6426799\n",
      "  51.83622829  91.00496278]\n",
      "RMSE: 12.696523206149084\n"
     ]
    }
   ],
   "source": [
    "import pandas as pd\n",
    "import numpy as np\n",
    "import matplotlib.pyplot as plt\n",
    "from sklearn.linear_model import LinearRegression\n",
    "from sklearn.metrics import mean_squared_error\n",
    "\n",
    "\n",
    "def main():\n",
    "    \n",
    "    land_info = pd.DataFrame({\n",
    "        'area':[10,7,11,12,9,5,8],\n",
    "        'age':[4,7,2,4,6,8,6],\n",
    "        'price':[100,60,160,140,110,60,95]\n",
    "    })\n",
    "    \n",
    "    X = land_info[['area', 'age']] # 여러개의 변수\n",
    "    y = list(land_info['price'])\n",
    "    \n",
    "    # 선형회귀모델 정의 및 학습\n",
    "    lr = LinearRegression()\n",
    "    lr.fit(X, y) \n",
    "    \n",
    "    # 예측값 및 RMSE값 계산 \n",
    "    predicted_value = lr.predict(X)\n",
    "    RMSE = mean_squared_error(y, predicted_value)**0.5\n",
    "    \n",
    "    # 예측결과\n",
    "    print(\"actual value:\", y)\n",
    "    print(\"predicted value:\", predicted_value)\n",
    "    print(\"RMSE:\", RMSE)\n",
    "    \n",
    "if __name__ == \"__main__\":\n",
    "    main()\n"
   ]
  },
  {
   "cell_type": "markdown",
   "metadata": {},
   "source": [
    "#### step.1"
   ]
  },
  {
   "cell_type": "code",
   "execution_count": 26,
   "metadata": {},
   "outputs": [
    {
     "data": {
      "text/html": [
       "<div>\n",
       "<style scoped>\n",
       "    .dataframe tbody tr th:only-of-type {\n",
       "        vertical-align: middle;\n",
       "    }\n",
       "\n",
       "    .dataframe tbody tr th {\n",
       "        vertical-align: top;\n",
       "    }\n",
       "\n",
       "    .dataframe thead th {\n",
       "        text-align: right;\n",
       "    }\n",
       "</style>\n",
       "<table border=\"1\" class=\"dataframe\">\n",
       "  <thead>\n",
       "    <tr style=\"text-align: right;\">\n",
       "      <th></th>\n",
       "      <th>area</th>\n",
       "      <th>age</th>\n",
       "      <th>price</th>\n",
       "    </tr>\n",
       "  </thead>\n",
       "  <tbody>\n",
       "    <tr>\n",
       "      <th>0</th>\n",
       "      <td>10</td>\n",
       "      <td>4</td>\n",
       "      <td>100</td>\n",
       "    </tr>\n",
       "    <tr>\n",
       "      <th>1</th>\n",
       "      <td>7</td>\n",
       "      <td>7</td>\n",
       "      <td>60</td>\n",
       "    </tr>\n",
       "    <tr>\n",
       "      <th>2</th>\n",
       "      <td>11</td>\n",
       "      <td>2</td>\n",
       "      <td>160</td>\n",
       "    </tr>\n",
       "    <tr>\n",
       "      <th>3</th>\n",
       "      <td>12</td>\n",
       "      <td>4</td>\n",
       "      <td>140</td>\n",
       "    </tr>\n",
       "    <tr>\n",
       "      <th>4</th>\n",
       "      <td>9</td>\n",
       "      <td>6</td>\n",
       "      <td>110</td>\n",
       "    </tr>\n",
       "    <tr>\n",
       "      <th>5</th>\n",
       "      <td>5</td>\n",
       "      <td>8</td>\n",
       "      <td>60</td>\n",
       "    </tr>\n",
       "    <tr>\n",
       "      <th>6</th>\n",
       "      <td>8</td>\n",
       "      <td>6</td>\n",
       "      <td>95</td>\n",
       "    </tr>\n",
       "  </tbody>\n",
       "</table>\n",
       "</div>"
      ],
      "text/plain": [
       "   area  age  price\n",
       "0    10    4    100\n",
       "1     7    7     60\n",
       "2    11    2    160\n",
       "3    12    4    140\n",
       "4     9    6    110\n",
       "5     5    8     60\n",
       "6     8    6     95"
      ]
     },
     "execution_count": 26,
     "metadata": {},
     "output_type": "execute_result"
    }
   ],
   "source": [
    "land_info = pd.DataFrame({\n",
    "    'area':[10,7,11,12,9,5,8],\n",
    "    'age':[4,7,2,4,6,8,6],\n",
    "    'price':[100,60,160,140,110,60,95]\n",
    "})\n",
    "land_info"
   ]
  },
  {
   "cell_type": "markdown",
   "metadata": {},
   "source": [
    "#### step.2"
   ]
  },
  {
   "cell_type": "code",
   "execution_count": 27,
   "metadata": {},
   "outputs": [],
   "source": [
    "X = land_info[['area', 'age']] # 여러개의 변수\n",
    "y = list(land_info['price'])"
   ]
  },
  {
   "cell_type": "code",
   "execution_count": 28,
   "metadata": {},
   "outputs": [
    {
     "data": {
      "text/html": [
       "<div>\n",
       "<style scoped>\n",
       "    .dataframe tbody tr th:only-of-type {\n",
       "        vertical-align: middle;\n",
       "    }\n",
       "\n",
       "    .dataframe tbody tr th {\n",
       "        vertical-align: top;\n",
       "    }\n",
       "\n",
       "    .dataframe thead th {\n",
       "        text-align: right;\n",
       "    }\n",
       "</style>\n",
       "<table border=\"1\" class=\"dataframe\">\n",
       "  <thead>\n",
       "    <tr style=\"text-align: right;\">\n",
       "      <th></th>\n",
       "      <th>area</th>\n",
       "      <th>age</th>\n",
       "    </tr>\n",
       "  </thead>\n",
       "  <tbody>\n",
       "    <tr>\n",
       "      <th>0</th>\n",
       "      <td>10</td>\n",
       "      <td>4</td>\n",
       "    </tr>\n",
       "    <tr>\n",
       "      <th>1</th>\n",
       "      <td>7</td>\n",
       "      <td>7</td>\n",
       "    </tr>\n",
       "    <tr>\n",
       "      <th>2</th>\n",
       "      <td>11</td>\n",
       "      <td>2</td>\n",
       "    </tr>\n",
       "    <tr>\n",
       "      <th>3</th>\n",
       "      <td>12</td>\n",
       "      <td>4</td>\n",
       "    </tr>\n",
       "    <tr>\n",
       "      <th>4</th>\n",
       "      <td>9</td>\n",
       "      <td>6</td>\n",
       "    </tr>\n",
       "    <tr>\n",
       "      <th>5</th>\n",
       "      <td>5</td>\n",
       "      <td>8</td>\n",
       "    </tr>\n",
       "    <tr>\n",
       "      <th>6</th>\n",
       "      <td>8</td>\n",
       "      <td>6</td>\n",
       "    </tr>\n",
       "  </tbody>\n",
       "</table>\n",
       "</div>"
      ],
      "text/plain": [
       "   area  age\n",
       "0    10    4\n",
       "1     7    7\n",
       "2    11    2\n",
       "3    12    4\n",
       "4     9    6\n",
       "5     5    8\n",
       "6     8    6"
      ]
     },
     "execution_count": 28,
     "metadata": {},
     "output_type": "execute_result"
    }
   ],
   "source": [
    "X"
   ]
  },
  {
   "cell_type": "code",
   "execution_count": 29,
   "metadata": {},
   "outputs": [
    {
     "data": {
      "text/plain": [
       "[100, 60, 160, 140, 110, 60, 95]"
      ]
     },
     "execution_count": 29,
     "metadata": {},
     "output_type": "execute_result"
    }
   ],
   "source": [
    "y"
   ]
  },
  {
   "cell_type": "markdown",
   "metadata": {},
   "source": [
    "#### step.3"
   ]
  },
  {
   "cell_type": "code",
   "execution_count": 30,
   "metadata": {},
   "outputs": [
    {
     "data": {
      "text/plain": [
       "LinearRegression()"
      ]
     },
     "execution_count": 30,
     "metadata": {},
     "output_type": "execute_result"
    }
   ],
   "source": [
    "# 선형회귀모델 정의 및 학습\n",
    "lr = LinearRegression()\n",
    "lr.fit(X, y) "
   ]
  },
  {
   "cell_type": "markdown",
   "metadata": {},
   "source": [
    "#### step.4"
   ]
  },
  {
   "cell_type": "code",
   "execution_count": 31,
   "metadata": {},
   "outputs": [],
   "source": [
    "# 예측값 및 RMSE값 계산 \n",
    "predicted_value = lr.predict(X)\n",
    "RMSE = mean_squared_error(y, predicted_value)**0.5"
   ]
  },
  {
   "cell_type": "markdown",
   "metadata": {},
   "source": [
    "#### step.5"
   ]
  },
  {
   "cell_type": "code",
   "execution_count": 32,
   "metadata": {},
   "outputs": [
    {
     "name": "stdout",
     "output_type": "stream",
     "text": [
      "actual value: [100, 60, 160, 140, 110, 60, 95]\n",
      "predicted value: [123.53598015  74.73945409 149.4292804  136.81141439  97.6426799\n",
      "  51.83622829  91.00496278]\n",
      "RMSE: 12.696523206149084\n"
     ]
    }
   ],
   "source": [
    "# 예측결과\n",
    "print(\"actual value:\", y)\n",
    "print(\"predicted value:\", predicted_value)\n",
    "print(\"RMSE:\", RMSE)"
   ]
  },
  {
   "cell_type": "markdown",
   "metadata": {},
   "source": [
    "### (실습.3) 일원분산분석"
   ]
  },
  {
   "cell_type": "code",
   "execution_count": 27,
   "metadata": {},
   "outputs": [
    {
     "name": "stdout",
     "output_type": "stream",
     "text": [
      "       value  group\n",
      "0  21.741979      1\n",
      "1  27.924862      1\n",
      "--------------------------------\n",
      "            df      sum_sq    mean_sq         F    PR(>F)\n",
      "C(group)   2.0   85.746505  42.873253  4.527553  0.020154\n",
      "Residual  27.0  255.674030   9.469409       NaN       NaN\n"
     ]
    }
   ],
   "source": [
    "from statsmodels.formula.api import ols\n",
    "from statsmodels.stats.anova import anova_lm\n",
    "import pandas as pd\n",
    "\n",
    "\n",
    "def main():\n",
    "    \n",
    "    data = pd.read_csv('../TIL_data_local/data_elice/for_anova.csv')\n",
    "    print(data.head(2))\n",
    "    print('--------------------------------')\n",
    "    \n",
    "    model = ols('value ~ C(group)', data).fit()\n",
    "    result = anova_lm(model)\n",
    "    print(result)\n",
    "\n",
    "if __name__ == \"__main__\":\n",
    "    main()\n"
   ]
  },
  {
   "cell_type": "markdown",
   "metadata": {},
   "source": [
    "#### step.1"
   ]
  },
  {
   "cell_type": "code",
   "execution_count": 28,
   "metadata": {},
   "outputs": [
    {
     "name": "stdout",
     "output_type": "stream",
     "text": [
      "       value  group\n",
      "0  21.741979      1\n",
      "1  27.924862      1\n"
     ]
    },
    {
     "data": {
      "text/plain": [
       "(30, 2)"
      ]
     },
     "execution_count": 28,
     "metadata": {},
     "output_type": "execute_result"
    }
   ],
   "source": [
    "import pandas as pd\n",
    "data = pd.read_csv('../TIL_data_local/data_elice/for_anova.csv')\n",
    "print(data.head(2))\n",
    "data.shape"
   ]
  },
  {
   "cell_type": "code",
   "execution_count": 29,
   "metadata": {},
   "outputs": [
    {
     "data": {
      "text/plain": [
       "group\n",
       "1    25.528667\n",
       "2    23.907690\n",
       "3    28.018376\n",
       "Name: value, dtype: float64"
      ]
     },
     "execution_count": 29,
     "metadata": {},
     "output_type": "execute_result"
    }
   ],
   "source": [
    "data['value'].groupby(data['group']).mean()"
   ]
  },
  {
   "cell_type": "code",
   "execution_count": 30,
   "metadata": {},
   "outputs": [
    {
     "data": {
      "text/plain": [
       "group\n",
       "1    2.753743\n",
       "2    4.053614\n",
       "3    2.096029\n",
       "Name: value, dtype: float64"
      ]
     },
     "execution_count": 30,
     "metadata": {},
     "output_type": "execute_result"
    }
   ],
   "source": [
    "data['value'].groupby(data['group']).std()"
   ]
  },
  {
   "cell_type": "code",
   "execution_count": 31,
   "metadata": {},
   "outputs": [
    {
     "data": {
      "text/plain": [
       "Index(['value', 'group'], dtype='object')"
      ]
     },
     "execution_count": 31,
     "metadata": {},
     "output_type": "execute_result"
    }
   ],
   "source": [
    "data.columns"
   ]
  },
  {
   "cell_type": "code",
   "execution_count": 32,
   "metadata": {},
   "outputs": [
    {
     "data": {
      "text/plain": [
       "array([1, 2, 3])"
      ]
     },
     "execution_count": 32,
     "metadata": {},
     "output_type": "execute_result"
    }
   ],
   "source": [
    "data['group'].unique()"
   ]
  },
  {
   "cell_type": "code",
   "execution_count": 33,
   "metadata": {},
   "outputs": [
    {
     "data": {
      "text/plain": [
       "3    10\n",
       "2    10\n",
       "1    10\n",
       "Name: group, dtype: int64"
      ]
     },
     "execution_count": 33,
     "metadata": {},
     "output_type": "execute_result"
    }
   ],
   "source": [
    "data['group'].value_counts()"
   ]
  },
  {
   "cell_type": "markdown",
   "metadata": {},
   "source": [
    "#### step.2"
   ]
  },
  {
   "cell_type": "code",
   "execution_count": 35,
   "metadata": {},
   "outputs": [
    {
     "data": {
      "text/plain": [
       "<statsmodels.regression.linear_model.RegressionResultsWrapper at 0x7fbc10cf2340>"
      ]
     },
     "execution_count": 35,
     "metadata": {},
     "output_type": "execute_result"
    }
   ],
   "source": [
    "model = ols('value ~ C(group)', data).fit()\n",
    "model"
   ]
  },
  {
   "cell_type": "code",
   "execution_count": 36,
   "metadata": {},
   "outputs": [
    {
     "data": {
      "text/html": [
       "<div>\n",
       "<style scoped>\n",
       "    .dataframe tbody tr th:only-of-type {\n",
       "        vertical-align: middle;\n",
       "    }\n",
       "\n",
       "    .dataframe tbody tr th {\n",
       "        vertical-align: top;\n",
       "    }\n",
       "\n",
       "    .dataframe thead th {\n",
       "        text-align: right;\n",
       "    }\n",
       "</style>\n",
       "<table border=\"1\" class=\"dataframe\">\n",
       "  <thead>\n",
       "    <tr style=\"text-align: right;\">\n",
       "      <th></th>\n",
       "      <th>df</th>\n",
       "      <th>sum_sq</th>\n",
       "      <th>mean_sq</th>\n",
       "      <th>F</th>\n",
       "      <th>PR(&gt;F)</th>\n",
       "    </tr>\n",
       "  </thead>\n",
       "  <tbody>\n",
       "    <tr>\n",
       "      <th>C(group)</th>\n",
       "      <td>2.0</td>\n",
       "      <td>85.746505</td>\n",
       "      <td>42.873253</td>\n",
       "      <td>4.527553</td>\n",
       "      <td>0.020154</td>\n",
       "    </tr>\n",
       "    <tr>\n",
       "      <th>Residual</th>\n",
       "      <td>27.0</td>\n",
       "      <td>255.674030</td>\n",
       "      <td>9.469409</td>\n",
       "      <td>NaN</td>\n",
       "      <td>NaN</td>\n",
       "    </tr>\n",
       "  </tbody>\n",
       "</table>\n",
       "</div>"
      ],
      "text/plain": [
       "            df      sum_sq    mean_sq         F    PR(>F)\n",
       "C(group)   2.0   85.746505  42.873253  4.527553  0.020154\n",
       "Residual  27.0  255.674030   9.469409       NaN       NaN"
      ]
     },
     "execution_count": 36,
     "metadata": {},
     "output_type": "execute_result"
    }
   ],
   "source": [
    "model = ols('value ~ C(group)', data).fit()\n",
    "result = anova_lm(model)\n",
    "result"
   ]
  },
  {
   "cell_type": "code",
   "execution_count": null,
   "metadata": {},
   "outputs": [],
   "source": []
  }
 ],
 "metadata": {
  "kernelspec": {
   "display_name": "Python 3",
   "language": "python",
   "name": "python3"
  },
  "language_info": {
   "codemirror_mode": {
    "name": "ipython",
    "version": 3
   },
   "file_extension": ".py",
   "mimetype": "text/x-python",
   "name": "python",
   "nbconvert_exporter": "python",
   "pygments_lexer": "ipython3",
   "version": "3.8.3"
  }
 },
 "nbformat": 4,
 "nbformat_minor": 4
}

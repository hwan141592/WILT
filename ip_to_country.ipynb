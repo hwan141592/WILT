{
 "cells": [
  {
   "cell_type": "markdown",
   "id": "5ed7b62e-3cd6-4898-a32d-46b4b3639b33",
   "metadata": {},
   "source": [
    "#### library"
   ]
  },
  {
   "cell_type": "code",
   "execution_count": 26,
   "id": "c54d200c-c253-423d-a1c5-53ca25280efd",
   "metadata": {},
   "outputs": [],
   "source": [
    "import pandas as pd\n",
    "import logging"
   ]
  },
  {
   "cell_type": "markdown",
   "id": "31cf9a16-e9d9-4d5f-9b12-75e02479e56b",
   "metadata": {},
   "source": [
    "#### udf"
   ]
  },
  {
   "cell_type": "code",
   "execution_count": 17,
   "id": "707b8ce6-ea00-494f-a76d-3ce437cc1bf0",
   "metadata": {},
   "outputs": [],
   "source": [
    "def make_logger(name=None):\n",
    "    # 1 logger instance 생성\n",
    "    logger = logging.getLogger(name)\n",
    "\n",
    "    # 2 logger level 설정\n",
    "    logger.setLevel(logging.INFO)\n",
    "\n",
    "    # 3 formatter 생성\n",
    "    formatter = logging.Formatter(\" [*] [%(levelname)s] %(asctime)s : %(message)s\")\n",
    "\n",
    "    # 4 handler instance 생성\n",
    "    console = logging.StreamHandler()\n",
    "\n",
    "    # 5 handler별 level 설정\n",
    "    console.setLevel(logging.INFO)\n",
    "\n",
    "    # 6 handler 출력 format 지정\n",
    "    console.setFormatter(formatter)\n",
    "\n",
    "    # 7 logger에 handler 추가\n",
    "    logger.addHandler(console)\n",
    "\n",
    "    return logger"
   ]
  },
  {
   "cell_type": "code",
   "execution_count": 18,
   "id": "0e1cecc9-42d9-4c70-9c4d-8df1f4116a29",
   "metadata": {},
   "outputs": [],
   "source": [
    "# IP의 국가찾기\n",
    "def Find_Country(ip='1.1.1.1'):\n",
    "    # logger = make_logger()\n",
    "    \n",
    "    # logger.info('국가별 정보 읽어오기')\n",
    "    raw_sips, raw_dips, raw_countries = [], [], []\n",
    "    with open('info.csv', 'rt') as fd:\n",
    "        info = fd.read()\n",
    "\n",
    "    # logger.info('sip, dip, country 리스트화')\n",
    "    raw_sips, raw_dips, raw_countries = info.split('\\n')\n",
    "    sips = raw_sips.split(',')\n",
    "    dips = raw_dips.split(',')\n",
    "    countries = raw_countries.split(',')\n",
    "    \n",
    "    # logger.info('찾을 IP 리스트화')\n",
    "    ip = list(map(lambda x: int(x), ip.split('.')))\n",
    "    \n",
    "    # logger.info('IP의 국가찾기')\n",
    "    for sip, dip, country in zip(sips, dips, countries):\n",
    "        sip = list(map(lambda x: int(x), sip.split('.')))\n",
    "        dip = list(map(lambda x: int(x), dip.split('.')))\n",
    "\n",
    "        if sip[0] <= ip[0] <= dip[0]:\n",
    "            # logger.info(sip)\n",
    "            if sip[1] <= ip[1] <= dip[1]:\n",
    "                if sip[2] <= ip[2] <= dip[2]:\n",
    "                    return country\n",
    "                    # print(' [+] {}.{}.{}.{}({})'.format(ip[0], ip[1], ip[2], ip[3], country))\n",
    "                    break"
   ]
  },
  {
   "cell_type": "markdown",
   "id": "d7b85527-3d44-4b93-bdfd-5a612f939dfa",
   "metadata": {},
   "source": [
    "#### usage"
   ]
  },
  {
   "cell_type": "code",
   "execution_count": 23,
   "id": "124f4ce5-8a2c-424e-8b63-4e8bd701c9c1",
   "metadata": {},
   "outputs": [
    {
     "data": {
      "text/html": [
       "<div>\n",
       "<style scoped>\n",
       "    .dataframe tbody tr th:only-of-type {\n",
       "        vertical-align: middle;\n",
       "    }\n",
       "\n",
       "    .dataframe tbody tr th {\n",
       "        vertical-align: top;\n",
       "    }\n",
       "\n",
       "    .dataframe thead th {\n",
       "        text-align: right;\n",
       "    }\n",
       "</style>\n",
       "<table border=\"1\" class=\"dataframe\">\n",
       "  <thead>\n",
       "    <tr style=\"text-align: right;\">\n",
       "      <th></th>\n",
       "      <th>ip_address</th>\n",
       "    </tr>\n",
       "  </thead>\n",
       "  <tbody>\n",
       "    <tr>\n",
       "      <th>0</th>\n",
       "      <td>216.58.197.174</td>\n",
       "    </tr>\n",
       "    <tr>\n",
       "      <th>1</th>\n",
       "      <td>185.229.152.19</td>\n",
       "    </tr>\n",
       "    <tr>\n",
       "      <th>2</th>\n",
       "      <td>59.11.71.210</td>\n",
       "    </tr>\n",
       "    <tr>\n",
       "      <th>3</th>\n",
       "      <td>60.66.230.218</td>\n",
       "    </tr>\n",
       "  </tbody>\n",
       "</table>\n",
       "</div>"
      ],
      "text/plain": [
       "       ip_address\n",
       "0  216.58.197.174\n",
       "1  185.229.152.19\n",
       "2    59.11.71.210\n",
       "3   60.66.230.218"
      ]
     },
     "execution_count": 23,
     "metadata": {},
     "output_type": "execute_result"
    }
   ],
   "source": [
    "li_ip = ['216.58.197.174', '185.229.152.19', '59.11.71.210', '60.66.230.218']\n",
    "df = pd.DataFrame(li_ip, columns=['ip_address'])\n",
    "df"
   ]
  },
  {
   "cell_type": "code",
   "execution_count": 25,
   "id": "dd11a90c-8666-4d00-8123-1bc2be33c7fb",
   "metadata": {},
   "outputs": [
    {
     "data": {
      "text/html": [
       "<div>\n",
       "<style scoped>\n",
       "    .dataframe tbody tr th:only-of-type {\n",
       "        vertical-align: middle;\n",
       "    }\n",
       "\n",
       "    .dataframe tbody tr th {\n",
       "        vertical-align: top;\n",
       "    }\n",
       "\n",
       "    .dataframe thead th {\n",
       "        text-align: right;\n",
       "    }\n",
       "</style>\n",
       "<table border=\"1\" class=\"dataframe\">\n",
       "  <thead>\n",
       "    <tr style=\"text-align: right;\">\n",
       "      <th></th>\n",
       "      <th>ip_address</th>\n",
       "      <th>country</th>\n",
       "    </tr>\n",
       "  </thead>\n",
       "  <tbody>\n",
       "    <tr>\n",
       "      <th>0</th>\n",
       "      <td>216.58.197.174</td>\n",
       "      <td>US</td>\n",
       "    </tr>\n",
       "    <tr>\n",
       "      <th>1</th>\n",
       "      <td>185.229.152.19</td>\n",
       "      <td>DK</td>\n",
       "    </tr>\n",
       "    <tr>\n",
       "      <th>2</th>\n",
       "      <td>59.11.71.210</td>\n",
       "      <td>KR</td>\n",
       "    </tr>\n",
       "    <tr>\n",
       "      <th>3</th>\n",
       "      <td>60.66.230.218</td>\n",
       "      <td>JP</td>\n",
       "    </tr>\n",
       "  </tbody>\n",
       "</table>\n",
       "</div>"
      ],
      "text/plain": [
       "       ip_address country\n",
       "0  216.58.197.174      US\n",
       "1  185.229.152.19      DK\n",
       "2    59.11.71.210      KR\n",
       "3   60.66.230.218      JP"
      ]
     },
     "execution_count": 25,
     "metadata": {},
     "output_type": "execute_result"
    }
   ],
   "source": [
    "df['country'] = df.ip_address.apply(Find_Country)\n",
    "df"
   ]
  },
  {
   "cell_type": "markdown",
   "id": "1ec4c1c5-5b30-4bb3-bb2c-cf51cc75a927",
   "metadata": {},
   "source": [
    "#### source\n",
    " - https://ccurity.tistory.com/408"
   ]
  },
  {
   "cell_type": "code",
   "execution_count": null,
   "id": "7a47c62d-44e9-458f-9644-da1ef027a491",
   "metadata": {},
   "outputs": [],
   "source": []
  }
 ],
 "metadata": {
  "kernelspec": {
   "display_name": "Python 3 (ipykernel)",
   "language": "python",
   "name": "python3"
  },
  "language_info": {
   "codemirror_mode": {
    "name": "ipython",
    "version": 3
   },
   "file_extension": ".py",
   "mimetype": "text/x-python",
   "name": "python",
   "nbconvert_exporter": "python",
   "pygments_lexer": "ipython3",
   "version": "3.9.12"
  }
 },
 "nbformat": 4,
 "nbformat_minor": 5
}

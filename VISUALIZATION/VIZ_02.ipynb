{
 "cells": [
  {
   "cell_type": "markdown",
   "id": "8df78a4f",
   "metadata": {},
   "source": [
    "# # Visualization"
   ]
  },
  {
   "cell_type": "markdown",
   "id": "fb9aea3f",
   "metadata": {},
   "source": [
    "## ## 00. load package "
   ]
  },
  {
   "cell_type": "code",
   "execution_count": 1,
   "id": "43af1ae8",
   "metadata": {},
   "outputs": [
    {
     "name": "stderr",
     "output_type": "stream",
     "text": [
      "/Users/hwan/opt/anaconda3/lib/python3.8/site-packages/scipy/__init__.py:146: UserWarning: A NumPy version >=1.16.5 and <1.23.0 is required for this version of SciPy (detected version 1.23.5\n",
      "  warnings.warn(f\"A NumPy version >={np_minversion} and <{np_maxversion}\"\n"
     ]
    }
   ],
   "source": [
    "import numpy as np\n",
    "import pandas as pd\n",
    "import matplotlib.pyplot as plt\n",
    "import seaborn as sns \n",
    "import seaborn as sns\n",
    "import matplotlib.colors as mcolors\n",
    "import matplotlib.pyplot as plt7\n",
    "import colorsys\n",
    "\n",
    "pd.options.display.max_rows = 100\n",
    "pd.options.display.max_columns = 100\n",
    "sns.set_style('whitegrid')"
   ]
  },
  {
   "cell_type": "markdown",
   "id": "2c8e3f12",
   "metadata": {},
   "source": [
    "## ## 00. load data"
   ]
  },
  {
   "cell_type": "markdown",
   "id": "0ff76f46",
   "metadata": {},
   "source": [
    "#### #### available datasets"
   ]
  },
  {
   "cell_type": "code",
   "execution_count": 2,
   "id": "bd6795f8",
   "metadata": {},
   "outputs": [
    {
     "data": {
      "text/html": [
       "<div>\n",
       "<style scoped>\n",
       "    .dataframe tbody tr th:only-of-type {\n",
       "        vertical-align: middle;\n",
       "    }\n",
       "\n",
       "    .dataframe tbody tr th {\n",
       "        vertical-align: top;\n",
       "    }\n",
       "\n",
       "    .dataframe thead th {\n",
       "        text-align: right;\n",
       "    }\n",
       "</style>\n",
       "<table border=\"1\" class=\"dataframe\">\n",
       "  <thead>\n",
       "    <tr style=\"text-align: right;\">\n",
       "      <th></th>\n",
       "      <th>0</th>\n",
       "      <th>1</th>\n",
       "      <th>2</th>\n",
       "      <th>3</th>\n",
       "      <th>4</th>\n",
       "      <th>5</th>\n",
       "      <th>6</th>\n",
       "      <th>7</th>\n",
       "      <th>8</th>\n",
       "      <th>9</th>\n",
       "      <th>10</th>\n",
       "      <th>11</th>\n",
       "      <th>12</th>\n",
       "      <th>13</th>\n",
       "      <th>14</th>\n",
       "      <th>15</th>\n",
       "      <th>16</th>\n",
       "      <th>17</th>\n",
       "      <th>18</th>\n",
       "      <th>19</th>\n",
       "      <th>20</th>\n",
       "      <th>21</th>\n",
       "    </tr>\n",
       "  </thead>\n",
       "  <tbody>\n",
       "    <tr>\n",
       "      <th>0</th>\n",
       "      <td>anagrams</td>\n",
       "      <td>anscombe</td>\n",
       "      <td>attention</td>\n",
       "      <td>brain_networks</td>\n",
       "      <td>car_crashes</td>\n",
       "      <td>diamonds</td>\n",
       "      <td>dots</td>\n",
       "      <td>dowjones</td>\n",
       "      <td>exercise</td>\n",
       "      <td>flights</td>\n",
       "      <td>fmri</td>\n",
       "      <td>geyser</td>\n",
       "      <td>glue</td>\n",
       "      <td>healthexp</td>\n",
       "      <td>iris</td>\n",
       "      <td>mpg</td>\n",
       "      <td>penguins</td>\n",
       "      <td>planets</td>\n",
       "      <td>seaice</td>\n",
       "      <td>taxis</td>\n",
       "      <td>tips</td>\n",
       "      <td>titanic</td>\n",
       "    </tr>\n",
       "  </tbody>\n",
       "</table>\n",
       "</div>"
      ],
      "text/plain": [
       "         0         1          2               3            4         5     6   \\\n",
       "0  anagrams  anscombe  attention  brain_networks  car_crashes  diamonds  dots   \n",
       "\n",
       "         7         8        9     10      11    12         13    14   15  \\\n",
       "0  dowjones  exercise  flights  fmri  geyser  glue  healthexp  iris  mpg   \n",
       "\n",
       "         16       17      18     19    20       21  \n",
       "0  penguins  planets  seaice  taxis  tips  titanic  "
      ]
     },
     "execution_count": 2,
     "metadata": {},
     "output_type": "execute_result"
    }
   ],
   "source": [
    "pd.DataFrame(sns.get_dataset_names()).T"
   ]
  },
  {
   "cell_type": "code",
   "execution_count": 3,
   "id": "188e5427",
   "metadata": {},
   "outputs": [
    {
     "data": {
      "text/plain": [
       "(344, 7)"
      ]
     },
     "metadata": {},
     "output_type": "display_data"
    },
    {
     "data": {
      "text/html": [
       "<div>\n",
       "<style scoped>\n",
       "    .dataframe tbody tr th:only-of-type {\n",
       "        vertical-align: middle;\n",
       "    }\n",
       "\n",
       "    .dataframe tbody tr th {\n",
       "        vertical-align: top;\n",
       "    }\n",
       "\n",
       "    .dataframe thead th {\n",
       "        text-align: right;\n",
       "    }\n",
       "</style>\n",
       "<table border=\"1\" class=\"dataframe\">\n",
       "  <thead>\n",
       "    <tr style=\"text-align: right;\">\n",
       "      <th></th>\n",
       "      <th>species</th>\n",
       "      <th>island</th>\n",
       "      <th>bill_length_mm</th>\n",
       "      <th>bill_depth_mm</th>\n",
       "      <th>flipper_length_mm</th>\n",
       "      <th>body_mass_g</th>\n",
       "      <th>sex</th>\n",
       "    </tr>\n",
       "  </thead>\n",
       "  <tbody>\n",
       "    <tr>\n",
       "      <th>0</th>\n",
       "      <td>Adelie</td>\n",
       "      <td>Torgersen</td>\n",
       "      <td>39.1</td>\n",
       "      <td>18.7</td>\n",
       "      <td>181.0</td>\n",
       "      <td>3750.0</td>\n",
       "      <td>Male</td>\n",
       "    </tr>\n",
       "  </tbody>\n",
       "</table>\n",
       "</div>"
      ],
      "text/plain": [
       "  species     island  bill_length_mm  bill_depth_mm  flipper_length_mm  \\\n",
       "0  Adelie  Torgersen            39.1           18.7              181.0   \n",
       "\n",
       "   body_mass_g   sex  \n",
       "0       3750.0  Male  "
      ]
     },
     "metadata": {},
     "output_type": "display_data"
    },
    {
     "data": {
      "text/html": [
       "<div>\n",
       "<style scoped>\n",
       "    .dataframe tbody tr th:only-of-type {\n",
       "        vertical-align: middle;\n",
       "    }\n",
       "\n",
       "    .dataframe tbody tr th {\n",
       "        vertical-align: top;\n",
       "    }\n",
       "\n",
       "    .dataframe thead th {\n",
       "        text-align: right;\n",
       "    }\n",
       "</style>\n",
       "<table border=\"1\" class=\"dataframe\">\n",
       "  <thead>\n",
       "    <tr style=\"text-align: right;\">\n",
       "      <th></th>\n",
       "      <th>species</th>\n",
       "      <th>island</th>\n",
       "      <th>bill_length_mm</th>\n",
       "      <th>bill_depth_mm</th>\n",
       "      <th>flipper_length_mm</th>\n",
       "      <th>body_mass_g</th>\n",
       "      <th>sex</th>\n",
       "    </tr>\n",
       "  </thead>\n",
       "  <tbody>\n",
       "    <tr>\n",
       "      <th>343</th>\n",
       "      <td>Gentoo</td>\n",
       "      <td>Biscoe</td>\n",
       "      <td>49.9</td>\n",
       "      <td>16.1</td>\n",
       "      <td>213.0</td>\n",
       "      <td>5400.0</td>\n",
       "      <td>Male</td>\n",
       "    </tr>\n",
       "  </tbody>\n",
       "</table>\n",
       "</div>"
      ],
      "text/plain": [
       "    species  island  bill_length_mm  bill_depth_mm  flipper_length_mm  \\\n",
       "343  Gentoo  Biscoe            49.9           16.1              213.0   \n",
       "\n",
       "     body_mass_g   sex  \n",
       "343       5400.0  Male  "
      ]
     },
     "metadata": {},
     "output_type": "display_data"
    }
   ],
   "source": [
    "# penguine data: df_peng\n",
    "df_peng = sns.load_dataset('penguins')\n",
    "display(\n",
    "    df_peng.shape,\n",
    "    df_peng.head(1), \n",
    "    df_peng.tail(1)\n",
    ")"
   ]
  },
  {
   "cell_type": "markdown",
   "id": "c7738774",
   "metadata": {},
   "source": [
    "## ## 01. figure & axes"
   ]
  },
  {
   "cell_type": "markdown",
   "id": "ed6d713f",
   "metadata": {},
   "source": [
    "#### #### 데이터 확인"
   ]
  },
  {
   "cell_type": "code",
   "execution_count": 4,
   "id": "8f6d97cf",
   "metadata": {},
   "outputs": [
    {
     "name": "stdout",
     "output_type": "stream",
     "text": [
      "(344, 7)\n"
     ]
    },
    {
     "data": {
      "text/html": [
       "<div>\n",
       "<style scoped>\n",
       "    .dataframe tbody tr th:only-of-type {\n",
       "        vertical-align: middle;\n",
       "    }\n",
       "\n",
       "    .dataframe tbody tr th {\n",
       "        vertical-align: top;\n",
       "    }\n",
       "\n",
       "    .dataframe thead th {\n",
       "        text-align: right;\n",
       "    }\n",
       "</style>\n",
       "<table border=\"1\" class=\"dataframe\">\n",
       "  <thead>\n",
       "    <tr style=\"text-align: right;\">\n",
       "      <th></th>\n",
       "      <th>species</th>\n",
       "      <th>island</th>\n",
       "      <th>bill_length_mm</th>\n",
       "      <th>bill_depth_mm</th>\n",
       "      <th>flipper_length_mm</th>\n",
       "      <th>body_mass_g</th>\n",
       "      <th>sex</th>\n",
       "    </tr>\n",
       "  </thead>\n",
       "  <tbody>\n",
       "    <tr>\n",
       "      <th>0</th>\n",
       "      <td>Adelie</td>\n",
       "      <td>Torgersen</td>\n",
       "      <td>39.1</td>\n",
       "      <td>18.7</td>\n",
       "      <td>181.0</td>\n",
       "      <td>3750.0</td>\n",
       "      <td>Male</td>\n",
       "    </tr>\n",
       "  </tbody>\n",
       "</table>\n",
       "</div>"
      ],
      "text/plain": [
       "  species     island  bill_length_mm  bill_depth_mm  flipper_length_mm  \\\n",
       "0  Adelie  Torgersen            39.1           18.7              181.0   \n",
       "\n",
       "   body_mass_g   sex  \n",
       "0       3750.0  Male  "
      ]
     },
     "execution_count": 4,
     "metadata": {},
     "output_type": "execute_result"
    }
   ],
   "source": [
    "print(df_peng.shape); df_peng.head(1)"
   ]
  },
  {
   "cell_type": "markdown",
   "id": "8f117456",
   "metadata": {},
   "source": [
    "#### #### 도화지/축 - (1,3) 레이아웃"
   ]
  },
  {
   "cell_type": "code",
   "execution_count": 5,
   "id": "7430f323",
   "metadata": {},
   "outputs": [
    {
     "name": "stdout",
     "output_type": "stream",
     "text": [
      "AxesSubplot(0.125,0.125;0.227941x0.755) AxesSubplot(0.398529,0.125;0.227941x0.755) AxesSubplot(0.672059,0.125;0.227941x0.755)\n"
     ]
    },
    {
     "data": {
      "image/png": "[encoded data removed]",
      "text/plain": [
       "<Figure size 864x72 with 3 Axes>"
      ]
     },
     "metadata": {},
     "output_type": "display_data"
    }
   ],
   "source": [
    "fig, axes = plt.subplots(nrows=1, ncols=3, figsize=(12,1),\n",
    "                         constrained_layout=True,\n",
    "                         sharex=False, sharey=False)\n",
    "\n",
    "print(axes[0], axes[1], axes[2])"
   ]
  },
  {
   "cell_type": "markdown",
   "id": "fb182020",
   "metadata": {},
   "source": [
    "#### #### 도화지/축 - (2,3) 레이아웃"
   ]
  },
  {
   "cell_type": "code",
   "execution_count": 10,
   "id": "5f15e1d5",
   "metadata": {},
   "outputs": [
    {
     "name": "stdout",
     "output_type": "stream",
     "text": [
      "AxesSubplot(0.125,0.536818;0.227941x0.343182) AxesSubplot(0.398529,0.536818;0.227941x0.343182) AxesSubplot(0.672059,0.536818;0.227941x0.343182) AxesSubplot(0.125,0.125;0.227941x0.343182) AxesSubplot(0.398529,0.125;0.227941x0.343182) AxesSubplot(0.672059,0.125;0.227941x0.343182)\n"
     ]
    },
    {
     "data": {
      "image/png": "[encoded data removed]",
      "text/plain": [
       "<Figure size 864x144 with 6 Axes>"
      ]
     },
     "metadata": {},
     "output_type": "display_data"
    }
   ],
   "source": [
    "fig, axes = plt.subplots(nrows=2, ncols=3, figsize=(12,2),\n",
    "                         constrained_layout=True,\n",
    "                         sharex=False, sharey=False)\n",
    "print(axes[0,0], axes[0,1], axes[0,2], axes[1,0], axes[1,1], axes[1,2])"
   ]
  },
  {
   "cell_type": "markdown",
   "id": "e28bc725",
   "metadata": {},
   "source": [
    "#### #### 레이아웃에 그래프 그리기"
   ]
  },
  {
   "cell_type": "code",
   "execution_count": 12,
   "id": "bbffc703",
   "metadata": {},
   "outputs": [
    {
     "data": {
      "image/png": "[encoded data removed]",
      "text/plain": [
       "<Figure size 864x144 with 2 Axes>"
      ]
     },
     "metadata": {},
     "output_type": "display_data"
    },
    {
     "name": "stdout",
     "output_type": "stream",
     "text": [
      "** Axes: AxesSubplot(0.0493348,0.222224;0.468596x0.756941) AxesSubplot(0.527931,0.222224;0.468596x0.756941)\n"
     ]
    }
   ],
   "source": [
    "# (1,2)\n",
    "fig, axes = plt.subplots(nrows=1, ncols=2, figsize=(12,2),   # nrows, ncols, fiigsize 설정\n",
    "                         constrained_layout=True,            # subplot들 간의 간격을 최적으로 자동 조정\n",
    "                         sharex=False, sharey=True)          # x축공유, y축공유 설정\n",
    "\n",
    "sns.kdeplot(x='bill_length_mm', data=df_peng, ax=axes[0])\n",
    "sns.kdeplot(x='bill_depth_mm', data=df_peng, ax=axes[1])\n",
    "\n",
    "plt.show()\n",
    "\n",
    "print('** Axes:', axes[0], axes[1])"
   ]
  },
  {
   "cell_type": "code",
   "execution_count": null,
   "id": "dce78fbf",
   "metadata": {},
   "outputs": [],
   "source": []
  },
  {
   "cell_type": "code",
   "execution_count": null,
   "id": "41cdc6ff",
   "metadata": {},
   "outputs": [],
   "source": []
  },
  {
   "cell_type": "code",
   "execution_count": null,
   "id": "f9b5e26e",
   "metadata": {},
   "outputs": [],
   "source": []
  },
  {
   "cell_type": "code",
   "execution_count": null,
   "id": "b3f5c4b4",
   "metadata": {},
   "outputs": [],
   "source": []
  },
  {
   "cell_type": "code",
   "execution_count": null,
   "id": "7f023fb1",
   "metadata": {},
   "outputs": [],
   "source": []
  },
  {
   "cell_type": "code",
   "execution_count": null,
   "id": "8b5e5538",
   "metadata": {},
   "outputs": [],
   "source": []
  },
  {
   "cell_type": "code",
   "execution_count": null,
   "id": "b69da2fd",
   "metadata": {},
   "outputs": [],
   "source": []
  },
  {
   "cell_type": "code",
   "execution_count": null,
   "id": "a96c7e3d",
   "metadata": {},
   "outputs": [],
   "source": []
  },
  {
   "cell_type": "code",
   "execution_count": null,
   "id": "51608e22",
   "metadata": {},
   "outputs": [],
   "source": []
  },
  {
   "cell_type": "code",
   "execution_count": null,
   "id": "8052389e",
   "metadata": {},
   "outputs": [],
   "source": []
  },
  {
   "cell_type": "code",
   "execution_count": null,
   "id": "38d20530",
   "metadata": {},
   "outputs": [],
   "source": []
  },
  {
   "cell_type": "code",
   "execution_count": null,
   "id": "6b63a57c",
   "metadata": {},
   "outputs": [],
   "source": []
  },
  {
   "cell_type": "code",
   "execution_count": null,
   "id": "58979596",
   "metadata": {},
   "outputs": [],
   "source": []
  },
  {
   "cell_type": "code",
   "execution_count": null,
   "id": "63ba6b7a",
   "metadata": {},
   "outputs": [],
   "source": []
  },
  {
   "cell_type": "code",
   "execution_count": null,
   "id": "73bb6a50",
   "metadata": {},
   "outputs": [],
   "source": []
  },
  {
   "cell_type": "code",
   "execution_count": null,
   "id": "c942f1ae",
   "metadata": {},
   "outputs": [],
   "source": []
  },
  {
   "cell_type": "code",
   "execution_count": null,
   "id": "cba23b15",
   "metadata": {},
   "outputs": [],
   "source": []
  },
  {
   "cell_type": "code",
   "execution_count": null,
   "id": "b73e0a12",
   "metadata": {},
   "outputs": [],
   "source": [
    "\n",
    "\n",
    "# #### 도화지/축 - (2,3) 레이아웃\n",
    "\n",
    "# In[41]:\n",
    "\n",
    "\n",
    "fig, ax = plt.subplots(nrows=2, ncols=3, figsize=(12,2),\n",
    "                       constrained_layout=True,\n",
    "                       sharex=False, sharey=False)\n",
    "\n",
    "print(ax[0,0], ax[0,1], ax[0,2], ax[1,0], ax[1,1], ax[1,2])\n",
    "\n",
    "\n",
    "# #### 레이아웃에 그래프 그리기\n",
    "\n",
    "# In[42]:\n",
    "\n",
    "\n",
    "# (1,2)\n",
    "fig, axs = plt.subplots(nrows=1, ncols=2, figsize=(12,2),   # nrows, ncols, figsize 설정\n",
    "                        constrained_layout=True,            # subplot들 간의 간격을 최적으로 자동 조정\n",
    "                        sharex=False, sharey=True)         # x축공유, y축공유 설정\n",
    "\n",
    "sns.kdeplot(x='bill_length_mm', data=df_peng, ax=axs[0])\n",
    "sns.kdeplot(x='bill_depth_mm', data=df_peng, ax=axs[1])\n",
    "\n",
    "plt.show()\n",
    "\n",
    "print('** Axes:', ax[0], ax[1])\n",
    "\n",
    "\n",
    "# In[43]:\n",
    "\n",
    "\n",
    "# (1,3)\n",
    "fig, axs = plt.subplots(nrows=1, ncols=3, figsize=(12,2),   # nrows, ncols, figsize 설정\n",
    "                        constrained_layout=True,            # subplot들 간의 간격을 최적으로 자동 조정\n",
    "                        sharex=False, sharey=False)         # x축공유, y축공유 설정\n",
    "\n",
    "sns.kdeplot(x='bill_length_mm', data=df_peng, ax=axs[0])\n",
    "sns.kdeplot(x='bill_depth_mm', data=df_peng, ax=axs[1])\n",
    "sns.kdeplot(x='flipper_length_mm', data=df_peng, ax=axs[2])\n",
    "\n",
    "plt.show()\n",
    "\n",
    "print('** Axes:', axs[0], axs[1], axs[2])\n",
    "\n",
    "\n",
    "# In[44]:\n",
    "\n",
    "\n",
    "# (1,4) - for loop 이용\n",
    "fig, axs = plt.subplots(nrows=1, ncols=4, figsize=(12,2),\n",
    "                       constrained_layout=True,\n",
    "                       sharex=False, sharey=False)\n",
    "for i, v in zip(df_peng.columns[2:6], range(len(df_peng.columns[2:6]))):\n",
    "    sns.kdeplot(x=i, data=df_peng, ax=axs[v])\n",
    "\n",
    "\n",
    "# #### 잠깐 step by step\n",
    "\n",
    "# ##### # step.1) zip\n",
    "\n",
    "# In[45]:\n",
    "\n",
    "\n",
    "for i, v in zip([1,2,3],[4,5,6]):\n",
    "    print('** i:', i, '/ v:', v, ' **')\n",
    "\n",
    "\n",
    "# ##### # step.2) plotting\n",
    "\n",
    "# In[46]:\n",
    "\n",
    "\n",
    "# (2,2)\n",
    "fig, axs = plt.subplots(nrows=2, ncols=2, figsize=(12,4),   # nrows, ncols, figsize 설정\n",
    "                        constrained_layout=True,            # subplot들 간의 간격을 최적으로 자동 조정\n",
    "                        sharex=False, sharey=False)         # x축공유, y축공유 설정\n",
    "\n",
    "sns.kdeplot(x='bill_length_mm', data=df_peng, ax=axs[0,0])\n",
    "sns.kdeplot(x='bill_depth_mm', data=df_peng, ax=axs[0,1])\n",
    "sns.kdeplot(x='flipper_length_mm', data=df_peng, ax=axs[1,0])\n",
    "sns.kdeplot(x='body_mass_g', data=df_peng, ax=axs[1,1])\n",
    "\n",
    "plt.show()\n",
    "\n",
    "print('** Axes:', axs[0,0], axs[0,1], axs[1,0], axs[1,1])\n",
    "\n",
    "\n",
    "# In[47]:\n",
    "\n",
    "\n",
    "# (3,2)\n",
    "\n",
    "fig, axs = plt.subplots(nrows=3, ncols=2, figsize=(12,6),   # nrows, ncols, figsize 설정\n",
    "                        constrained_layout=True,            # subplot들 간의 간격을 최적으로 자동 조정\n",
    "                        sharex=False, sharey=False)         # x축공유, y축공유 설정\n",
    "\n",
    "sns.kdeplot(x='bill_length_mm', data=df_peng, ax=axs[0,0])\n",
    "sns.kdeplot(x='bill_depth_mm', data=df_peng, ax=axs[0,1])\n",
    "sns.kdeplot(x='flipper_length_mm', data=df_peng, ax=axs[1,0])\n",
    "sns.kdeplot(x='body_mass_g', data=df_peng, ax=axs[1,1])\n",
    "sns.kdeplot(x='flipper_length_mm', data=df_peng, ax=axs[2,0])\n",
    "sns.kdeplot(x='body_mass_g', data=df_peng, ax=axs[2,1])\n",
    "\n",
    "plt.show()\n",
    "\n",
    "print('** Axes:', axs[0,0], axs[0,1], axs[1,0], axs[1,1], axs[2,0], axs[2,1])\n",
    "\n",
    "\n",
    "# In[48]:\n",
    "\n",
    "\n",
    "# (3,2)\n",
    "\n",
    "fig, axs = plt.subplots(nrows=3, ncols=2, figsize=(12,6),   # nrows, ncols, figsize 설정\n",
    "                        constrained_layout=True,            # subplot들 간의 간격을 최적으로 자동 조정\n",
    "                        sharex=False, sharey=False)         # x축공유, y축공유 설정\n",
    "\n",
    "sns.kdeplot(x='bill_length_mm', data=df_peng, ax=axs[0,0])\n",
    "sns.kdeplot(x='bill_depth_mm', data=df_peng, ax=axs[0,1])\n",
    "sns.kdeplot(x='flipper_length_mm', data=df_peng, ax=axs[1,0])\n",
    "sns.kdeplot(x='body_mass_g', data=df_peng, ax=axs[1,1])\n",
    "sns.kdeplot(x='flipper_length_mm', data=df_peng, ax=axs[2,0])\n",
    "sns.kdeplot(x='body_mass_g', data=df_peng, ax=axs[2,1])\n",
    "\n",
    "plt.show()\n",
    "\n",
    "print('** Axes:', axs[0,0], axs[0,1], axs[1,0], axs[1,1], axs[2,0], axs[2,1])\n",
    "\n",
    "\n",
    "# #### matplotlib & ax object - [Basic plots]\n",
    "#  - https://matplotlib.org/stable/plot_types/index.html\n",
    "\n",
    "# In[51]:\n",
    "\n",
    "\n",
    "# 8 Basic Plots\n",
    "\n",
    "fig, axs = plt.subplots(nrows=4, ncols=2, figsize=(12,6),\n",
    "                        constrained_layout=True,\n",
    "                        sharex=False, sharey=False)\n",
    "\n",
    "# axs[0,0] - line plot\n",
    "x = np.linspace(0, 10, 100)\n",
    "y = 4 + 2 * np.sin(2*x)\n",
    "axs[0,0].plot(x, y, linewidth=2.0)\n",
    "axs[0,0].set(xlim=(0, 8), xticks=np.arange(1, 8), ylim=(0, 8), yticks=np.arange(1, 8))\n",
    "\n",
    "# axs[0,1] - scatter plot\n",
    "x = 4 + np.random.normal(0, 2, 24)\n",
    "y = 4 + np.random.normal(0, 2, len(x))\n",
    "sizes = np.random.uniform(15, 80, len(x))\n",
    "colors = np.random.uniform(15, 80, len(x))\n",
    "axs[0,1].scatter(x, y, s=sizes, c=colors, vmin=0, vmax=100)\n",
    "axs[0,1].set(xlim=(0,8), xticks=np.arange(1,8), ylim=(0,8), yticks=np.arange(1,8))\n",
    "\n",
    "# axs[1,0] - bar plot\n",
    "x = 0.5 + np.arange(8)\n",
    "y = np.random.uniform(2, 7, len(x))\n",
    "axs[1,0].bar(x, y, width=1, edgecolor='white', linewidth=0.7)\n",
    "axs[1,0].set(xlim=(0,8), xticks=np.arange(1,8), ylim=(0,8), yticks=np.arange(1,8))\n",
    "\n",
    "# axs[1,1] - stem plot\n",
    "x = [1, 2, 3, 4]\n",
    "y = [0.4, 0.6, 0.9, 0.5]\n",
    "axs[1,1].stem(x, y)\n",
    "axs[1,1].set(xlim=(0,5), xticks=np.arange(1,5), ylim=(0,1), yticks=np.arange(0,1,0.1))\n",
    "\n",
    "# axs[2,0] - step plot\n",
    "x = 0.5 + np.arange(8)\n",
    "y = np.random.uniform(2, 7, len(x))\n",
    "axs[2,0].step(x, y, linewidth=2.5)\n",
    "axs[2,0].set(xlim=(0,8), xticks=np.arange(1,8), ylim=(0,8), yticks=np.arange(1,8))\n",
    "\n",
    "# axs[2,1] - fill_between plot\n",
    "x =np.linspace(0, 8, 16)\n",
    "y1 = 3 + 4*x/8 + np.random.uniform(0, 0.5, len(x))\n",
    "y2 = 1 + 2*x/8 + np.random.uniform(0, 0.5, len(x))\n",
    "axs[2,1].fill_between(x, y1, y2, alpha=0.5, linewidth=0)\n",
    "axs[2,1].plot(x, (y1+y2)/2, linewidth=2)\n",
    "axs[2,1].set(xlim=(0,8), xticks=np.arange(1,8), ylim=(0,8), yticks=np.arange(1,8))\n",
    "\n",
    "# axs[3,0] - stackplot\n",
    "x = np.arange(0, 10, 2)\n",
    "ay = [1, 1.25, 2, 2.75, 3]\n",
    "by = [1, 1, 1, 1, 1]\n",
    "cy = [2, 1, 2, 1, 2]\n",
    "y = np.vstack([ay, by, cy])\n",
    "axs[3,0].stackplot(x, y)\n",
    "axs[3,0].set(xlim=(0,8), xticks=np.arange(1,8), ylim=(0,8), yticks=np.arange(1,8))\n",
    "\n",
    "# axs[3,1] - contour(x,y,z)\n",
    "x, y = np.meshgrid(np.linspace(-3, 3, 256), np.linspace(-3, 3, 256))\n",
    "z = (1 - x/2 + x**5 + y**3) * np.exp(-x**2 - y**2)\n",
    "levels = np.linspace(np.min(z), np.max(z), 7)\n",
    "axs[3,1].contour(x, y, z, levels=levels)\n",
    "\n",
    "plt.show()\n",
    "\n",
    "\n",
    "# #### matplotlib & ax object - [Statistics plots]\n",
    "#  - https://matplotlib.org/stable/plot_types/index.html\n",
    "\n",
    "# In[52]:\n",
    "\n",
    "\n",
    "# 8 Statistics Plots\n",
    "\n",
    "fig, axs = plt.subplots(nrows=4, ncols=2, figsize=(12,8),\n",
    "                        constrained_layout=True,\n",
    "                        sharex=False, sharey=False)\n",
    "\n",
    "\n",
    "# axs[0,0] - histogram\n",
    "x = 4 + np.random.normal(0, 1.5, 200)\n",
    "axs[0,0].hist(x, bins=8, linewidth=0.5, edgecolor='white')\n",
    "axs[0,0].set(xlim=(0,8), xticks=np.arange(1,8), ylim=(0,56), yticks=np.linspace(0,56,9))\n",
    "\n",
    "\n",
    "# axs[0,1] - boxplot\n",
    "d = np.random.normal((3,5,4), (1.25,1.00, 1.25), (100,3))\n",
    "vp = axs[0,1].boxplot(d, positions=[2,4,6], widths=1.5, patch_artist=True,\n",
    "                      showmeans=False, showfliers=False,\n",
    "                      medianprops={'color':'white', 'linewidth':0.5},\n",
    "                      boxprops={'facecolor':'C0', 'edgecolor':'white', 'linewidth':0.5},\n",
    "                      whiskerprops={'color':'C1', 'linewidth':1.5},\n",
    "                      capprops={'color':'C2', 'linewidth':1.5})\n",
    "axs[0,1].set(xlim=(0,8), xticks=np.arange(1,8), ylim=(0,8), yticks=np.arange(1,8))\n",
    "\n",
    "\n",
    "# axs[1,0] - errorbar\n",
    "x = [2, 4, 6]\n",
    "y = [3.6, 5, 4.2]\n",
    "yerr = [0.9, 1.2, 0.5]\n",
    "axs[1,0].errorbar(x, y, yerr, fmt='o', linewidth=2, capsize=6)\n",
    "axs[1,0].set(xlim=(0,8), xticks=np.arange(1,8), ylim=(0,8), yticks=np.arange(1,8))\n",
    "\n",
    "\n",
    "# axs[1,1] - violinplot\n",
    "d = np.random.normal((3,5,4), (0.75,1.00,0.75), (200,3))\n",
    "vp = axs[1,1].violinplot(d, [2,4,6], widths=2, showmeans=False, showmedians=False, showextrema=False)\n",
    "# for body in vp['bodies']:\n",
    "#     body.set_alpha(0.9)\n",
    "# axs[1,1].set(xlim=(0,8), xticks=np.arange(1,8), ylim=(0,8), yticks=np.arange(1,8))\n",
    "\n",
    "\n",
    "# axs[2,0] - eventplot\n",
    "x = [2, 4, 6]\n",
    "d = np.random.gamma(4, size=(3, 50))\n",
    "axs[2,0].eventplot(d, orientation='vertical', lineoffsets=x, linewidth=0.75)\n",
    "axs[2,0].set(xlim=(0,8), xticks=np.arange(1,8), ylim=(0,8), yticks=np.arange(1,8))\n",
    "\n",
    "\n",
    "# axs[2,1] - 2d histogram\n",
    "x = np.random.randn(500)\n",
    "y = 1.2 * x + np.random.randn(500) / 3\n",
    "plt.style.use('_mpl-gallery-nogrid')\n",
    "axs[2,1].hist2d(x, y, bins=(np.arange(-3, 3, 0.1), np.arange(-3, 3, 0.1)))\n",
    "axs[2,1].set(xlim=(-2, 2), ylim=(-3, 3))\n",
    "\n",
    "\n",
    "# axs[3,0] - hexbin plot\n",
    "x = np.random.randn(500)\n",
    "y = 1.2 * x + np.random.randn(500)/3\n",
    "axs[3,0].hexbin(x, y, gridsize=20)\n",
    "axs[3,0].set(xlim=(-2,2), ylim=(-3,3))\n",
    "\n",
    "\n",
    "# axs[3,1] - pie plot\n",
    "x = [1, 2, 3, 4]\n",
    "colors = plt.get_cmap('Blues')(np.linspace(0.2, 0.7, len(x)))\n",
    "axs[3,1].pie(x, colors=colors, radius=3, center=(4,4), \n",
    "             wedgeprops={'linewidth':1, 'edgecolor':'white'},\n",
    "             frame=True)\n",
    "axs[3,1].set(xlim=(0,8), xticks=np.arange(1,8), ylim=(0,8), yticks=np.arange(1,8))\n",
    "\n",
    "plt.show()\n",
    "\n",
    "\n",
    "# #### E.O.D\n",
    "\n",
    "\n",
    "\n",
    "\n",
    "\n",
    "\n",
    "\n",
    "\n"
   ]
  }
 ],
 "metadata": {
  "kernelspec": {
   "display_name": "Python 3 (ipykernel)",
   "language": "python",
   "name": "python3"
  },
  "language_info": {
   "codemirror_mode": {
    "name": "ipython",
    "version": 3
   },
   "file_extension": ".py",
   "mimetype": "text/x-python",
   "name": "python",
   "nbconvert_exporter": "python",
   "pygments_lexer": "ipython3",
   "version": "3.8.2"
  }
 },
 "nbformat": 4,
 "nbformat_minor": 5
}

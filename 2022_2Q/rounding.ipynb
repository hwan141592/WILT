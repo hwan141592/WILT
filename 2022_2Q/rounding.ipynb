{
 "cells": [
  {
   "cell_type": "markdown",
   "id": "523b06f7-ce13-4540-acec-f9c7c66dd166",
   "metadata": {},
   "source": [
    "# round( )\n",
    " - find the nearest even number\n",
    " - https://numpy.org/doc/stable/reference/generated/numpy.around.html#numpy.around\n",
    " - https://www.w3schools.com/python/ref_func_round.asp"
   ]
  },
  {
   "cell_type": "code",
   "execution_count": 37,
   "id": "f1361eae-ae74-4a1e-bb1f-9451aab78b81",
   "metadata": {},
   "outputs": [
    {
     "data": {
      "text/plain": [
       "(2, 2, 4, 4, 6)"
      ]
     },
     "execution_count": 37,
     "metadata": {},
     "output_type": "execute_result"
    }
   ],
   "source": [
    "round(1.5), round(2.5), round(3.5), round(4.5), round(5.5)"
   ]
  },
  {
   "cell_type": "code",
   "execution_count": 38,
   "id": "518bd191-f63a-46a3-bc9f-8329c4142512",
   "metadata": {},
   "outputs": [
    {
     "data": {
      "text/plain": [
       "(3, 3.0, 3.2, 3.18, 3.183)"
      ]
     },
     "execution_count": 38,
     "metadata": {},
     "output_type": "execute_result"
    }
   ],
   "source": [
    "round(3.182537), round(3.182537, 0), round(3.182537, 1), round(3.182537, 2), round(3.182537, 3)"
   ]
  },
  {
   "cell_type": "markdown",
   "id": "83040030-a779-49cb-805b-9ab9e580dbca",
   "metadata": {},
   "source": [
    "# Decimal to properly round( )"
   ]
  },
  {
   "cell_type": "code",
   "execution_count": 39,
   "id": "9d6e1807-5204-4ea4-b7db-8302d8f1a7b1",
   "metadata": {},
   "outputs": [],
   "source": [
    "from decimal import Decimal, ROUND_UP, ROUND_DOWN, ROUND_HALF_EVEN"
   ]
  },
  {
   "cell_type": "code",
   "execution_count": 40,
   "id": "a94761d7-62a3-431b-9fd8-f482b3743a28",
   "metadata": {},
   "outputs": [
    {
     "data": {
      "text/plain": [
       "16.2719"
      ]
     },
     "execution_count": 40,
     "metadata": {},
     "output_type": "execute_result"
    }
   ],
   "source": [
    "16.2719"
   ]
  },
  {
   "cell_type": "code",
   "execution_count": 41,
   "id": "d8eba1bb-1e0a-4a44-88b2-363b3075edf6",
   "metadata": {},
   "outputs": [
    {
     "data": {
      "text/plain": [
       "'16.2719'"
      ]
     },
     "execution_count": 41,
     "metadata": {},
     "output_type": "execute_result"
    }
   ],
   "source": [
    "str(16.2719)"
   ]
  },
  {
   "cell_type": "code",
   "execution_count": 42,
   "id": "bae068ad-1140-4fdc-ad1e-cbde7c655e21",
   "metadata": {},
   "outputs": [
    {
     "data": {
      "text/plain": [
       "Decimal('16.2719')"
      ]
     },
     "execution_count": 42,
     "metadata": {},
     "output_type": "execute_result"
    }
   ],
   "source": [
    "Decimal(str(16.2719))"
   ]
  },
  {
   "cell_type": "code",
   "execution_count": 43,
   "id": "11c60206-9290-4090-825a-9dc4c89d452d",
   "metadata": {},
   "outputs": [
    {
     "data": {
      "text/plain": [
       "Decimal('16.272')"
      ]
     },
     "execution_count": 43,
     "metadata": {},
     "output_type": "execute_result"
    }
   ],
   "source": [
    "Decimal(str(16.2719)).quantize(Decimal('.001'))"
   ]
  },
  {
   "cell_type": "code",
   "execution_count": 44,
   "id": "81811394-c16d-4fa7-bac8-c5f922ceda85",
   "metadata": {},
   "outputs": [
    {
     "data": {
      "text/plain": [
       "Decimal('16.27')"
      ]
     },
     "execution_count": 44,
     "metadata": {},
     "output_type": "execute_result"
    }
   ],
   "source": [
    "Decimal(str(16.2719)).quantize(Decimal('.01'))"
   ]
  },
  {
   "cell_type": "code",
   "execution_count": 45,
   "id": "cea168a2-aa24-41ea-bdf3-3a7cebc27925",
   "metadata": {},
   "outputs": [
    {
     "data": {
      "text/plain": [
       "Decimal('16.27')"
      ]
     },
     "execution_count": 45,
     "metadata": {},
     "output_type": "execute_result"
    }
   ],
   "source": [
    "Decimal(str(16.2719)).quantize(Decimal('.01'), rounding=ROUND_HALF_EVEN)"
   ]
  },
  {
   "cell_type": "code",
   "execution_count": 46,
   "id": "7cd7f19d-6265-480f-be33-2cae1bbbabad",
   "metadata": {},
   "outputs": [
    {
     "data": {
      "text/plain": [
       "Decimal('16.3')"
      ]
     },
     "execution_count": 46,
     "metadata": {},
     "output_type": "execute_result"
    }
   ],
   "source": [
    "Decimal(str(16.2719)).quantize(Decimal('.1'), rounding=ROUND_HALF_EVEN)"
   ]
  },
  {
   "cell_type": "code",
   "execution_count": 47,
   "id": "2f21f757-76ea-4d2a-844a-7a2b65de621b",
   "metadata": {},
   "outputs": [
    {
     "data": {
      "text/plain": [
       "Decimal('16')"
      ]
     },
     "execution_count": 47,
     "metadata": {},
     "output_type": "execute_result"
    }
   ],
   "source": [
    "Decimal(str(16.2719)).quantize(Decimal('1'), rounding=ROUND_HALF_EVEN)"
   ]
  },
  {
   "cell_type": "code",
   "execution_count": 48,
   "id": "e75980be-3dbd-42aa-b3ff-c0a697b0c09f",
   "metadata": {},
   "outputs": [
    {
     "data": {
      "text/plain": [
       "Decimal('16')"
      ]
     },
     "execution_count": 48,
     "metadata": {},
     "output_type": "execute_result"
    }
   ],
   "source": [
    "Decimal(str(16.2719)).quantize(Decimal('10'), rounding=ROUND_HALF_EVEN)  # 16"
   ]
  },
  {
   "cell_type": "code",
   "execution_count": 49,
   "id": "08fe2262-0bf1-4403-a0cb-8c75c4a2ed34",
   "metadata": {},
   "outputs": [
    {
     "data": {
      "text/plain": [
       "Decimal('17')"
      ]
     },
     "execution_count": 49,
     "metadata": {},
     "output_type": "execute_result"
    }
   ],
   "source": [
    "Decimal(str(16.2719)).quantize(Decimal('1'), rounding=ROUND_UP)   # round up"
   ]
  },
  {
   "cell_type": "code",
   "execution_count": 50,
   "id": "51ea3e12-e5fe-47a1-9a5a-bed932c709df",
   "metadata": {},
   "outputs": [
    {
     "data": {
      "text/plain": [
       "Decimal('16.2')"
      ]
     },
     "execution_count": 50,
     "metadata": {},
     "output_type": "execute_result"
    }
   ],
   "source": [
    "Decimal(str(16.2719)).quantize(Decimal('0.1'), rounding=ROUND_DOWN)   # round down"
   ]
  },
  {
   "cell_type": "markdown",
   "id": "e31baa03-88ba-4dae-bc5c-9222f362de60",
   "metadata": {},
   "source": [
    "# define function to properly round"
   ]
  },
  {
   "cell_type": "code",
   "execution_count": 51,
   "id": "b7304c52-bcc3-4a71-a328-ce34dddc87ef",
   "metadata": {},
   "outputs": [],
   "source": [
    "def rounding(num, decimal=0):\n",
    "    num = str(num)[:str(num).index('.')+decimal+2]\n",
    "    if num[-1]>='5':\n",
    "        return float(num[:-2-(not decimal)]+str(int(num[-2-(not decimal)])+1))\n",
    "    return float(num[:-1])"
   ]
  },
  {
   "cell_type": "code",
   "execution_count": 52,
   "id": "51a23006-5dd7-479d-af05-f0f7676d9ef2",
   "metadata": {},
   "outputs": [
    {
     "data": {
      "text/plain": [
       "(2.0, 3.0, 4.0, 5.0)"
      ]
     },
     "execution_count": 52,
     "metadata": {},
     "output_type": "execute_result"
    }
   ],
   "source": [
    "rounding(1.5), rounding(2.5), rounding(3.5), rounding(4.5)"
   ]
  },
  {
   "cell_type": "code",
   "execution_count": 55,
   "id": "573501f8-87c0-404f-9b67-6b5d629e1b1d",
   "metadata": {},
   "outputs": [
    {
     "data": {
      "text/plain": [
       "3.0"
      ]
     },
     "metadata": {},
     "output_type": "display_data"
    },
    {
     "data": {
      "text/plain": [
       "3.0"
      ]
     },
     "metadata": {},
     "output_type": "display_data"
    },
    {
     "data": {
      "text/plain": [
       "3.2"
      ]
     },
     "metadata": {},
     "output_type": "display_data"
    },
    {
     "data": {
      "text/plain": [
       "3.15"
      ]
     },
     "metadata": {},
     "output_type": "display_data"
    },
    {
     "data": {
      "text/plain": [
       "3.153"
      ]
     },
     "metadata": {},
     "output_type": "display_data"
    }
   ],
   "source": [
    "display(\n",
    "    rounding(3.15293847), \n",
    "    rounding(3.15293847, 0), \n",
    "    rounding(3.15293847, 1), \n",
    "    rounding(3.15293847, 2), \n",
    "    rounding(3.15293847, 3)\n",
    ")"
   ]
  },
  {
   "cell_type": "code",
   "execution_count": null,
   "id": "5d341d88-937c-4134-8c49-7b14d78a713c",
   "metadata": {},
   "outputs": [],
   "source": []
  },
  {
   "cell_type": "code",
   "execution_count": null,
   "id": "d22dd604-da99-40ff-9aab-64759b1ec952",
   "metadata": {},
   "outputs": [],
   "source": []
  }
 ],
 "metadata": {
  "kernelspec": {
   "display_name": "Python 3 (ipykernel)",
   "language": "python",
   "name": "python3"
  },
  "language_info": {
   "codemirror_mode": {
    "name": "ipython",
    "version": 3
   },
   "file_extension": ".py",
   "mimetype": "text/x-python",
   "name": "python",
   "nbconvert_exporter": "python",
   "pygments_lexer": "ipython3",
   "version": "3.8.2"
  }
 },
 "nbformat": 4,
 "nbformat_minor": 5
}

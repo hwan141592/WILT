{
 "cells": [
  {
   "cell_type": "markdown",
   "id": "a1cc64cb",
   "metadata": {},
   "source": [
    "# pandas.Timestamp Usage (* isocalendar)\n",
    " - https://pandas.pydata.org/docs/reference/api/pandas.Timestamp.isocalendar.html\n",
    " - year, month, week(!), day of the week"
   ]
  },
  {
   "cell_type": "code",
   "execution_count": 101,
   "id": "cdd3e777",
   "metadata": {},
   "outputs": [
    {
     "name": "stdout",
     "output_type": "stream",
     "text": [
      "* dt: 2022-05-25\n",
      "* Week #21 of year 2022\n"
     ]
    }
   ],
   "source": [
    "import datetime\n",
    "dt = datetime.date.today() # if date is 01/01/2018\n",
    "print('* dt:', dt)\n",
    "year, week_num, day_of_week = dt.isocalendar()\n",
    "print(\"* Week #\" + str(week_num) + \" of year \" + str(year))"
   ]
  },
  {
   "cell_type": "code",
   "execution_count": 102,
   "id": "f0b3d4fc",
   "metadata": {},
   "outputs": [
    {
     "data": {
      "text/plain": [
       "datetime.date(2022, 5, 25)"
      ]
     },
     "execution_count": 102,
     "metadata": {},
     "output_type": "execute_result"
    }
   ],
   "source": [
    "import datetime\n",
    "datetime.date.today()"
   ]
  },
  {
   "cell_type": "code",
   "execution_count": 103,
   "id": "8fcffc22",
   "metadata": {},
   "outputs": [
    {
     "data": {
      "text/plain": [
       "0   2017-01-01 12:11:00\n",
       "1   2017-01-24 15:07:00\n",
       "2   2017-12-31 08:09:00\n",
       "dtype: datetime64[ns]"
      ]
     },
     "execution_count": 103,
     "metadata": {},
     "output_type": "execute_result"
    }
   ],
   "source": [
    "import pandas as pd\n",
    "s = pd.Series([pd.Timestamp(2017, 1, 1, 12, 11), \n",
    "               pd.Timestamp(2017, 1, 24, 15, 7), \n",
    "               pd.Timestamp(2017, 12, 31, 8, 9)])\n",
    "s"
   ]
  },
  {
   "cell_type": "code",
   "execution_count": 104,
   "id": "9fbf2ed8",
   "metadata": {},
   "outputs": [
    {
     "data": {
      "text/plain": [
       "Timestamp('2017-01-01 12:11:00')"
      ]
     },
     "execution_count": 104,
     "metadata": {},
     "output_type": "execute_result"
    }
   ],
   "source": [
    "pandas_dt = pd.Timestamp(2017, 1, 1, 12, 11)\n",
    "pandas_dt"
   ]
  },
  {
   "cell_type": "code",
   "execution_count": 105,
   "id": "5ed57723",
   "metadata": {},
   "outputs": [
    {
     "data": {
      "text/plain": [
       "(2016, 52, 7)"
      ]
     },
     "execution_count": 105,
     "metadata": {},
     "output_type": "execute_result"
    }
   ],
   "source": [
    "pandas_dt.isocalendar()"
   ]
  },
  {
   "cell_type": "code",
   "execution_count": 106,
   "id": "62f3305d",
   "metadata": {},
   "outputs": [
    {
     "data": {
      "text/plain": [
       "52"
      ]
     },
     "execution_count": 106,
     "metadata": {},
     "output_type": "execute_result"
    }
   ],
   "source": [
    "pandas_dt.isocalendar()[1]"
   ]
  },
  {
   "cell_type": "code",
   "execution_count": 107,
   "id": "b6f36133",
   "metadata": {},
   "outputs": [
    {
     "data": {
      "text/plain": [
       "0    2016\n",
       "1    2017\n",
       "2    2017\n",
       "dtype: int64"
      ]
     },
     "execution_count": 107,
     "metadata": {},
     "output_type": "execute_result"
    }
   ],
   "source": [
    "s.apply(lambda x: x.isocalendar()[0])"
   ]
  },
  {
   "cell_type": "code",
   "execution_count": 108,
   "id": "51a6b71c",
   "metadata": {},
   "outputs": [
    {
     "data": {
      "text/plain": [
       "0    52\n",
       "1     4\n",
       "2    52\n",
       "dtype: int64"
      ]
     },
     "execution_count": 108,
     "metadata": {},
     "output_type": "execute_result"
    }
   ],
   "source": [
    "s.apply(lambda x: x.isocalendar()[1])"
   ]
  },
  {
   "cell_type": "markdown",
   "id": "c5fa8bd5",
   "metadata": {},
   "source": [
    "#### See other functions"
   ]
  },
  {
   "cell_type": "code",
   "execution_count": 109,
   "id": "f1e5dd90",
   "metadata": {},
   "outputs": [
    {
     "data": {
      "text/plain": [
       "2017"
      ]
     },
     "metadata": {},
     "output_type": "display_data"
    },
    {
     "data": {
      "text/plain": [
       "1"
      ]
     },
     "metadata": {},
     "output_type": "display_data"
    },
    {
     "data": {
      "text/plain": [
       "52"
      ]
     },
     "metadata": {},
     "output_type": "display_data"
    },
    {
     "data": {
      "text/plain": [
       "6"
      ]
     },
     "metadata": {},
     "output_type": "display_data"
    },
    {
     "data": {
      "text/plain": [
       "52"
      ]
     },
     "metadata": {},
     "output_type": "display_data"
    },
    {
     "data": {
      "text/plain": [
       "364"
      ]
     },
     "metadata": {},
     "output_type": "display_data"
    }
   ],
   "source": [
    "display(\n",
    "    pd.Timestamp(2017, 1, 1).year,        # year\n",
    "    pd.Timestamp(2017, 1, 1).month,       # month\n",
    "    pd.Timestamp(2017, 1, 1).week,        # week\n",
    "    pd.Timestamp(2017, 1, 1).dayofweek,   # day of week: 1=Tuesday, 7=Monday\n",
    "    pd.Timestamp(2017, 1, 1).weekofyear,  # week  *** Be careful *** \n",
    "    pd.Timestamp(2017, 12, 30).dayofyear  # day of the year\n",
    ")"
   ]
  },
  {
   "cell_type": "markdown",
   "id": "63df6fa9",
   "metadata": {},
   "source": [
    "#### >> this do not catch the change in year"
   ]
  },
  {
   "cell_type": "markdown",
   "id": "2431c041",
   "metadata": {},
   "source": [
    "## <span style=\"color:red\">[Note] so we use isocalendar( ) </span>"
   ]
  },
  {
   "cell_type": "code",
   "execution_count": 110,
   "id": "b32889b7",
   "metadata": {},
   "outputs": [
    {
     "data": {
      "text/plain": [
       "2022"
      ]
     },
     "metadata": {},
     "output_type": "display_data"
    },
    {
     "data": {
      "text/plain": [
       "21"
      ]
     },
     "metadata": {},
     "output_type": "display_data"
    },
    {
     "data": {
      "text/plain": [
       "3"
      ]
     },
     "metadata": {},
     "output_type": "display_data"
    }
   ],
   "source": [
    "y, w, dow = pd.Timestamp.isocalendar(pd.Timestamp(2022, 5, 25))\n",
    "display(y, w, dow)   # dow(day of week) >> 1:Mon, ... , 7:Sun"
   ]
  },
  {
   "cell_type": "markdown",
   "id": "6f0bbe8b",
   "metadata": {},
   "source": [
    "#### >> *In isocalendar, day of week starts from 'MONDAY' (1=Monday, 7=Sunday)*, which is more intuitive"
   ]
  },
  {
   "cell_type": "code",
   "execution_count": null,
   "id": "3c91298f",
   "metadata": {},
   "outputs": [],
   "source": []
  }
 ],
 "metadata": {
  "kernelspec": {
   "display_name": "Python 3 (ipykernel)",
   "language": "python",
   "name": "python3"
  },
  "language_info": {
   "codemirror_mode": {
    "name": "ipython",
    "version": 3
   },
   "file_extension": ".py",
   "mimetype": "text/x-python",
   "name": "python",
   "nbconvert_exporter": "python",
   "pygments_lexer": "ipython3",
   "version": "3.8.2"
  }
 },
 "nbformat": 4,
 "nbformat_minor": 5
}

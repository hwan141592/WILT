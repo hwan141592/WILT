{
 "cells": [
  {
   "cell_type": "code",
   "execution_count": 1,
   "metadata": {},
   "outputs": [],
   "source": [
    "import pandas as pd\n",
    "import numpy as np"
   ]
  },
  {
   "cell_type": "code",
   "execution_count": 2,
   "metadata": {},
   "outputs": [
    {
     "data": {
      "text/html": [
       "<div>\n",
       "<style scoped>\n",
       "    .dataframe tbody tr th:only-of-type {\n",
       "        vertical-align: middle;\n",
       "    }\n",
       "\n",
       "    .dataframe tbody tr th {\n",
       "        vertical-align: top;\n",
       "    }\n",
       "\n",
       "    .dataframe thead th {\n",
       "        text-align: right;\n",
       "    }\n",
       "</style>\n",
       "<table border=\"1\" class=\"dataframe\">\n",
       "  <thead>\n",
       "    <tr style=\"text-align: right;\">\n",
       "      <th></th>\n",
       "      <th>account</th>\n",
       "      <th>Jan</th>\n",
       "      <th>Feb</th>\n",
       "      <th>Mar</th>\n",
       "    </tr>\n",
       "  </thead>\n",
       "  <tbody>\n",
       "    <tr>\n",
       "      <td>0</td>\n",
       "      <td>Kim</td>\n",
       "      <td>150.0</td>\n",
       "      <td>200</td>\n",
       "      <td>140.0</td>\n",
       "    </tr>\n",
       "    <tr>\n",
       "      <td>1</td>\n",
       "      <td>Song</td>\n",
       "      <td>200.0</td>\n",
       "      <td>210</td>\n",
       "      <td>NaN</td>\n",
       "    </tr>\n",
       "    <tr>\n",
       "      <td>2</td>\n",
       "      <td>Noh</td>\n",
       "      <td>70.0</td>\n",
       "      <td>90</td>\n",
       "      <td>215.0</td>\n",
       "    </tr>\n",
       "    <tr>\n",
       "      <td>3</td>\n",
       "      <td>Ho</td>\n",
       "      <td>NaN</td>\n",
       "      <td>100</td>\n",
       "      <td>95.0</td>\n",
       "    </tr>\n",
       "  </tbody>\n",
       "</table>\n",
       "</div>"
      ],
      "text/plain": [
       "  account    Jan  Feb    Mar\n",
       "0     Kim  150.0  200  140.0\n",
       "1    Song  200.0  210    NaN\n",
       "2     Noh   70.0   90  215.0\n",
       "3      Ho    NaN  100   95.0"
      ]
     },
     "execution_count": 2,
     "metadata": {},
     "output_type": "execute_result"
    }
   ],
   "source": [
    "sales = {'account' : ['Kim', 'Song', 'Noh', 'Ho'],\n",
    "         'Jan' : [150, 200, 70, np.NaN],\n",
    "         'Feb' : [200, 210, 90, 100],\n",
    "         'Mar' : [140, np.NaN, 215, 95]}\n",
    "df_orig = pd.DataFrame.from_dict(sales)\n",
    "df = df_orig.copy()\n",
    "df"
   ]
  },
  {
   "cell_type": "markdown",
   "metadata": {},
   "source": [
    "### Using if else in Lambda function¶\n",
    "lambda (arguments) : (Return value if condition is True) if (condition) else"
   ]
  },
  {
   "cell_type": "code",
   "execution_count": 3,
   "metadata": {},
   "outputs": [
    {
     "data": {
      "text/plain": [
       "True"
      ]
     },
     "execution_count": 3,
     "metadata": {},
     "output_type": "execute_result"
    }
   ],
   "source": [
    "user_defined_function_01 = lambda x : True if (x>10 and x<20) else False\n",
    "user_defined_function_01(17)"
   ]
  },
  {
   "cell_type": "markdown",
   "metadata": {},
   "source": [
    "### Creating conditional lambda function without¶"
   ]
  },
  {
   "cell_type": "code",
   "execution_count": 4,
   "metadata": {},
   "outputs": [
    {
     "data": {
      "text/plain": [
       "<function __main__.<lambda>(x)>"
      ]
     },
     "execution_count": 4,
     "metadata": {},
     "output_type": "execute_result"
    }
   ],
   "source": [
    "lambda x : x > 10 and x < 20"
   ]
  },
  {
   "cell_type": "code",
   "execution_count": 7,
   "metadata": {},
   "outputs": [
    {
     "data": {
      "text/plain": [
       "True"
      ]
     },
     "execution_count": 7,
     "metadata": {},
     "output_type": "execute_result"
    }
   ],
   "source": [
    "check = lambda x : x>10 and x<20\n",
    "check(12)"
   ]
  },
  {
   "cell_type": "markdown",
   "metadata": {},
   "source": [
    "### Using filter() function with a conditional lambda function (with if else)"
   ]
  },
  {
   "cell_type": "code",
   "execution_count": 8,
   "metadata": {},
   "outputs": [
    {
     "data": {
      "text/plain": [
       "[1, 3, 33, 12, 34, 56, 11, 19, 21, 34, 15]"
      ]
     },
     "execution_count": 8,
     "metadata": {},
     "output_type": "execute_result"
    }
   ],
   "source": [
    "list_of_num = [1,3,33,12,34,56,11,19,21,34,15]\n",
    "list_of_num"
   ]
  },
  {
   "cell_type": "code",
   "execution_count": 9,
   "metadata": {},
   "outputs": [
    {
     "name": "stdout",
     "output_type": "stream",
     "text": [
      "Filtered List : [12, 11, 19, 15]\n"
     ]
    }
   ],
   "source": [
    "list_of_num = list(filter(lambda x : x>10 and x<20, list_of_num))\n",
    "print('Filtered List :', list_of_num)"
   ]
  },
  {
   "cell_type": "markdown",
   "metadata": {},
   "source": [
    "### Using if, elif & else in a lambda function"
   ]
  },
  {
   "cell_type": "markdown",
   "metadata": {},
   "source": [
    "lambda (args) : **return value** if (condition) ( **return value** if (condition) else **return value** )"
   ]
  },
  {
   "cell_type": "code",
   "execution_count": 12,
   "metadata": {},
   "outputs": [],
   "source": [
    "converter = lambda x : x*2 if x<10 else (x*3 if x<20 else x)"
   ]
  },
  {
   "cell_type": "code",
   "execution_count": 14,
   "metadata": {},
   "outputs": [
    {
     "name": "stdout",
     "output_type": "stream",
     "text": [
      "convert 5 to :  10\n",
      "convert 13 to :  39\n",
      "convert 23 to :  23\n"
     ]
    }
   ],
   "source": [
    "print('convert 5 to : ', converter(5))\n",
    "print('convert 13 to : ', converter(13))\n",
    "print('convert 23 to : ', converter(23))"
   ]
  },
  {
   "cell_type": "code",
   "execution_count": 15,
   "metadata": {
    "scrolled": true
   },
   "outputs": [
    {
     "name": "stdout",
     "output_type": "stream",
     "text": [
      "*** Using if else in Lambda function ***\n",
      "True\n",
      "False\n",
      "False\n",
      "*** Creating conditional lambda function without if else ***\n",
      "True\n",
      "False\n",
      "False\n",
      "*** Using filter() function with a conditional lambda function (with if else) ***\n",
      "Original List :  [1, 3, 33, 12, 34, 56, 11, 19, 21, 34, 15]\n",
      "Filtered List :  [12, 11, 19, 15]\n",
      "*** Using if, elif & else in Lambda function ***\n",
      "convert 5 to :  10\n",
      "convert 13 to :  39\n",
      "convert 23 to :  23\n"
     ]
    }
   ],
   "source": [
    "def main():\n",
    "    print('*** Using if else in Lambda function ***')\n",
    "    # Lambda function to check if a given vaue is from 10 to 20.\n",
    "    test = lambda x : True if (x > 10 and x < 20) else False\n",
    " \n",
    "    # Check if given numbers are in range using lambda function\n",
    "    print(test(12))\n",
    "    print(test(3))\n",
    "    print(test(24))\n",
    " \n",
    "    print('*** Creating conditional lambda function without if else ***')\n",
    " \n",
    "    # Lambda function to check if a given vaue is from 10 to 20.\n",
    "    check = lambda x : x > 10 and x < 20\n",
    " \n",
    "    # Check if given numbers are in range using lambda function\n",
    "    print(check(12))\n",
    "    print(check(3))\n",
    "    print(check(24))\n",
    " \n",
    "    print('*** Using filter() function with a conditional lambda function (with if else) ***')\n",
    " \n",
    "    # List of numbers\n",
    "    listofNum = [1,3,33,12,34,56,11,19,21,34,15]\n",
    "    print('Original List : ', listofNum)\n",
    " \n",
    "    # Filter list of numbers by keeping numbers from 10 to 20 in the list only\n",
    "    listofNum = list(filter(lambda x : x > 10 and x < 20, listofNum))\n",
    "    print('Filtered List : ', listofNum)\n",
    " \n",
    "    print('*** Using if, elif & else in Lambda function ***')\n",
    " \n",
    "    # Lambda function with if, elif & else i.e.\n",
    "    # If the given value is less than 10 then Multiplies it by 2\n",
    "    # else if it's between 10 to 20 the multiplies it by 3\n",
    "    # else returns the unmodified same value\n",
    "    converter = lambda x : x*2 if x < 10 else (x*3 if x < 20 else x)\n",
    " \n",
    "    print('convert 5 to : ', converter(5))\n",
    "    print('convert 13 to : ', converter(13))\n",
    "    print('convert 23 to : ', converter(23))\n",
    " \n",
    "if __name__ == '__main__':\n",
    "    main()"
   ]
  },
  {
   "cell_type": "code",
   "execution_count": null,
   "metadata": {},
   "outputs": [],
   "source": []
  }
 ],
 "metadata": {
  "kernelspec": {
   "display_name": "Python 3",
   "language": "python",
   "name": "python3"
  },
  "language_info": {
   "codemirror_mode": {
    "name": "ipython",
    "version": 3
   },
   "file_extension": ".py",
   "mimetype": "text/x-python",
   "name": "python",
   "nbconvert_exporter": "python",
   "pygments_lexer": "ipython3",
   "version": "3.7.4"
  }
 },
 "nbformat": 4,
 "nbformat_minor": 2
}
